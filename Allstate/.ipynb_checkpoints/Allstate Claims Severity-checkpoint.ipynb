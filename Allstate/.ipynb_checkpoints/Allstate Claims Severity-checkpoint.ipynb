{
 "cells": [
  {
   "cell_type": "markdown",
   "metadata": {},
   "source": [
    "# Allstate Claims Severity"
   ]
  },
  {
   "cell_type": "code",
   "execution_count": 1,
   "metadata": {
    "collapsed": false
   },
   "outputs": [],
   "source": [
    "import numpy as np\n",
    "import pandas as pd\n",
    "import seaborn as sns\n",
    "import xgboost\n",
    "import math\n",
    "from sklearn.metrics import mean_absolute_error\n",
    "from sklearn.metrics import make_scorer\n",
    "#import sklearn.cross_validation\n",
    "from sklearn.cross_validation import train_test_split\n",
    "from sklearn.grid_search import GridSearchCV\n",
    "from sklearn.neighbors import KNeighborsRegressor\n",
    "from sklearn.preprocessing import LabelEncoder\n",
    "from sklearn.preprocessing import OneHotEncoder\n",
    "import matplotlib.pyplot as plt\n",
    "%matplotlib inline"
   ]
  },
  {
   "cell_type": "code",
   "execution_count": 2,
   "metadata": {
    "collapsed": true
   },
   "outputs": [],
   "source": [
    "# \"../input/train.csv\"\n",
    "TRAIN_PATH = \"/Users/lordlavon/Desktop/train.csv\"\n",
    "\n",
    "# \"../input/test.csv\"\n",
    "TEST_PATH = \"/Users/lordlavon/Desktop/test.csv\"\n",
    "\n",
    "SPLIT = 116"
   ]
  },
  {
   "cell_type": "markdown",
   "metadata": {},
   "source": [
    "## Data preparation"
   ]
  },
  {
   "cell_type": "markdown",
   "metadata": {},
   "source": [
    "Import the data"
   ]
  },
  {
   "cell_type": "code",
   "execution_count": 3,
   "metadata": {
    "collapsed": false
   },
   "outputs": [],
   "source": [
    "train = pd.read_csv(TRAIN_PATH) \n",
    "test = pd.read_csv(TEST_PATH)"
   ]
  },
  {
   "cell_type": "code",
   "execution_count": 4,
   "metadata": {
    "collapsed": false
   },
   "outputs": [],
   "source": [
    "# save ids for submission file\n",
    "ids = test['id']"
   ]
  },
  {
   "cell_type": "code",
   "execution_count": 5,
   "metadata": {
    "collapsed": false
   },
   "outputs": [
    {
     "name": "stdout",
     "output_type": "stream",
     "text": [
      "   id cat1 cat2 cat3 cat4 cat5 cat6 cat7 cat8 cat9   ...        cont6  \\\n",
      "0   1    A    B    A    B    A    A    A    A    B   ...     0.718367   \n",
      "1   2    A    B    A    A    A    A    A    A    B   ...     0.438917   \n",
      "2   5    A    B    A    A    B    A    A    A    B   ...     0.289648   \n",
      "3  10    B    B    A    B    A    A    A    A    B   ...     0.440945   \n",
      "4  11    A    B    A    B    A    A    A    A    B   ...     0.178193   \n",
      "\n",
      "      cont7    cont8    cont9   cont10    cont11    cont12    cont13  \\\n",
      "0  0.335060  0.30260  0.67135  0.83510  0.569745  0.594646  0.822493   \n",
      "1  0.436585  0.60087  0.35127  0.43919  0.338312  0.366307  0.611431   \n",
      "2  0.315545  0.27320  0.26076  0.32446  0.381398  0.373424  0.195709   \n",
      "3  0.391128  0.31796  0.32128  0.44467  0.327915  0.321570  0.605077   \n",
      "4  0.247408  0.24564  0.22089  0.21230  0.204687  0.202213  0.246011   \n",
      "\n",
      "     cont14     loss  \n",
      "0  0.714843  2213.18  \n",
      "1  0.304496  1283.60  \n",
      "2  0.774425  3005.09  \n",
      "3  0.602642   939.85  \n",
      "4  0.432606  2763.85  \n",
      "\n",
      "[5 rows x 132 columns]\n"
     ]
    }
   ],
   "source": [
    "# take a look at training data\n",
    "print(train.head(5))"
   ]
  },
  {
   "cell_type": "code",
   "execution_count": 6,
   "metadata": {
    "collapsed": false
   },
   "outputs": [
    {
     "name": "stdout",
     "output_type": "stream",
     "text": [
      "   id cat1 cat2 cat3 cat4 cat5 cat6 cat7 cat8 cat9    ...        cont5  \\\n",
      "0   4    A    B    A    A    A    A    A    A    B    ...     0.281143   \n",
      "1   6    A    B    A    B    A    A    A    A    B    ...     0.836443   \n",
      "2   9    A    B    A    B    B    A    B    A    B    ...     0.718531   \n",
      "3  12    A    A    A    A    B    A    A    A    A    ...     0.397069   \n",
      "4  15    B    A    A    A    A    B    A    A    A    ...     0.302678   \n",
      "\n",
      "      cont6     cont7    cont8    cont9   cont10    cont11    cont12  \\\n",
      "0  0.466591  0.317681  0.61229  0.34365  0.38016  0.377724  0.369858   \n",
      "1  0.482425  0.443760  0.71330  0.51890  0.60401  0.689039  0.675759   \n",
      "2  0.212308  0.325779  0.29758  0.34365  0.30529  0.245410  0.241676   \n",
      "3  0.369930  0.342355  0.40028  0.33237  0.31480  0.348867  0.341872   \n",
      "4  0.398862  0.391833  0.23688  0.43731  0.50556  0.359572  0.352251   \n",
      "\n",
      "     cont13    cont14  \n",
      "0  0.704052  0.392562  \n",
      "1  0.453468  0.208045  \n",
      "2  0.258586  0.297232  \n",
      "3  0.592264  0.555955  \n",
      "4  0.301535  0.825823  \n",
      "\n",
      "[5 rows x 131 columns]\n"
     ]
    }
   ],
   "source": [
    "# take a look at testing data\n",
    "print(test.head(5))"
   ]
  },
  {
   "cell_type": "markdown",
   "metadata": {},
   "source": [
    "Data Analysis"
   ]
  },
  {
   "cell_type": "code",
   "execution_count": 7,
   "metadata": {
    "collapsed": false
   },
   "outputs": [
    {
     "name": "stdout",
     "output_type": "stream",
     "text": [
      "The size of training data is: \n",
      "(188318, 132)\n",
      "Description of training data is: \n",
      "                  id          cont1          cont2          cont3  \\\n",
      "count  188318.000000  188318.000000  188318.000000  188318.000000   \n",
      "mean   294135.982561       0.493861       0.507188       0.498918   \n",
      "std    169336.084867       0.187640       0.207202       0.202105   \n",
      "min         1.000000       0.000016       0.001149       0.002634   \n",
      "25%    147748.250000       0.346090       0.358319       0.336963   \n",
      "50%    294539.500000       0.475784       0.555782       0.527991   \n",
      "75%    440680.500000       0.623912       0.681761       0.634224   \n",
      "max    587633.000000       0.984975       0.862654       0.944251   \n",
      "\n",
      "               cont4          cont5          cont6          cont7  \\\n",
      "count  188318.000000  188318.000000  188318.000000  188318.000000   \n",
      "mean        0.491812       0.487428       0.490945       0.484970   \n",
      "std         0.211292       0.209027       0.205273       0.178450   \n",
      "min         0.176921       0.281143       0.012683       0.069503   \n",
      "25%         0.327354       0.281143       0.336105       0.350175   \n",
      "50%         0.452887       0.422268       0.440945       0.438285   \n",
      "75%         0.652072       0.643315       0.655021       0.591045   \n",
      "max         0.954297       0.983674       0.997162       1.000000   \n",
      "\n",
      "               cont8          cont9         cont10         cont11  \\\n",
      "count  188318.000000  188318.000000  188318.000000  188318.000000   \n",
      "mean        0.486437       0.485506       0.498066       0.493511   \n",
      "std         0.199370       0.181660       0.185877       0.209737   \n",
      "min         0.236880       0.000080       0.000000       0.035321   \n",
      "25%         0.312800       0.358970       0.364580       0.310961   \n",
      "50%         0.441060       0.441450       0.461190       0.457203   \n",
      "75%         0.623580       0.566820       0.614590       0.678924   \n",
      "max         0.980200       0.995400       0.994980       0.998742   \n",
      "\n",
      "              cont12         cont13         cont14           loss  \n",
      "count  188318.000000  188318.000000  188318.000000  188318.000000  \n",
      "mean        0.493150       0.493138       0.495717    3037.337686  \n",
      "std         0.209427       0.212777       0.222488    2904.086186  \n",
      "min         0.036232       0.000228       0.179722       0.670000  \n",
      "25%         0.311661       0.315758       0.294610    1204.460000  \n",
      "50%         0.462286       0.363547       0.407403    2115.570000  \n",
      "75%         0.675759       0.689974       0.724623    3864.045000  \n",
      "max         0.998484       0.988494       0.844848  121012.250000  \n",
      "Skewness of training data is: \n",
      "id       -0.002155\n",
      "cont1     0.516424\n",
      "cont2    -0.310941\n",
      "cont3    -0.010002\n",
      "cont4     0.416096\n",
      "cont5     0.681622\n",
      "cont6     0.461214\n",
      "cont7     0.826053\n",
      "cont8     0.676634\n",
      "cont9     1.072429\n",
      "cont10    0.355001\n",
      "cont11    0.280821\n",
      "cont12    0.291992\n",
      "cont13    0.380742\n",
      "cont14    0.248674\n",
      "loss      3.794958\n",
      "dtype: float64\n"
     ]
    }
   ],
   "source": [
    "print(\"The size of training data is: \")\n",
    "print train.shape\n",
    "print (\"Description of training data is: \")\n",
    "print train.describe()\n",
    "print (\"Skewness of training data is: \")\n",
    "print train.skew()"
   ]
  },
  {
   "cell_type": "markdown",
   "metadata": {},
   "source": [
    "We can notice that loss has the largest variance and skewness as well. Reduce the skewness by implementing data transformation. Let's take log of the loss column."
   ]
  },
  {
   "cell_type": "code",
   "execution_count": 4,
   "metadata": {
    "collapsed": true
   },
   "outputs": [],
   "source": [
    "train[\"loss\"] = np.log(train[\"loss\"])"
   ]
  },
  {
   "cell_type": "code",
   "execution_count": 9,
   "metadata": {
    "collapsed": false
   },
   "outputs": [
    {
     "data": {
      "image/png": "[encoded data removed]",
      "text/plain": [
       "<matplotlib.figure.Figure at 0x104714850>"
      ]
     },
     "metadata": {},
     "output_type": "display_data"
    },
    {
     "name": "stdout",
     "output_type": "stream",
     "text": [
      "Skewness of transformed loss now is: \n",
      "0.0929745455514\n"
     ]
    }
   ],
   "source": [
    "# visualize the transformed column\n",
    "sns.violinplot(data=train,y=\"loss\")  \n",
    "plt.show()\n",
    "print (\"Skewness of transformed loss now is: \")\n",
    "print train[\"loss\"].skew()"
   ]
  },
  {
   "cell_type": "markdown",
   "metadata": {},
   "source": [
    "Encoding"
   ]
  },
  {
   "cell_type": "code",
   "execution_count": 5,
   "metadata": {
    "collapsed": false
   },
   "outputs": [],
   "source": [
    "# Convert string value to numeric value\n",
    "def encode(data):\n",
    "    \"\"\"Encode categorical integer features using one-of-K scheme.\n",
    "    The output will be a sparse matrix where each column corresponds to one possible value of one feature.\"\"\"\n",
    "    \n",
    "    # remove id column\n",
    "    reduced_data = data.iloc[:,1:]\n",
    "    labels = []\n",
    "    cats = []\n",
    "    cols = reduced_data.columns\n",
    "    \n",
    "    for i in range(0, SPLIT):\n",
    "        reduced_labels = reduced_data[cols[i]].unique()\n",
    "        labels.append(list(set(reduced_labels)))    \n",
    "\n",
    "    \n",
    "    for i in range(0, SPLIT):\n",
    "        #Label encode\n",
    "        label_encoder = LabelEncoder()\n",
    "        label_encoder.fit(labels[i])\n",
    "        feature = label_encoder.transform(reduced_data.iloc[:,i])\n",
    "        feature = feature.reshape(reduced_data.shape[0], 1)\n",
    "        #One hot encode\n",
    "        onehot_encoder = OneHotEncoder(sparse=False,n_values=len(labels[i]))\n",
    "        feature = onehot_encoder.fit_transform(feature)\n",
    "        cats.append(feature)\n",
    "\n",
    "    # Make a 2D array from a list of 1D arrays\n",
    "    encoded_cats = np.column_stack(cats)\n",
    "    encoded_data = np.concatenate((encoded_cats, reduced_data.iloc[:,SPLIT:].values),axis=1)\n",
    "    return encoded_data"
   ]
  },
  {
   "cell_type": "code",
   "execution_count": 6,
   "metadata": {
    "collapsed": false
   },
   "outputs": [],
   "source": [
    "train = encode(train)"
   ]
  },
  {
   "cell_type": "code",
   "execution_count": 13,
   "metadata": {
    "collapsed": true
   },
   "outputs": [],
   "source": [
    "test = encode(test)"
   ]
  },
  {
   "cell_type": "code",
   "execution_count": 8,
   "metadata": {
    "collapsed": true
   },
   "outputs": [],
   "source": [
    "train_labels = train[:, -1]\n",
    "train_features = train[:, :-1]"
   ]
  },
  {
   "cell_type": "code",
   "execution_count": 9,
   "metadata": {
    "collapsed": false
   },
   "outputs": [],
   "source": [
    "# seperate training and testing data by \n",
    "features_train, features_test, labels_train, labels_test = train_test_split(train_features, train_labels, test_size=0.25, random_state=42)"
   ]
  },
  {
   "cell_type": "markdown",
   "metadata": {
    "collapsed": true
   },
   "source": [
    "## Learning"
   ]
  },
  {
   "cell_type": "markdown",
   "metadata": {
    "collapsed": true
   },
   "source": [
    "This is a regression problem since we need to predict on the loss value"
   ]
  },
  {
   "cell_type": "code",
   "execution_count": 10,
   "metadata": {
    "collapsed": true
   },
   "outputs": [],
   "source": [
    "def meanAbsoluteError(predictedY, actualY):\n",
    "    \"\"\"Return the mean absolute error of a algorithm.\"\"\"\n",
    "    #answer = np.array(answer)\n",
    "    #prediction = np.array(predictedY)\n",
    "    error = predictedY - actualY\n",
    "    return np.sum(np.absolute(error))/error.shape[0]"
   ]
  },
  {
   "cell_type": "markdown",
   "metadata": {},
   "source": [
    "Let's try several regression algorithms to find a baseline."
   ]
  },
  {
   "cell_type": "markdown",
   "metadata": {},
   "source": [
    "### Linear Regression"
   ]
  },
  {
   "cell_type": "markdown",
   "metadata": {},
   "source": [
    "Least square estimation solution"
   ]
  },
  {
   "cell_type": "code",
   "execution_count": 108,
   "metadata": {
    "collapsed": false
   },
   "outputs": [
    {
     "ename": "LinAlgError",
     "evalue": "Singular matrix",
     "output_type": "error",
     "traceback": [
      "\u001b[0;31m---------------------------------------------------------------------------\u001b[0m",
      "\u001b[0;31mLinAlgError\u001b[0m                               Traceback (most recent call last)",
      "\u001b[0;32m<ipython-input-108-5f0017fd0f2f>\u001b[0m in \u001b[0;36m<module>\u001b[0;34m()\u001b[0m\n\u001b[0;32m----> 1\u001b[0;31m \u001b[0mweight\u001b[0m \u001b[0;34m=\u001b[0m \u001b[0mnp\u001b[0m\u001b[0;34m.\u001b[0m\u001b[0mdot\u001b[0m\u001b[0;34m(\u001b[0m\u001b[0mnp\u001b[0m\u001b[0;34m.\u001b[0m\u001b[0mdot\u001b[0m\u001b[0;34m(\u001b[0m\u001b[0mnp\u001b[0m\u001b[0;34m.\u001b[0m\u001b[0mlinalg\u001b[0m\u001b[0;34m.\u001b[0m\u001b[0minv\u001b[0m\u001b[0;34m(\u001b[0m\u001b[0mnp\u001b[0m\u001b[0;34m.\u001b[0m\u001b[0mdot\u001b[0m\u001b[0;34m(\u001b[0m\u001b[0mnp\u001b[0m\u001b[0;34m.\u001b[0m\u001b[0mtranspose\u001b[0m\u001b[0;34m(\u001b[0m\u001b[0mtrain_features\u001b[0m\u001b[0;34m)\u001b[0m\u001b[0;34m,\u001b[0m \u001b[0mtrain_features\u001b[0m\u001b[0;34m)\u001b[0m\u001b[0;34m)\u001b[0m\u001b[0;34m,\u001b[0m \u001b[0mnp\u001b[0m\u001b[0;34m.\u001b[0m\u001b[0mtranspose\u001b[0m\u001b[0;34m(\u001b[0m\u001b[0mtrain_features\u001b[0m\u001b[0;34m)\u001b[0m\u001b[0;34m)\u001b[0m\u001b[0;34m,\u001b[0m\u001b[0mtrain_labels\u001b[0m\u001b[0;34m)\u001b[0m\u001b[0;34m\u001b[0m\u001b[0m\n\u001b[0m",
      "\u001b[0;32m/Users/lordlavon/anaconda/lib/python2.7/site-packages/numpy/linalg/linalg.pyc\u001b[0m in \u001b[0;36minv\u001b[0;34m(a)\u001b[0m\n\u001b[1;32m    524\u001b[0m     \u001b[0msignature\u001b[0m \u001b[0;34m=\u001b[0m \u001b[0;34m'D->D'\u001b[0m \u001b[0;32mif\u001b[0m \u001b[0misComplexType\u001b[0m\u001b[0;34m(\u001b[0m\u001b[0mt\u001b[0m\u001b[0;34m)\u001b[0m \u001b[0;32melse\u001b[0m \u001b[0;34m'd->d'\u001b[0m\u001b[0;34m\u001b[0m\u001b[0m\n\u001b[1;32m    525\u001b[0m     \u001b[0mextobj\u001b[0m \u001b[0;34m=\u001b[0m \u001b[0mget_linalg_error_extobj\u001b[0m\u001b[0;34m(\u001b[0m\u001b[0m_raise_linalgerror_singular\u001b[0m\u001b[0;34m)\u001b[0m\u001b[0;34m\u001b[0m\u001b[0m\n\u001b[0;32m--> 526\u001b[0;31m     \u001b[0mainv\u001b[0m \u001b[0;34m=\u001b[0m \u001b[0m_umath_linalg\u001b[0m\u001b[0;34m.\u001b[0m\u001b[0minv\u001b[0m\u001b[0;34m(\u001b[0m\u001b[0ma\u001b[0m\u001b[0;34m,\u001b[0m \u001b[0msignature\u001b[0m\u001b[0;34m=\u001b[0m\u001b[0msignature\u001b[0m\u001b[0;34m,\u001b[0m \u001b[0mextobj\u001b[0m\u001b[0;34m=\u001b[0m\u001b[0mextobj\u001b[0m\u001b[0;34m)\u001b[0m\u001b[0;34m\u001b[0m\u001b[0m\n\u001b[0m\u001b[1;32m    527\u001b[0m     \u001b[0;32mreturn\u001b[0m \u001b[0mwrap\u001b[0m\u001b[0;34m(\u001b[0m\u001b[0mainv\u001b[0m\u001b[0;34m.\u001b[0m\u001b[0mastype\u001b[0m\u001b[0;34m(\u001b[0m\u001b[0mresult_t\u001b[0m\u001b[0;34m,\u001b[0m \u001b[0mcopy\u001b[0m\u001b[0;34m=\u001b[0m\u001b[0mFalse\u001b[0m\u001b[0;34m)\u001b[0m\u001b[0;34m)\u001b[0m\u001b[0;34m\u001b[0m\u001b[0m\n\u001b[1;32m    528\u001b[0m \u001b[0;34m\u001b[0m\u001b[0m\n",
      "\u001b[0;32m/Users/lordlavon/anaconda/lib/python2.7/site-packages/numpy/linalg/linalg.pyc\u001b[0m in \u001b[0;36m_raise_linalgerror_singular\u001b[0;34m(err, flag)\u001b[0m\n\u001b[1;32m     88\u001b[0m \u001b[0;34m\u001b[0m\u001b[0m\n\u001b[1;32m     89\u001b[0m \u001b[0;32mdef\u001b[0m \u001b[0m_raise_linalgerror_singular\u001b[0m\u001b[0;34m(\u001b[0m\u001b[0merr\u001b[0m\u001b[0;34m,\u001b[0m \u001b[0mflag\u001b[0m\u001b[0;34m)\u001b[0m\u001b[0;34m:\u001b[0m\u001b[0;34m\u001b[0m\u001b[0m\n\u001b[0;32m---> 90\u001b[0;31m     \u001b[0;32mraise\u001b[0m \u001b[0mLinAlgError\u001b[0m\u001b[0;34m(\u001b[0m\u001b[0;34m\"Singular matrix\"\u001b[0m\u001b[0;34m)\u001b[0m\u001b[0;34m\u001b[0m\u001b[0m\n\u001b[0m\u001b[1;32m     91\u001b[0m \u001b[0;34m\u001b[0m\u001b[0m\n\u001b[1;32m     92\u001b[0m \u001b[0;32mdef\u001b[0m \u001b[0m_raise_linalgerror_nonposdef\u001b[0m\u001b[0;34m(\u001b[0m\u001b[0merr\u001b[0m\u001b[0;34m,\u001b[0m \u001b[0mflag\u001b[0m\u001b[0;34m)\u001b[0m\u001b[0;34m:\u001b[0m\u001b[0;34m\u001b[0m\u001b[0m\n",
      "\u001b[0;31mLinAlgError\u001b[0m: Singular matrix"
     ]
    }
   ],
   "source": [
    "weight = np.dot(np.dot(np.linalg.inv(np.dot(np.transpose(train_features), train_features)), np.transpose(train_features)),train_labels)"
   ]
  },
  {
   "cell_type": "markdown",
   "metadata": {},
   "source": [
    "np.transpose(train_features) * train_features is singular matrix. Let's try gradient descent instead."
   ]
  },
  {
   "cell_type": "code",
   "execution_count": 18,
   "metadata": {
    "collapsed": false
   },
   "outputs": [],
   "source": [
    "def computeError(weights, X, train_labels):\n",
    "    squaredError = (np.dot(X, weights)-train_labels)**2\n",
    "    error = (1.0 / (2 * train_labels.shape[0])) * np.sum(squaredError)\n",
    "    return error"
   ]
  },
  {
   "cell_type": "code",
   "execution_count": 19,
   "metadata": {
    "collapsed": true
   },
   "outputs": [],
   "source": [
    "def gradientDescent(train_features, train_labels, alpha, num_iters):\n",
    "    weights = np.zeros((train_features.shape[1]+1, 1))\n",
    "    \n",
    "    one = np.ones((train_features.shape[0], 1))\n",
    "    X = np.concatenate((train_features, one), axis = 1)\n",
    "    \n",
    "    seList = np.zeros((num_iters, 1))\n",
    "    \n",
    "    for i in range(num_iters):\n",
    "\n",
    "        predictions = np.dot(X, weights)\n",
    "\n",
    "        errors = (predictions - train_labels) * X[:, ]\n",
    "        #errors_x2 = (predictions - y) * X[:, 1]\n",
    "\n",
    "        #theta[0][0] = theta[0][0] - alpha * (1.0 / m) * errors_x1.sum()\n",
    "        weights = weights - alpha * (1.0 / train_labels.shape[0]) * np.sum(errors)\n",
    "\n",
    "        seList[i, 0] = computeError(weights, X, train_labels)\n",
    "\n",
    "    return weights, seList\n"
   ]
  },
  {
   "cell_type": "code",
   "execution_count": null,
   "metadata": {
    "collapsed": true
   },
   "outputs": [],
   "source": [
    "labels_train_LR = labels_train.reshape(labels_train.shape[0], 1)\n",
    "labels_test_LR = labels_test.reshape(labels_test.shape[0], 1)"
   ]
  },
  {
   "cell_type": "code",
   "execution_count": 20,
   "metadata": {
    "collapsed": false
   },
   "outputs": [],
   "source": [
    "weights, seList = gradientDescent(features_train, labels_train_LR, 0.005, 100)"
   ]
  },
  {
   "cell_type": "code",
   "execution_count": 21,
   "metadata": {
    "collapsed": false
   },
   "outputs": [
    {
     "data": {
      "text/plain": [
       "array([[  1.69507399e+005],\n",
       "       [  9.73034793e+008],\n",
       "       [  5.58558833e+012],\n",
       "       [  3.20633931e+016],\n",
       "       [  1.84056023e+020],\n",
       "       [  1.05655130e+024],\n",
       "       [  6.06500472e+027],\n",
       "       [  3.48154248e+031],\n",
       "       [  1.99853727e+035],\n",
       "       [  1.14723611e+039],\n",
       "       [  6.58556988e+042],\n",
       "       [  3.78036659e+046],\n",
       "       [  2.17007364e+050],\n",
       "       [  1.24570448e+054],\n",
       "       [  7.15081563e+057],\n",
       "       [  4.10483907e+061],\n",
       "       [  2.35633313e+065],\n",
       "       [  1.35262449e+069],\n",
       "       [  7.76457698e+072],\n",
       "       [  4.45716134e+076],\n",
       "       [  2.55857946e+080],\n",
       "       [  1.46872154e+084],\n",
       "       [  8.43101804e+087],\n",
       "       [  4.83972375e+091],\n",
       "       [  2.77818478e+095],\n",
       "       [  1.59478331e+099],\n",
       "       [  9.15466038e+102],\n",
       "       [  5.25512187e+106],\n",
       "       [  3.01663904e+110],\n",
       "       [  1.73166509e+114],\n",
       "       [  9.94041363e+117],\n",
       "       [  5.70617400e+121],\n",
       "       [  3.27556005e+125],\n",
       "       [  1.88029556e+129],\n",
       "       [  1.07936088e+133],\n",
       "       [  6.19594037e+136],\n",
       "       [  3.55670450e+140],\n",
       "       [  2.04168312e+144],\n",
       "       [  1.17200346e+148],\n",
       "       [  6.72774386e+151],\n",
       "       [  3.86197985e+155],\n",
       "       [  2.21692274e+159],\n",
       "       [  1.27259764e+163],\n",
       "       [  7.30519255e+166],\n",
       "       [  4.19345727e+170],\n",
       "       [  2.40720334e+174],\n",
       "       [  1.38182591e+178],\n",
       "       [  7.93220421e+181],\n",
       "       [  4.55338572e+185],\n",
       "       [  2.61381590e+189],\n",
       "       [  1.50042935e+193],\n",
       "       [  8.61303288e+196],\n",
       "       [  4.94420717e+200],\n",
       "       [  2.83816222e+204],\n",
       "       [  1.62921263e+208],\n",
       "       [  9.35229772e+211],\n",
       "       [  5.36857319e+215],\n",
       "       [  3.08176440e+219],\n",
       "       [  1.76904951e+223],\n",
       "       [  1.01550144e+227],\n",
       "       [  5.82936296e+230],\n",
       "       [  3.34627518e+234],\n",
       "       [  1.92088872e+238],\n",
       "       [  1.10266290e+242],\n",
       "       [  6.32970276e+245],\n",
       "       [  3.63348918e+249],\n",
       "       [  2.08576044e+253],\n",
       "       [  1.19730551e+257],\n",
       "       [  6.87298720e+260],\n",
       "       [  3.94535503e+264],\n",
       "       [  2.26478325e+268],\n",
       "       [  1.30007138e+272],\n",
       "       [  7.46290226e+275],\n",
       "       [  4.28398862e+279],\n",
       "       [  2.45917176e+283],\n",
       "       [  1.41165775e+287],\n",
       "       [  8.10345030e+290],\n",
       "       [  4.65168746e+294],\n",
       "       [  2.67024483e+298],\n",
       "       [  1.53282169e+302],\n",
       "       [              inf],\n",
       "       [              inf],\n",
       "       [              inf],\n",
       "       [              inf],\n",
       "       [              inf],\n",
       "       [              inf],\n",
       "       [              inf],\n",
       "       [              inf],\n",
       "       [              inf],\n",
       "       [              inf],\n",
       "       [              inf],\n",
       "       [              inf],\n",
       "       [              inf],\n",
       "       [              inf],\n",
       "       [              inf],\n",
       "       [              inf],\n",
       "       [              inf],\n",
       "       [              inf],\n",
       "       [              inf],\n",
       "       [              inf]])"
      ]
     },
     "execution_count": 21,
     "metadata": {},
     "output_type": "execute_result"
    }
   ],
   "source": [
    "seList"
   ]
  },
  {
   "cell_type": "code",
   "execution_count": 22,
   "metadata": {
    "collapsed": false
   },
   "outputs": [
    {
     "data": {
      "text/plain": [
       "array([[ -5.48995676e+186],\n",
       "       [ -5.48995676e+186],\n",
       "       [ -5.48995676e+186],\n",
       "       ..., \n",
       "       [ -5.48995676e+186],\n",
       "       [ -5.48995676e+186],\n",
       "       [ -5.48995676e+186]])"
      ]
     },
     "execution_count": 22,
     "metadata": {},
     "output_type": "execute_result"
    }
   ],
   "source": [
    "weights"
   ]
  },
  {
   "cell_type": "code",
   "execution_count": 24,
   "metadata": {
    "collapsed": false
   },
   "outputs": [
    {
     "name": "stdout",
     "output_type": "stream",
     "text": [
      "6.80248764211e+188\n"
     ]
    }
   ],
   "source": [
    "# since we have noticed that the value of weights are the same, lets use partition of weights to fit the dimension of test data\n",
    "one = np.ones((features_test.shape[0], 1))\n",
    "X = np.concatenate((features_test, one), axis = 1)\n",
    "predictedY = np.dot(X, weights)\n",
    "\n",
    "error = meanAbsoluteError(predictedY, labels_test_LR)\n",
    "print error"
   ]
  },
  {
   "cell_type": "markdown",
   "metadata": {},
   "source": [
    "### K Nearest Neighbor (Non Linear Regression)"
   ]
  },
  {
   "cell_type": "code",
   "execution_count": 10,
   "metadata": {
    "collapsed": false
   },
   "outputs": [],
   "source": [
    "knn = KNeighborsRegressor(n_neighbors=2)\n",
    "knn.fit(features_train, labels_train) \n",
    "predictedY = knn.predict(features_test)"
   ]
  },
  {
   "cell_type": "code",
   "execution_count": 11,
   "metadata": {
    "collapsed": false
   },
   "outputs": [
    {
     "name": "stdout",
     "output_type": "stream",
     "text": [
      "0.579777626158\n"
     ]
    }
   ],
   "source": [
    "print meanAbsoluteError(predictedY, labels_test)"
   ]
  },
  {
   "cell_type": "markdown",
   "metadata": {},
   "source": [
    "### Advanced solution by Ekaterina Aladyeva on Kaggle using xgboost"
   ]
  },
  {
   "cell_type": "code",
   "execution_count": 11,
   "metadata": {
    "collapsed": false
   },
   "outputs": [],
   "source": [
    "#train_X = features_train.as_matrix()\n",
    "#test_X = features_test.as_matrix()\n",
    "#train_y = labels_train.as_matrix()\n",
    "\n",
    "\n",
    "gbm = xgboost.XGBRegressor(max_depth=5, n_estimators=300, learning_rate=0.05).fit(features_train, labels_train)\n",
    "predictedY = gbm.predict(features_test)"
   ]
  },
  {
   "cell_type": "code",
   "execution_count": 12,
   "metadata": {
    "collapsed": false
   },
   "outputs": [
    {
     "name": "stdout",
     "output_type": "stream",
     "text": [
      "0.421825221453\n"
     ]
    }
   ],
   "source": [
    "error = meanAbsoluteError(predictedY, labels_test)\n",
    "print error"
   ]
  },
  {
   "cell_type": "markdown",
   "metadata": {},
   "source": [
    "### Improved algorithm"
   ]
  },
  {
   "cell_type": "markdown",
   "metadata": {},
   "source": [
    "I choose to improve the algorithm by cross validation and grid search"
   ]
  },
  {
   "cell_type": "code",
   "execution_count": null,
   "metadata": {
    "collapsed": true
   },
   "outputs": [],
   "source": [
    "scoring_fnc = make_scorer(meanAbsoluteError, greater_is_better=False)\n",
    "tuned_parameters={'max_depth': [2, 5, 8], 'n_estimators': [100, 200, 300, 500]}\n",
    "gbm = GridSearchCV(xgboost.XGBRegressor(learning_rate = 0.05), tuned_parameters, cv=5, scoring= scoring_fnc)\n",
    "gbm.fit(features_train, labels_train)\n",
    "predictedY = gbm.predict(features_test)"
   ]
  },
  {
   "cell_type": "code",
   "execution_count": null,
   "metadata": {
    "collapsed": true
   },
   "outputs": [],
   "source": [
    "error = meanAbsoluteError(predictedY, labels_test)\n",
    "print error"
   ]
  }
 ],
 "metadata": {
  "anaconda-cloud": {},
  "kernelspec": {
   "display_name": "Python [conda root]",
   "language": "python",
   "name": "conda-root-py"
  },
  "language_info": {
   "codemirror_mode": {
    "name": "ipython",
    "version": 2
   },
   "file_extension": ".py",
   "mimetype": "text/x-python",
   "name": "python",
   "nbconvert_exporter": "python",
   "pygments_lexer": "ipython2",
   "version": "2.7.12"
  }
 },
 "nbformat": 4,
 "nbformat_minor": 1
}
