{
 "cells": [
  {
   "cell_type": "markdown",
   "metadata": {},
   "source": [
    "# Machine Learning Engineer Nanodegree\n",
    "## Model Evaluation & Validation\n",
    "## Project: Predicting Boston Housing Prices\n",
    "\n",
    "Welcome to the first project of the Machine Learning Engineer Nanodegree! In this notebook, some template code has already been provided for you, and you will need to implement additional functionality to successfully complete this project. You will not need to modify the included code beyond what is requested. Sections that begin with **'Implementation'** in the header indicate that the following block of code will require additional functionality which you must provide. Instructions will be provided for each section and the specifics of the implementation are marked in the code block with a 'TODO' statement. Please be sure to read the instructions carefully!\n",
    "\n",
    "In addition to implementing code, there will be questions that you must answer which relate to the project and your implementation. Each section where you will answer a question is preceded by a **'Question X'** header. Carefully read each question and provide thorough answers in the following text boxes that begin with **'Answer:'**. Your project submission will be evaluated based on your answers to each of the questions and the implementation you provide.  \n",
    "\n",
    ">**Note:** Code and Markdown cells can be executed using the **Shift + Enter** keyboard shortcut. In addition, Markdown cells can be edited by typically double-clicking the cell to enter edit mode."
   ]
  },
  {
   "cell_type": "markdown",
   "metadata": {},
   "source": [
    "## Getting Started\n",
    "In this project, you will evaluate the performance and predictive power of a model that has been trained and tested on data collected from homes in suburbs of Boston, Massachusetts. A model trained on this data that is seen as a *good fit* could then be used to make certain predictions about a home — in particular, its monetary value. This model would prove to be invaluable for someone like a real estate agent who could make use of such information on a daily basis.\n",
    "\n",
    "The dataset for this project originates from the [UCI Machine Learning Repository](https://archive.ics.uci.edu/ml/datasets/Housing). The Boston housing data was collected in 1978 and each of the 506 entries represent aggregated data about 14 features for homes from various suburbs in Boston, Massachusetts. For the purposes of this project, the following preprocessing steps have been made to the dataset:\n",
    "- 16 data points have an `'MEDV'` value of 50.0. These data points likely contain **missing or censored values** and have been removed.\n",
    "- 1 data point has an `'RM'` value of 8.78. This data point can be considered an **outlier** and has been removed.\n",
    "- The features `'RM'`, `'LSTAT'`, `'PTRATIO'`, and `'MEDV'` are essential. The remaining **non-relevant features** have been excluded.\n",
    "- The feature `'MEDV'` has been **multiplicatively scaled** to account for 35 years of market inflation.\n",
    "\n",
    "Run the code cell below to load the Boston housing dataset, along with a few of the necessary Python libraries required for this project. You will know the dataset loaded successfully if the size of the dataset is reported."
   ]
  },
  {
   "cell_type": "code",
   "execution_count": 2,
   "metadata": {
    "collapsed": false
   },
   "outputs": [
    {
     "name": "stdout",
     "output_type": "stream",
     "text": [
      "Boston housing dataset has 489 data points with 4 variables each.\n"
     ]
    }
   ],
   "source": [
    "# Import libraries necessary for this project\n",
    "import numpy as np\n",
    "import pandas as pd\n",
<<<<<<< HEAD
    "import visuals as vs # Supplementary code\n",
    "\n",
=======
    "from sklearn.cross_validation import ShuffleSplit\n",
>>>>>>> udacity/master
    "\n",
    "# Import supplementary visualizations code visuals.py\n",
    "import visuals as vs\n",
    "\n",
    "# Pretty display for notebooks\n",
    "%matplotlib inline\n",
    "\n",
    "# Load the Boston housing dataset\n",
    "data = pd.read_csv('housing.csv')\n",
    "prices = data['MEDV']\n",
    "features = data.drop('MEDV', axis = 1)\n",
    "    \n",
    "# Success\n",
    "print \"Boston housing dataset has {} data points with {} variables each.\".format(*data.shape)"
   ]
  },
  {
   "cell_type": "markdown",
   "metadata": {},
   "source": [
    "## Data Exploration\n",
    "In this first section of this project, you will make a cursory investigation about the Boston housing data and provide your observations. Familiarizing yourself with the data through an explorative process is a fundamental practice to help you better understand and justify your results.\n",
    "\n",
    "Since the main goal of this project is to construct a working model which has the capability of predicting the value of houses, we will need to separate the dataset into **features** and the **target variable**. The **features**, `'RM'`, `'LSTAT'`, and `'PTRATIO'`, give us quantitative information about each data point. The **target variable**, `'MEDV'`, will be the variable we seek to predict. These are stored in `features` and `prices`, respectively."
   ]
  },
  {
   "cell_type": "markdown",
   "metadata": {},
   "source": [
    "### Implementation: Calculate Statistics\n",
    "For your very first coding implementation, you will calculate descriptive statistics about the Boston housing prices. Since `numpy` has already been imported for you, use this library to perform the necessary calculations. These statistics will be extremely important later on to analyze various prediction results from the constructed model.\n",
    "\n",
    "In the code cell below, you will need to implement the following:\n",
    "- Calculate the minimum, maximum, mean, median, and standard deviation of `'MEDV'`, which is stored in `prices`.\n",
    "  - Store each calculation in their respective variable."
   ]
  },
  {
   "cell_type": "code",
   "execution_count": 3,
   "metadata": {
    "collapsed": false
   },
   "outputs": [
    {
     "name": "stdout",
     "output_type": "stream",
     "text": [
      "Statistics for Boston housing dataset:\n",
      "\n",
      "Minimum price: $105,000.00\n",
      "Maximum price: $1,024,800.00\n",
      "Mean price: $454,342.94\n",
      "Median price $438,900.00\n",
      "Standard deviation of prices: $165,171.13\n"
     ]
    }
   ],
   "source": [
    "# TODO: Minimum price of the data\n",
    "minimum_price = np.amin(prices)\n",
    "\n",
    "# TODO: Maximum price of the data\n",
    "maximum_price = np.amax(prices)\n",
    "\n",
    "# TODO: Mean price of the data\n",
    "mean_price = np.mean(prices)\n",
    "\n",
    "# TODO: Median price of the data\n",
    "median_price = np.median(prices)\n",
    "\n",
    "# TODO: Standard deviation of prices of the data\n",
    "std_price = np.std(prices)\n",
    "\n",
    "# Show the calculated statistics\n",
    "print \"Statistics for Boston housing dataset:\\n\"\n",
    "print \"Minimum price: ${:,.2f}\".format(minimum_price)\n",
    "print \"Maximum price: ${:,.2f}\".format(maximum_price)\n",
    "print \"Mean price: ${:,.2f}\".format(mean_price)\n",
    "print \"Median price ${:,.2f}\".format(median_price)\n",
    "print \"Standard deviation of prices: ${:,.2f}\".format(std_price)"
   ]
  },
  {
   "cell_type": "markdown",
   "metadata": {},
   "source": [
    "### Question 1 - Feature Observation\n",
    "As a reminder, we are using three features from the Boston housing dataset: `'RM'`, `'LSTAT'`, and `'PTRATIO'`. For each data point (neighborhood):\n",
    "- `'RM'` is the average number of rooms among homes in the neighborhood.\n",
    "- `'LSTAT'` is the percentage of homeowners in the neighborhood considered \"lower class\" (working poor).\n",
    "- `'PTRATIO'` is the ratio of students to teachers in primary and secondary schools in the neighborhood.\n",
    "\n",
    "_Using your intuition, for each of the three features above, do you think that an increase in the value of that feature would lead to an **increase** in the value of `'MEDV'` or a **decrease** in the value of `'MEDV'`? Justify your answer for each._  \n",
    "**Hint:** Would you expect a home that has an `'RM'` value of 6 be worth more or less than a home that has an `'RM'` value of 7?"
   ]
  },
  {
   "cell_type": "markdown",
   "metadata": {},
   "source": [
    "**Answer: **   `'MDEV'` increases when `'RM'` increases, because a home has more 'RM' worth more too. `'MDEV'` decreases when `'LSTAT'` increases, the higher LSTAT is, the lower is the net worth of people in the neighborhood, therefore MDEV decreases as LSTAT increases.`'MDEV'` decreases when `'PTRATIO'` increases, if there is not enough teacher in the neighborhood, the PTRATO will be very large, but MDEV will be small because people prefer neighborhoods with education resource."
   ]
  },
  {
   "cell_type": "markdown",
   "metadata": {},
   "source": [
    "----\n",
    "\n",
    "## Developing a Model\n",
    "In this second section of the project, you will develop the tools and techniques necessary for a model to make a prediction. Being able to make accurate evaluations of each model's performance through the use of these tools and techniques helps to greatly reinforce the confidence in your predictions."
   ]
  },
  {
   "cell_type": "markdown",
   "metadata": {},
   "source": [
    "### Implementation: Define a Performance Metric\n",
    "It is difficult to measure the quality of a given model without quantifying its performance over training and testing. This is typically done using some type of performance metric, whether it is through calculating some type of error, the goodness of fit, or some other useful measurement. For this project, you will be calculating the [*coefficient of determination*](http://stattrek.com/statistics/dictionary.aspx?definition=coefficient_of_determination), R<sup>2</sup>, to quantify your model's performance. The coefficient of determination for a model is a useful statistic in regression analysis, as it often describes how \"good\" that model is at making predictions. \n",
    "\n",
    "The values for R<sup>2</sup> range from 0 to 1, which captures the percentage of squared correlation between the predicted and actual values of the **target variable**. A model with an R<sup>2</sup> of 0 is no better than a model that always predicts the *mean* of the target variable, whereas a model with an R<sup>2</sup> of 1 perfectly predicts the target variable. Any value between 0 and 1 indicates what percentage of the target variable, using this model, can be explained by the **features**. _A model can be given a negative R<sup>2</sup> as well, which indicates that the model is **arbitrarily worse** than one that always predicts the mean of the target variable._\n",
    "\n",
    "For the `performance_metric` function in the code cell below, you will need to implement the following:\n",
    "- Use `r2_score` from `sklearn.metrics` to perform a performance calculation between `y_true` and `y_predict`.\n",
    "- Assign the performance score to the `score` variable."
   ]
  },
  {
   "cell_type": "code",
   "execution_count": 4,
   "metadata": {
    "collapsed": false
   },
   "outputs": [],
   "source": [
    "# TODO: Import 'r2_score'\n",
    "from sklearn.metrics import r2_score\n",
    "def performance_metric(y_true, y_predict):\n",
    "    \"\"\" Calculates and returns the performance score between \n",
    "        true and predicted values based on the metric chosen. \"\"\"\n",
    "    \n",
    "    # TODO: Calculate the performance score between 'y_true' and 'y_predict'\n",
    "    score = r2_score(y_true, y_predict) \n",
    "    \n",
    "    # Return the score\n",
    "    return score"
   ]
  },
  {
   "cell_type": "markdown",
   "metadata": {},
   "source": [
    "### Question 2 - Goodness of Fit\n",
    "Assume that a dataset contains five data points and a model made the following predictions for the target variable:\n",
    "\n",
    "| True Value | Prediction |\n",
    "| :-------------: | :--------: |\n",
    "| 3.0 | 2.5 |\n",
    "| -0.5 | 0.0 |\n",
    "| 2.0 | 2.1 |\n",
    "| 7.0 | 7.8 |\n",
    "| 4.2 | 5.3 |\n",
    "*Would you consider this model to have successfully captured the variation of the target variable? Why or why not?* \n",
    "\n",
    "Run the code cell below to use the `performance_metric` function and calculate this model's coefficient of determination."
   ]
  },
  {
   "cell_type": "code",
   "execution_count": null,
   "metadata": {
    "collapsed": true
   },
   "outputs": [],
   "source": []
  },
  {
   "cell_type": "code",
   "execution_count": 5,
   "metadata": {
    "collapsed": false
   },
   "outputs": [
    {
     "name": "stdout",
     "output_type": "stream",
     "text": [
      "Model has a coefficient of determination, R^2, of 0.923.\n"
     ]
    }
   ],
   "source": [
    "# Calculate the performance of this model\n",
    "score = performance_metric([3, -0.5, 2, 7, 4.2], [2.5, 0.0, 2.1, 7.8, 5.3])\n",
    "print \"Model has a coefficient of determination, R^2, of {:.3f}.\".format(score)"
   ]
  },
  {
   "cell_type": "markdown",
   "metadata": {},
   "source": [
    "**Answer:** R^2 = 0.923, since R^2 is almost 1, so we can say the model have successfully captured the variation of the target variable."
   ]
  },
  {
   "cell_type": "markdown",
   "metadata": {},
   "source": [
    "### Implementation: Shuffle and Split Data\n",
    "Your next implementation requires that you take the Boston housing dataset and split the data into training and testing subsets. Typically, the data is also shuffled into a random order when creating the training and testing subsets to remove any bias in the ordering of the dataset.\n",
    "\n",
    "For the code cell below, you will need to implement the following:\n",
    "- Use `train_test_split` from `sklearn.cross_validation` to shuffle and split the `features` and `prices` data into training and testing sets.\n",
    "  - Split the data into 80% training and 20% testing.\n",
    "  - Set the `random_state` for `train_test_split` to a value of your choice. This ensures results are consistent.\n",
    "- Assign the train and testing splits to `X_train`, `X_test`, `y_train`, and `y_test`."
   ]
  },
  {
   "cell_type": "code",
   "execution_count": 6,
   "metadata": {
    "collapsed": false
   },
   "outputs": [
    {
     "name": "stdout",
     "output_type": "stream",
     "text": [
      "Training and testing split was successful.\n"
     ]
    }
   ],
   "source": [
    "# TODO: Import 'train_test_split'\n",
    "from sklearn.cross_validation import train_test_split\n",
    "# TODO: Shuffle and split the data into training and testing subsets\n",
    "X_train, X_test, y_train, y_test = train_test_split(features, prices, test_size=0.2, random_state=0)\n",
    "\n",
    "# Success\n",
    "print \"Training and testing split was successful.\""
   ]
  },
  {
   "cell_type": "markdown",
   "metadata": {},
   "source": [
    "### Question 3 - Training and Testing\n",
    "*What is the benefit to splitting a dataset into some ratio of training and testing subsets for a learning algorithm?*  \n",
    "**Hint:** What could go wrong with not having a way to test your model?"
   ]
  },
  {
   "cell_type": "markdown",
   "metadata": {},
   "source": [
    "**Answer: ** If we don't have testing data, we cannot make sure if our model is true or not, because after we get a model of fitting training data, the model may be overfitting or underfitting, so we need another set of data to verify if our model is adequate or not. By splitting a dataset into some ratio of training and testing subset, we make sure that the training data and testing data are independent and identical, thus if a model fitted from a training set can also be fitted to a testing set, we can say the model is good."
   ]
  },
  {
   "cell_type": "markdown",
   "metadata": {},
   "source": [
    "----\n",
    "\n",
    "## Analyzing Model Performance\n",
    "In this third section of the project, you'll take a look at several models' learning and testing performances on various subsets of training data. Additionally, you'll investigate one particular algorithm with an increasing `'max_depth'` parameter on the full training set to observe how model complexity affects performance. Graphing your model's performance based on varying criteria can be beneficial in the analysis process, such as visualizing behavior that may not have been apparent from the results alone."
   ]
  },
  {
   "cell_type": "markdown",
   "metadata": {},
   "source": [
    "### Learning Curves\n",
    "The following code cell produces four graphs for a decision tree model with different maximum depths. Each graph visualizes the learning curves of the model for both training and testing as the size of the training set is increased. Note that the shaded region of a learning curve denotes the uncertainty of that curve (measured as the standard deviation). The model is scored on both the training and testing sets using R<sup>2</sup>, the coefficient of determination.  \n",
    "\n",
    "Run the code cell below and use these graphs to answer the following question."
   ]
  },
  {
   "cell_type": "code",
   "execution_count": 7,
   "metadata": {
    "collapsed": false,
    "scrolled": false
   },
   "outputs": [
    {
     "data": {
      "image/png": "iVBORw0KGgoAAAANSUhEUgAAA1sAAAIMCAYAAAADwLb+AAAABHNCSVQICAgIfAhkiAAAAAlwSFlz\nAAALEgAACxIB0t1+/AAAIABJREFUeJzsnXl8FdXZx7/Pvdk3IEDCHtnEBcR9qa3VIlqVau1rrRSo\nWHcLKhbXKjG4K7ihWLfKa0Val2pVFAWs+rpVFEFrXSGEsCRAgBAC2e497x9n5mZyc2/ISnKT5/v5\nzOfOnDlz5sy5c8+d3zzPeY4YY1AURVEURVEURVFaF197V0BRFEVRFEVRFKUzomJLURRFURRFURSl\nDVCxpSiKoiiKoiiK0gao2FIURVEURVEURWkDVGwpiqIoiqIoiqK0ASq2FEVRFEVRFEVR2gAVW0qH\nQ0TOFZGgZ9kpIvki8g8R+XUbnztXRAJNPOZfIvJ2W9UpwvmeCmufSEtARI7bW3VqoK53hNVrt4is\nEJFL2rtusYyI3Cki1e1dj6YgIonOPXBNO5z747DfxnoReU1EDm2Dc90sImtFpEZEPmzt8hVFUZTY\nIq69K6AoUTDAWcB6IBEYBJwGLBCRi4BxxpjKNjjv48AbTTzm0jaoR0PMBB7xbF8I/B44Fgh60v+7\nNyvVADXYugnQE7gAmCsi5caYv7ZrzWIX4ywxgzGmUkSOBta2x+mBT4Cp2JeMg4EZwLsiMtoYs7o1\nTiIiP3HKvQV4HdjRGuUqiqIosYuKLaUjszLsIWi+iDwPvADcDVzR2ic0xmwANjTxmG9aux57OF8+\nkO9ui8gpzuonxphg5KNqEZEEY0xVW9UvEsaYZZ7zvwV8B/wB2Ktiqz2uvbl09LqKiA8QY0yjLcHG\nmE/asEp7YofnPvy3iHwGfAtcBFzXkoI939UBWGH3iDGmqEW1pePfA4qiKMqeUTdCJaYwxrwE/BO4\nUESS3HQRSRaRu0RktYhUOp83iIh4jxeRXiIy13HzqXA+nxaReGf/zSISDDvmChH5r4jsEpGtIrJM\nRM7w7H8n3I1QRPYVkZdEZJtz3EcicnJYnpsdt6ZhjktTmYisEZGbWqu9RORk5xzjHPfDLcAaz/7D\nnHO79XzXsT6El3Oi4y5Z5iyvich+zamT83D+JTA0wnkaW5+rRaTAyfOBiBwuIhtFZK4nzyXOtR8t\n1gV1O/BOU67JabePRKTUyfNfrxuciOwvIq+IyCbHRbJARBaElbG/iLwqItud+r4vIj8Ly3OniFSL\nyIEiskREyoD/bXLj1m+n34jIv0Wk3Ll3F4hIv7A8k5x7eJOI7BCRT0VkfFge1wXwJhG5UUTWAJXA\nMM89drKI/FlESkSk2Lnf0iKU4W0/97qHicgisS7Dq0WknvgRkSNF5EOnndeIyB+d43c3p22MMd8D\nZcAwzzmyRORxEdkgtn/4SkQmh9Uj0n31roh8RK3FeYNYd8VrnGO6icgjzj1aKSJfi8gfwsqN+lv1\ntNN+IrLU+T5Xi8gEZ//FIvK9c48uFpFBYWU35Tv+k4hc5bTxDud+3DfC93G289vY6fw+PhRPHyci\ncc798q3TloXOdcSH5blDRFY53+tmsb/5Ixr7PSqKonR01LKlxCKvA2cAhwPvi4gfeAvYD+ti9x/g\naKw7Tw/gagAR6Q58BHTHuvl8CWQ5ZSUA1YS5ZzkPM7OAm4H3gWTgICDTU5867lwi0hf4ACgFLsO6\nEv0BWCgipxlj3gw77h/AU8C9wC+APBFZa4xp8cO2h0eAV4FzgCSnnkcDb2Pb5PdABdbN6m0ROcIY\n85WT71fAc8CLwHjAD9wAvCcio4wxxc2ozz7AVm9CE+ozBbgLmIsV3vsCzwOpYedw23cBMB+Y49S9\nUdckIiOc/c9g76UaYDgw0HOORVi3uAud6xmAdXd1r2kQ8CFQDFwMlGMtsm+KyFhjzDueugrwMvAY\n9v5s0tjBcETkSmA28KhTf/e+f1tEDjbGVDhZBztt8T3WDfUE4GkRiTfGPB1W7MXAN841VACbsN8l\nwMNO/c8GRmK/owoadrN1r/tF4EmsxfpXwO0ikm+M+btzLX2AxcAq4LdOPa/Gtnez3ClFpDeQDmx3\ntrsDHztl3wAUYr/LJ0XEb4x50lNnqH9frcfet1cBpwDbgLVh/dOfsNa0M4A5ItLDGHNrWNXq/VY9\n7fR34M/AHcDl2O/pUOBQYBqQAjwIPA0c7ymzKd/x+cBX2D4rBXsP/QP7nbptNx37Xf0duBPYDRwG\n5HjKeR4YA9wGLHOOvwXoD0xy8uRi74/rnHN2A46kbv+qKIoS2xhjdNGlQy3AudgHzSFR9p+EfWD4\ntbM9ycl/bFi+G7APe72c7ZlYQXVQA+fOBQKe7TnAp3uo77+Atz3bs4AqYLAnzYd9SP00/FzA78LK\n+wJY1IT2csvxRdh3stNWz0TY9wGwHOsK5qb5gR+AZ51twYqJV8OO7Y59mLx9D3W7w2kLv7NkYYVr\nALimGfWJAzYCz4cdO965zrmetIudtFvD8jbqmoAJWIEVH+Xa+jvln9jA9T+EfRDt70mLA1YD74e1\nUwC4oJHf+R1AVQP7uwE7gTlh6cOc38BFUY4Tp82fBj7ypCc617oa8Ee5x+aGpT8ObI9QxjVh1xEA\nzg479lvgZc/2vVih2suTlgqUALsa0V4fYcWa32n/fbEvbQLAWCfPbVhL18CwY58G1u3pvnL2/cEp\nM8uTdhae/sqT/lfnO0pvxG/Vbaf/8aT1dvJvBJI86Vc7eXs38zv+krq/wQlOeQc725nALuCvDbT3\nWKes/wlL/71T1ghne3Gk69VFF1106UyLuhEqsYjrGui+YT4ZKAA+FhG/u2D/yBOwVi6wDwDLjDFf\nNOFcy4CDReRBERkjIsmNOOYnwMfGjq2yFbVjqRY4ZaWF5X89bPs/2IAgrcnL3g0RSce2y3OAz9Nm\ngrUuuZEMR2KtB/PD2nYntm0aE/EwDvuAXw0UYa0sdxpj7m5GfQYD2dhxe15eJLKFw4RfO3BgI69p\nOfaB8QUROVNEeoaVUwSsA2aLyO9FZEiE8/8E+D9jzPpQhYypwVoEjhSRhLD84XVtLj/BWmGfDbvG\nNVjBFPreRGSEiDwnIuux4rIamAiMiFDu6yb6GK3w+/hLIF1EMhpR3/Bjv6Lub+Ao4D1jzBY3wRhT\njrUsNpYx2GurAr4GDgZ+b4xZ7Ow/GWu93hDWZm8BfUVkmKesSPdVNH6CdbkMv2efwX5HR4alN1Ru\n6HqNMZuxLwfeN7VWSrAvdcBjgW3id/ymMcb7W/oS+zt0v4+fYIXZ4w3U82Ts7+nVCH2yOGWA/b39\nUkTyROQYEVFvG0VROh0qtpRYZCD2YWejs52FdWWqDlv+7eRzH5J7Yh+OG42xLjaXYh+IFgFbReRF\nEclp4LBMT928FGEfNHqEpW8N266k1n2oNfC2lUtvpy63UbfNqrBuRJmefGDdpcLzjaFx7j41WBej\nI7AuYiuBSY67ZVPr09e5nk11LtAGESiNcv7wa89qzDUZY77GuoMlOnmLxY63+pGzP4B1x1qJdan6\nwRk383vPuRq6F/xYC5RL0CsmWkgWtj0/iHCNw3B+EyLSDViKtfT8ERs18nDs9Ua6ByNdC9jvJNJ9\nTJRyvASMMTsjHOs9ri9h37lDU1xY/429Dw8FBhhj+pm6rrpZWKt5eD/iutmFi+1obRFOJrApTMBA\nbX8Q7pIcrdyAIzC9VGEFV3ga1LoLN/U73tP36LZDQ31pFpCG9SzwtmUBdfvkm7G/+f/BCt0tIvKY\n49KpKIrSKdC3SEosMg77J/6Zs12CfVv/a2qtXl7WOJ9bsK5fTcIY8zjwuPPQchLWpelvwDFRDtkK\n9ImQ7gqF8IejvUH4g577QDUba3ELbzc3f4nz+UfgvQjlVkRIq39yYz53Vj8TG0jgG+xYotObWJ+N\nzr4s707HQtSNyIRfe6OvyRizFFjqlP9j4Hbs2LtBxpgyY8wq4HdOHQ4GrgSeEJFVxph3afheCFBX\nILZmKHf3Gs/BumGG44Yk/4lTl194viO3PSPRXuHmNxL2nTtEattolHmvMQIl2DFN04ncj4RHHW1s\nW2yl9qWFlz6e/c0pt7E09TveE+4Lgf7YfjcSJdh77AQit+V6CL0kuQO4Q0Sysf3BvUA8cF4z66co\nitKhULGlxBQi8j/YIBL3eVxnFmEtJuXGmO8aOPwt4E9OAIQvm3puY0wp8LwTyOGiBrK+C1zhPJCv\ndertA34DLI/wFn+vY4zZLiL/xo5fa2iS2S+xofD3N8bc30rnLhaR24E7ReTHxpj3m1CffKw149dY\nVzyXaEI7Ek2+Jueh8G0RmY0V2oOwrm7ePCtE5Gqs+BqJvQ/eBS4QkT7GCQXuuFP9Gutq2lZhvd/D\njhUbaox5roF8Kc5njZsgIllYi15H4mPgEhHp7bjP4bjjntzwYU1iEXa8aL4xZnsrlvsuMEVEzjQ2\nmqrLROzYp7YOh9/a3/H/YV9IXOSsR2IRNoBHkjHmo8YUamygncdF5Jd4gnEoiqLEOiq2lI6KAIc4\nEcMSsA+347APqW9ig1+4zAcmU/swvNI5ZhhWmJ3hCLP7sJHMlojIbdiH7t7Yt6kXR3DRQUQexQ6a\n/wjrxjQCG5DjzfC8Hu7DPrQtFpGbneMvc+pzahPboTWIJkKuxFptXgfmYd2aemNdjKqMMbnGmKAT\n/e85EUnFjo0qwb6VPxb41hgzN2LpDfMQNmrbLdi3342tT42I3IqN5DYXeAn7nfwRO0Zkj/OMNfaa\nRGQq1vVxEdZlKgt73xUA34gNT307dpzZKuzb+AuxblfvOKebhQ0w8LaI5GEfri/HusJ63Q2bgzgv\nH8JZZ4z5t9jw6bNEpD/2fi3DWiNOwI69+gf2YXkX8JiIzMRaB2/Ctv2AptSlBdfRGO7Btu1iEXEj\nNV6NvabEVjrH3Vh3tg9E5H7sXHDpwP7AUcaYs5pZ7j+xY5P+4nwXbjTC3wIzjDFlnryt1Y7eclrr\nOwbAGLNNRGYAdzsvDv7ulH8INiDKY8aYN0XkJeAVEbkX+NQ5fAi2D5xijCl0fuv/Bj7HRoU8AvgZ\n1sKtKIrSKVCxpXRUDPYhFmpDTC/HRi37R52M9gH8ZGz44AuxQRTKsQ/Ar+GMYTDGlDrjbW4FrsWO\nGyjGjmfwWhi8bjzvY91ZJmIfUjZgx3DcHKG+bn02isiPqQ1PngisAE71DMaPdK7GpEejofwR9zkP\n5EdhA1bMATKw7fwptfMFYYx5WUROwAqNJ7CD+jdiBWhj3srXO78xZrdj3bpfRE40xixpQn0edgKV\nTMWK7BVYd7m3iT5uK/z8jbmmz4ETsaGte2MF2TvYB+SAE2xgA9btrD/WkvQFcIpxwtQbY9Y698Kd\nWLfJeKfckx03wwbbaQ/4qP2NeHkR+zuZI3Y+rKuwLwjc8OTvYl80uPfqr7BC4wWsqLwXOwYyfNLw\nOtMiNLPukcrYY5nGmCIRGQPcjw0ssQkban4wta6ojTl39J1WRByFje55A9b1bhvWffDvDR27h3ID\nInIS9h64ATtGazVWcDwSnr2hoqKkRUt3z98a33GdNGPMbBFZh723nsX2n18BeZ5sv8a+QJmMFXcV\nWMv0m9S6ub4L/BL7W07CRgmdiW0rRVGUToHUH7OrKIoSWziC5j3grHAxrnROnMh1XwCrjDG/aO/6\nKIqiKEok1LKlKEpMISLDgQuwVscyYBRwPdYC8Wo7Vk1pQxxL6NdY60dv7HxX+9LwpMmKoiiK0q6o\n2FIUJdbYjZ0jaTJ2IuKtWNek64wx1e1YL6Vt8WFd/Pphx2ytAE6L4I6pKIqiKB0GdSNUFEVRFEVR\nFEVpA3RSY0VRFEVRFEVRlDZAxZaiKIqiKIqiKEoboGJLURRFURRFURSlDVCxpSiKoiiKoiiK0gao\n2FIURVEURVEURWkDVGwpiqIoiqIoiqK0ASq2FEVRFEVRFEVR2gAVW4qiKIqiKIqiKG2Aii1FURRF\nURRFUZQ2QMWW0qUQkZ+KSGEblZ0jIkER0d+VoihKFLQfVhSlK6GdkdIVMa1RiIjki8jP2qLsPZz3\n1yLygYiUi8jbbX0+RVGUNiDW++G7RGStiOwQkUIRmS0i/rY+r6IosYeKLUWJPUqA+4A72rsiiqIo\nXZQngQOMMRnAkcDJwAXtWyVFUToiKraUNsV56zhdRL5w3gA+ISJZIvK6iJSKyFsi0s2T/zkR2Sgi\n20TkHRE5wEmPF5HPRWSKs+0TkfdF5MY9nD9JROaJyFYR+Q9wRNj+viLygohsEpFVIjLVsy9XRJ4X\nkb85df9UREY5+54GBgGvOvumu4cBE0WkwCnzhlZoxjoYY942xrwAbGztshVF6XxoP9wm/fB3xpid\nzqYPCABFrX0eRVFiHxVbyt7gV8DPgBHAL4A3gOuA3oAfuNyT93VgKJAFLAfmAxhjqoGJQJ6I7Adc\nj71/b9vDuW8GBjvLycC57g4REeBV4HOgLzAGuEJExnqOPx34O9ADWAD8U0T8xpjfAWuBccaYDGPM\nLM8xxwLDgROBGSIyIlLFRORa52Fmq/PpXd+6h+tSFEVpCtoPR6Al/bBzbJlTh4XGmH/uoR0URemC\nqNhS9gZzjDFbjDEbgf8DPjbGfGGMqQJeAg5xMxpj5hljdjl/6jOB0SKS7uz7CrgVeBm4CphojNmT\nb/6vgVuNMaXGmPXAg559RwK9jDG3GWMCxpg1wBPAOZ48nxljXjLGBIB7gSTgaM9+CTufAW42xlQZ\nY74AVgKjI1XMGHOXMaaHMSbT+fSuZ+7huhRFUZqC9sMRaEk/7BybDhwGTBCRM/fQDoqidEFUbCl7\ng2LP+u4I22kQckm5U0R+EJHtQD72T7OXJ//TQA7wujFmdSPO3Q9Y59ku8KwPAvo7bzG3isg27Jva\nLE+eUMQs54FinVNmQ3ivb5d7fYqiKO2I9sNthDFmBTAXmNRW51AUJXZRsaV0JCZg3Vt+ZozpDuyD\nfWPpfWs5F+tycrKI/KgRZW4ABnq2czzrhcBq5y2m+yazmzHmF548oWMdd5cBwHonqUURr0TkehEp\nc8YaeJcyEdnRkrIVRVGaifbDzeuH47CiTlEUpQ4qtpSORBpQCWwTkVRstL3QH6mITAIOBSYDVwBP\ni0jKHsp8HrheRLqLyABgimffJ0CZiFzjDOD2i8iBInK4J89hIvJLsSF9pwEVwL+dfUXAkLDzhbuz\nRMUYc4cxJt0Za+Bd0p0IVxFx3jwnAvGAX0QSRSSusedVFEVpAO2H99APi+UiEenubB8J/AF4sbHn\nVRSl66BiS2lrwt86NvQW8mnsQOP1wH+AD90dIjIQ66s/yRlLsABYhg2B3hB5Tpn5wCLnHLYixgSB\nccDBzv5NwOOA9w/2n8BvgG3YN75nOuMGAO4EbnJcX65qxvU2l0lYt5+HgR9j36Y+1gbnURSlc6D9\ncOtzJvCDiJRix5j9yRjzUhucR1GUGEf2PK5VUbomIpILDHUiXimKoih7Ge2HFUWJddSypSiKoiiK\noiiK0gao2FJiHrETc3oHOLvr17V33RRFUboC2g8riqJERt0IFUVRFEVRFEVR2oCYiWAmIqoKFUXp\ndBhjGh05rSOgfbGiKJ2RWOuLldghptwIjTEddsnNzW33OsRi3bR+nbduHb1+HaFusUp7t1tH/k61\nfl2vbh29fh25bh2lfi0hOTm5SESMLl17SU5OLop2j8SMZUtRFEVRFEVROhIVFRXZLRVsSuwjItnR\n9sWUZUtRFEVRFEVRFCVWULHVShx//PHtXYWodOS6gdavJXTkukHHrl9HrpvSPDr6d6r1az4duW7Q\nsevXkesGHb9+itJS2jQaoYg8iZ0ZvtgYc1CUPA8CpwDlwGRjzIoo+YyaaRVF6UyICGYvDMrWvlhR\nFCU6LemLtU9UoOF7qK0tW08BJ0fbKSKnYGeGHw5cDPy5ocJyTziBvIkTKcjPb91aKoqidG60L1YU\nRVGaTTAYJD09nXXr1rVq3q5Am4otY8z7wLYGspwBPO3k/TfQraEBZnnvvMP0+fOZM3as/skriqI0\nEu2LFUVRuhbp6elkZGSQkZGB3+8nJSUllLZgwYIml+fz+SgrK2PAgAGtmrepbN++nfPOO4++ffvS\nvXt39t9/f2bPnt3q52lN2nvMVn+g0LO93kmLSiqQt2oV8266qS3rpSiK0pXQvlhRFKUVKcjPJ2/i\nxBZ5ArSkjLKyMnbs2MGOHTvIyclh4cKFobTx48fXyx8IBJpcv/bg8ssvp7q6mu+++47t27fz8ssv\nM3To0FY9R2u3RUyFfr/Zs57/1VftVQ1FUZRm8c477/DOO++0dzVazM2ede2LFUWJNdq6Ly7Iz2fO\n2LHkrVpFKnYgbO7HHzN18WJyBg/ea2W4RJpP7KabbuL777/H5/OxcOFC5syZw7777su0adP45ptv\nSElJ4ayzzuLee+/F7/cTCASIj49nzZo1DBo0iEmTJpGZmcn333/P+++/z6hRo3j22WfJyclpUl6A\nN954gyuvvJJNmzYxadIkli9fzkUXXcTvfve7eteybNkyZs+eTXp6OgAjRoxgxIgRof1ffvklV111\nFcuXLycxMZGrrrqK6dOnU1lZydVXX80LL7yA3+/n7LPP5q677iIuLo6lS5dywQUXcNFFF/Hggw9y\n6qmn8uSTT/LKK68wY8YMCgoKGDVqFI888ggHHnhgk9q+zhfQhhPF5QBfRNn3Z+A3nu1vgOwoeY1x\nlp1gbp4wwSiKosQytgvea5N2tk1fPHy4Md9+a0xlZRu2lKIoStvRkr7YObYON0+YYHZ6+srmPLu2\nRhku++yzj1m6dGmdtBtvvNEkJiaahQsXGmOMqaioMJ9++qn55JNPTDAYNPn5+WbEiBHm4YcfNsYY\nU1NTY3w+nykoKDDGGDNx4kTTu3dvs3z5clNTU2N+85vfmEmTJjU5b3FxsUlPTzevvvqqqampMffe\ne69JSEgw//u//xvxWiZPnmxGjRpl5s2bZ77//vs6+0pLS012draZM2eOqaqqMmVlZWbZsmXGGGOu\nv/56c+yxx5qSkhKzefNmc9RRR5mZM2caY4xZsmSJiYuLMzfeeKOprq42FRUV5pNPPjF9+vQxn332\nmQkGg+app54yQ4cONdXV1RHr1dA9tDfcCMVZIvEK8DsAETka2G6MKW6osHIgd8gQJt9yS6tWUlEU\npZPT+n1x375MHjAADjsMzjkHFi6E4mLYtcs+GiiKonRBguvXkxqWlgoE588HkUYtwfnzI5exYUOr\n1fPHP/4xp556KgCJiYkcdthhHHHEEYgI++yzDxdeeCHvvvtuKL8J69fPOussDjnkEPx+PxMmTGDF\nihVNzrtw4UIOOeQQxo0bh9/vZ9q0afTs2TNqnR955BHOOecc5syZwwEHHMCIESNYvHgxAK+88go5\nOTlMmTKF+Ph40tLSOPzwwwF49tlnycvLIzMzk169ejFjxgz++te/hsqNj48nNzeXuLg4EhMTefzx\nx7nssss49NBDEREmT54MWMtaU2lTsSUizwIfAvuKyFoROU9ELhaRiwCMMa8D+SLyA/AocFlD5eUe\ndxyzEhKYmpvbZBOqoihKV6XV++ITTmDWhAlMff99cl54AV58Ebp3h0mTrOhasABWrIC1a2HHDoiR\nsQCKoiitga9/f8rD0soB34QJYbaq6ItvwoTIZfTr12r1HDhwYJ3tb7/9lnHjxtG3b1+6detGbm4u\nW7ZsiXp8nz59QuspKSns3LmzyXk3bNhQrx4NBdZISkrihhtu4NNPP6WkpIQzzzyTs846i7KyMgoL\nC6OO39qwYQODBg0Kbefk5LB+/frQdnZ2NnFxtaOrCgoKuOuuu8jMzCQzM5MePXpQVFRU55jG0qZj\ntowxv21EnimNLS/v3Xfh1lvhf/8Xzj4bkpJaVkFFUZQuQKv3xW+/XTfhZz+DESNgwgR46y3IzYXs\nbJg4EY4+Gvx+6NEDevWC1FRISGj6RSiKosQIk2+5hdyPP6473mroUKY2wSurNcrYEyJ1nR0uvvhi\njjnmGJ5//nmSk5OZPXs2CxcubLXzRaJv37689dZbddIaK2jS09O5/vrrufvuu1mzZg0DBw7kpZde\nipi3f//+FBQUMHz4cMCKqf79a+NAhbfFwIEDyc3N5eqrr27K5USkvaMRNp0rr4SVK8ExGSqKoijt\nTFwc5ORYYTVpEvztbzB+PDzxhBVcS5bAtm3w/ffw+efw5ZfqbqgoSqclZ/Bgpi5ezKwJE2o9AZoY\n2KI1ymgqZWVldOvWjeTkZL7++mseffTRNjuXy7hx4/j8889ZuHAhgUCA+++/v0Fr2syZM/nss8+o\nrq6msrKSBx54gJ49ezJ8+HBOP/10CgsLmTt3LlVVVZSVlYXc/s455xxmzpxJSUkJmzdv5tZbb2XS\npElRz3PhhRfy8MMP8+mnnwKwc+dOXnvtNXbv3t3ka4w9sZWWBlOmwH33WfcURVEUpWOQmgoHHAD7\n7gvHHQfz5sGMGfDGGzBuHDz3nLVyiVgXwy+/hOXL1d1QUZROR87gweQ+8wx5b79N7jPPNEsktUYZ\nUN9qE43Zs2czb948MjIyuPTSSznnnHOilrOnMhubNysri7///e9MmzaNXr16kZ+fzyGHHEJiYmLU\nY84991x69epF//79ee+991i4cCFJSUlkZGSwePFiXnjhBbKzsxkxYgTvvfceALm5uYwePZqRI0dy\n8MEHc8wxx3DddddFPcdRRx3FI488wqWXXkpmZib77bcf8+fPb/CaoyHhA9g6KiJiQnUtLYUhQ+Cx\nx+DMM8EXe5pRURRFRDDGNO5fsINQpy9uiKoqK6I2b4b0dFi9Gp58Et59F371Kzj3XOjbF2pqYPdu\n+wmQmQk9e9oXa+puqCjKXqAlfXGj+0SlUQSDQfr168eLL77Iscce297VaTQN3UOxqVK6dYNLL4UH\nH4SSkvaujaIoihJOQgIMGwYHHmiFVHY23HUX/POfdv8ZZ8DVV8MPP1gx1qOHDbJRXm7Tli+3lq+i\nInU3VBRF6cS8+eablJaWUllZycyZM0lISODII49s72q1GrEptgCuusr+ES9dCtXV7V0bRVEUJRIZ\nGTBqFAwXRfumAAAgAElEQVQcaL0S0tPhuuvsOK7hw+GCC+D88+Gjj2z+lBQrujIzrbthYWGtu2FB\ngbobKoqidDLef/99hgwZQnZ2NosXL+bll18mPj6+vavVasSmG6HLtdfCJ5/A00/bP3JFUZQYolO7\nEUZi925Ys6ZWdMXHW3fDV16xLoZJSVZ8nXyyDbrhJRCwx7sv13r0qHU3bMC3X1EUZU+oG6HSUhq6\nh2JbbBUXw/77w5w5dgxAcnL7VE5RFKUZdDmxBdYdcOtWyM+36xkZ1oIVDMI771jRtXEjTJ4MZ51l\nLV2RyqiogMpKu56SYsPKd+tm/wcaORhcURQFVGwpLafzii2w7oRffAFz59oIWIqiKDFClxRbLtXV\nsH69FVYpKXVflq1YYUXXsmV2kuSJE62YikZVlbV6BYN2OzXVirj0dGv1Sky0URAVRVEioGJLaSmd\nW2ytWwcHHWStW7/4hf2DVRRFiQG6tNhy2bnTRircvdv2315RtGYNPPUUvP46nHIKnHce7Cn0sTFW\nyFVV1R3Pm5RUK8CSkuwS7qqoKEqXRMWW0lI6t9gKBmHaNPjmG7j7bjsQW0PBK4oSA6jYcggGbYj4\nggIrttLT6+4vKYFnnoEFC+Dww21AjUMOado5qqut22F1tXUzNMZGTExPtyIsOdlawDTcvKJ0OVRs\nKS2lc4stsG9FDz8cHn4YxoyBrKy9WzlFUZRmoGIrjMpKK7hKSqwIChc+u3bBP/4Bf/mLDSV/wQVw\nwgkUrF/PvAceIFhcjC87m8lXXEFOY4Im1dRYC1hVVW1o+bg4G3QjI8O6N7puiDoOTFE6LSq2lJbS\n+cVWdbW1bq1aBTNnwsEH2yhXiqIoHRgVW1EoLbUv0aqqbNCLcG+Fmhp46y144gkKSkuZs2sXeVu3\nkgqUA7kDBzL1qacaJ7jCCQat6KuqsuuuyHIFWGqqdUFMTFQvCkXpJKjYaj5VVVX07NmT77//nj59\n+rR3ddqNzjepcTjx8fCHP9gw8KtXw4YN7V0jRVEUpbl062bH4vbvD9u324mOvcTFwamnwosvMm/g\nwJDQAkgF8goLmXfPPc2bCNnnsy6F3brVTrTcrZsNPV9cDN99Z4MyLVtm5/8qKLDRFcvLdf4vRVE6\nDOnp6WRkZJCRkYHf7yclJSWUtmDBgmaXe8wxx/Dss8+GthMSEigrK2sTobV161bOPfdc+vTpQ/fu\n3dl///25//77W/08bU3nGR08eLCNWvX007DPPtaVUEPBK4qixCZ+PwwYYCc3XrPGuhZmZNT1WhAh\nGAiEhJZLKhBcvNi6lw8caJcBA+ziXW/s+CyRWndCFzcQR0kJFBXVWsASE60LZHp67Tgw9bRQlC5H\n/pp8brr3JtbvWE//jP7cctUtDN5nDwF+WrGMsrKy0PqQIUN48sknOeGEE5p0/vZmypQpxMfH88MP\nP5CWlsY333zDt99+26rnCAQC+Ns4Wm3nsGxB7WSYH30EhYWwdm1710hRFEVpKSkpdj7Fffe1EQtL\nS+tYrHzZ2YTZvSgHfKedBm+/Dbfeaq1gmZnw7bcwbx5ccgkceij89KcwYQJcdx089BC8/DJ89pm1\nYLlh5KMhYsVaWlqtBax7d2t1Ky2184h99RUsX26X//4Xvv/eWsI2brQibft2KCuzY9EqK617ZBd2\nR1KUzkL+mnzGThnL/PT5vDP4Heanz2fslLHkr8nfq2W4GGMId3UMBoPccsstDB06lKysLCZNmsSO\nHTsA2LVrF+PHj6dnz5706NGDY445htLSUqZPn86yZcu44IILyMjI4Oqrr6ayshKfz8cGx6ts/Pjx\nTJs2jZ///OdkZGTwk5/8hMLCwtB5Fy5cyL777ktmZibTpk2rZynzsmzZMiZMmEBaWhoA++23H2ec\ncUZo/8qVKxkzZgyZmZn069eP++67D4CKigr+8Ic/0K9fPwYNGsQ111xDwPE8ePPNNxk+fDi33nor\nffr04bLLLgPgpZdeYvTo0fTo0YOf/vSnfP31101u52h0HssWwLBh1ro1bx786U/2D69bt/aulaIo\nitISRKBnT2vZWrfOiqGUFEhKYvIVV5C7YgV5hYV1x2xdcYXt/7t1g5Ej65cZCFiL1Lp19gVdYSH8\n3//VbpeXWzdG1xrmtYgNGGBFViTi40OWrILCwtrAHb16Mfmyy8jp29cKuUAgctANY6xVLz7eijm3\nvIQEu/j9kRcN4KEoHYab7r2JVaNXgWs8T4BVo1dx07038cyDz+y1MhrinnvuYcmSJXz44Yf06NGD\nSy65hGnTpvHkk0/yxBNPEAgE2LhxI3FxcXz++eckJCQwa9YsPvjgAy6//HLGjx8PQGVlJRLW/yxY\nsIA333yTkSNHcs4555Cbm8tf/vIXNm7cyDnnnMNzzz3HSSedxL333svy5cuj1vHoo4/mmmuuoaio\niGOPPZahQ4eG9m3fvp2xY8eSl5fHokWLqKysDFm9ZsyYwX/+8x+++uorampqOO2007j77ru5/vrr\nAVizZg2BQIB169YRCAT4+OOPmTJlCgsXLmT06NE8+eST/PKXv+Trr7/G1wpjczuX2EpLg0mT4LTT\nYNMm+2esoeAVRVE6B/Hx1mW8Vy87PnfbNnL69WPqU08x64EHCG7ahC8ri6mNiUbo91sx1b8/HHVU\n/f3l5XbS5cLCWgH28ce168nJdUWYV4z17UvBxo3MOe+8uiLwyy8bF7jDFWM1Ndbi5W4HApH/z4yx\nFjWvQHPFWVycCjRF2cus37EeeoYlJsD8L+YzP29+4wr5Agj3+kuADTtaJy7Bo48+yvz588nOzgbg\npptuYuTIkTz55JPEx8ezefNmvv/+ew488EAOO+ywOseGW8nCt88++2xGjx4NwG9/+1tuueUWAF57\n7TWOPPJITjnlFACmT5/OrFmzotbxscceY/bs2dx///1ccMEFDB06lIceeogxY8bw8ssvM3z4cC69\n9FIA4uPjQ/V89tlnmT9/Pj169ADgxhtv5LrrrguJraSkJG688Ub8fj9xcXE89thjTJkyhYMPPhiA\nCy64gFtvvZXPPvuMI444ooktW5/OJbZEYMQIGD8enngCbrzRzt3i3EiKoihKJyA93b5I27QJCgrI\n6dGD3Ab+sJtFaqp1Xdx33/r7jIEtW+paxZYvh1desetbtjAvPp68XbvqBe6Ydd115E6ZYstPTbUv\nCVNT7ctBV0j5fE1/SegKsupqqKio3Y7kDilCwbp1zHv8cYJbtuDr04fJV19NzrBhdoyZK9C8nyrM\nFKXR9M/oD1XUWqUAqmDCQRN4JrdxVqmJJROZXzW/Xhn9Mvq1Sh0LCws59dRTQ1YpVzBt3bqV888/\nn6KiIs466yzKy8uZNGkSt956az0LVjS8wTJSUlLYuXMnABs2bGCg52WTiNC/f/+o5SQnJ3PjjTdy\n4403UlZWxsyZMznrrLNYt24dhYWFdSxdXoqKihg0aFBoOycnh/Xr19epn3ecVkFBAc8//zz33HNP\nqC2qq6tZv369iq2IdO8Ov/kNnHmm/SP2+ayvvg5QVhRF6Tz4fNCnj+3z166NPjdXWyACvXvbJdLk\nylVVBCdOJHXlyjrJqUDwhx/gz3+GnTvtUl5ul4oKay1LS6sVYN5Pdz08PXx/Wpotp4GHooLCQuZc\neWVdq9uKFUx96CFy+vSpf6xrOXMnffZ+hosytZgpCrdcdQsfT/m41g2wCoauHMotD92yV8toiAED\nBvCPf/yDQ6JMEJ+Xl0deXh5r1qzhpJNOYuTIkYwfP77RgisSffv25b333gttG2PqiKCGSE9P57rr\nrmP27NmsXbuWgQMH8sYbb0Q9T0FBAYMH22AiBQUFdURd+DUMHDiQcePGMW3atKZeUqPofGLL54Ph\nw63geuwxmDHDhoLPyWnvmimKoiitTVKStT5t325dC8vLax/2XdcWv9/+N7if3vW2ICEB36BBlK9c\nWSdSYjng+8lPIJIVLhCwgTJcAeYVY9717dutRc0VaZHy1tREFmXO+rzly0NCCxyr27p1zHrwQXLv\nucfmC3+gCgZtuRUV9hxeq5mIbWv303VldCM4uuIskjBTlE7I4H0Gs/ihxdx0701s2LGBfhn9uOWh\npkUjbI0yGuLiiy/m2muv5S9/+QsDBgxg06ZNfPLJJ4wbN46lS5fSr18/9ttvP9LS0oiLiwtZgrKz\ns1m9enWzznn66afzxz/+kUWLFjF27Fjuu+8+tm/fHjV/Xl4ep59+OqNGjaKmpoYHHniA3r17M2zY\nMPr27cu1117Lo48+yu9//3sqKir49ttvOfzwwznnnHPIy8vjoIMOoqamhttvv51JkyZFPc9FF13E\nxIkTOe644zjssMPYuXMn//rXvxg7dixJSUnNulYvnU9sgfXn//Wv4ayzrBthIGDfQKaktHfNFEVR\nlLage3cYPbp2MmJ3jFNNjV2qqqyLnbtUVNh0rzCLJtK84qyRIq3BwB2R8PtrQ8a3lOrqWuEVLsbK\nywkuWxY5XP7778Oxx9rr79nTeoX07Fl3PTwtM7O+NdFt+127bLRFV5h5RZmLGxrfFWRJSRSsX8+8\nO+4gWFSEr29fJt98Mzn77GOPc49tzLqitCOD9xnc4kAWrVEG1LfkAFx77bX4/X5+9rOfUVxcTHZ2\nNpMmTWLcuHGsX7+eSy+9lI0bN5Kens7EiRM5++yzAZg2bRrnn38+9913HxdeeCF5eXl1ym/I8tWn\nTx8WLFjA1KlTKSkpYfLkyYwaNYpE77QaHoLBIBMnTmTdunUkJCRw8MEH8/rrrxMfH0/37t1ZvHgx\nl19+Oddddx0pKSlcc801HH744cycOZPp06dz4IEH4vf7GT9+PFdffXXUev3oRz/iwQcf5OKLL2bV\nqlWkpqZy3HHHcdJJJzW2iRtEYmXW6ybP0L1mDdxzj3UvmTnTulWMGKGdsKIoHYaGZpzvqDS5L+7I\nGFNXmHnX3fFPrkjzCjbv5MUNiLSCjRuZN3cuwc2b8WVlMfnKK21wjHb+H8qbPp3pr75az+o26xe/\nsGPfdu2ybplbt9rPkhLYtq12PTw9OblhQeZd7969VqwaU9vuNTUQDFJQUMCcqVPJW7++VqT278/U\nOXPICR/bEantvYSPgXOFmHeJNE4uSnrBunXMmzXLBmLp25fJf/oTOYMH1xfk3kWfOWKClvTFnapP\n3MsEAgH69OnDa6+9xlGRAhXFEA3dQ51XbO3eDR9+CGefDc88Y+dB2W8/29EriqJ0AFRsxSjNEWlu\nPndx8T6Mh1t9Gjq/e2z4Ep7ufeB30grWr2fO+efXt7o1JlJiOMEg7NhRV4Rt3VpXkHnTy8rs/3AU\ncZb3z38y/dNP6wvBcePInT27aXUzpratoq172zM8jyetYP165lx2GXnr1kUWgZG+O3esm9d10o0a\n6a7HxUUXam6aCrY2R8XW3mPRokX86Ec/IiEhgdtuu42//vWv/PDDD8TFxbazXUP3UGxfWUMkJ9uQ\nvr/9LcydC3fcYa1do0apn7iiKIrSfERqw6c3F/fB3l2CwfppkRZvPq948y7hws6bbgw5vXoxdc4c\nZj3yiLW69e7N1IsvJic93Y4Jc+sXyX0y3I3S56ud0DlKZLA6VFdba5hXgLmfK1cS/OGHyC6Or70G\nixbVhrQPD3MfKey9d72hfY1Yn/fAAyGh5dYpb/16Zj31VMORML3t740U6RXs4W6p4RY7n6+uQHOF\nmzsHW1ycndPt9tut62W/fkyeMYOcIUPqCu5w8d3FKcjPZ95NNxFsZIAGpXV47733mDBhAoFAgJEj\nR/LSSy/FvNDaE53XsgX2bduyZXb81vz59u3ZPvtoKHhFUToEatlS2p1wK10kC51rpfNa6xqakNkV\nZd71Rj7gR3VxHDeO3DvuqF+faOuNTWvkem5+PnkVFfXqmwvkZWTYMWfJyTZgi3dJTq7dFy2Pmy9S\nurvEx9cVaZ6loLCQOZdfvmfXS+/vNtyiFm3b/fS6RTb20/nOvaLG178/k2+5xbpfRrsf3c+Wrkex\nUmKMdVf91a/IW7OGVEBALVtKi+iaboRgf1RffAF/+Qvk58Ndd1kXhoMP3jvhgRVFURpAxZYSk7hj\nrSItrlDxBiRxg5Z48QbLcMWY328ng77ootZxcWxFoorAU08l9+abrcWqosIOYXDXvcvu3XaCau9+\nb1r4Z/jxVVVWrEUQaXlr1zK9pKR+3YYMIXfs2PrWvYYWr8UsPt5+N+5nYmLjLGMeN9eCoiLm/OEP\ndd0vBwxg6iOPWCHodauNdI94y4wm8L1WQG9QHO996YwJdMdc5s2Zw/SPPgq1mYotpaW0qxuhiPwc\nuB/wAU8aY+4K298TeAboC/iB2caYea10chgwAM44w0YmXLPGRiVcvx6ivVVRFEXpZLRrP6x0PkRq\nXdoaSzTrmTumzRFnOQMGMHXuXGY99FDDLo7RAmNECn4Rbm2JFCRjDwIianTJq66Cbt3s0pYEg1FF\nXHDmTFJLSupkTwWCNTXWYlZVBaWl9YVwpPWGlurqWvEVzT0zbJn31VfkbdxYf5qBiy4i98AD60cN\n9W43Nt39DAbrj49zLaxh6UHHCqgoe4M2FVsi4gMeAsYAG4BlIvJPY8w3nmxTgBXGmFNEpBfwrYg8\nY4ypaZVKdO9uQ+lOmgSPPGIjFBYVQVaWnUtEURSlE9Mh+mFFcd3Q4uP3mDVn5Ehyx40LjTGLOFYt\n2li38IAl3vVwi5wxtRYP75xhUE/Q5aSnM/WBB5j16KMEt2zB16uXFYFpaXYMmveYxoSkb0wI+/C8\n7kTS3brVyesbPpzyb76pP6fb6NFw6aV7bO9GY0xda2U08eZZgvn5kcfgpabaF+ERhFA0gVQnzZvu\npjVhPJpv+nTKwyyVitJWtLVl60jge2NMAYCI/A04A/D+yRcBo5z1dKCkVf/g/X4bKMO1buXn2zFb\na9fa6IQ6UFRRlM5N+/fDitIAQROkOlBNTbCG6mA1VTVV7K7ZTWWgEkGI88XhFz9+n584XxxxvjjE\nJ/jE5yx+BO+2D5Ha7cZXpGFBl3PAAeSOGbPnMUMNlePuj7QeLY8rDN30sP2TJ08md/ny+mO2Jk+O\nbA10aWqa9xNqrVppafVFoiMGfQsXUr5qVX0hOGwYHH10bfmR2jNccIbXIxisFXbh+xqqPzD5vPPq\ntFlLSEpKKhYRDQbQxUlKSiqOtq+txVZ/oNCzvQ77x+/lcWCpiGwA0oDftHotevWyVqxzz621bpWU\nWLO6hoJXFKVz0zH6YaXL4oqp6mA11YFqqgJV7KreRUVNBRU1FVQFqhAEBIwxiEhIVBljCJogBhNa\nDxorMoTah2qDPS607XEvdIWaK9b84scnvtA5vEIuXKj5fD7EL/icY9z9xphQnQwmdE5vWlM+3euK\nthgMwWCQIEGCjsgKEAADwQGDOf6FuVx/11x8xZsJZvfm5GsuZfvAAZSKD58jRP0i+HCuyxWnCD7E\ntgFir9fYMUzitLBP6qeF9hlBRJCgqf30CMPJM2aQ+/XX5BUU1ArBnBymzpgB/frVdfcMd/WEqCIu\n6r7G5BEh55BDmDpyJLNycwlu3AjvvNOUW7oOu3fv7tPsg5UuQZsGyBCR/wFONsZc5GxPBI40xlzu\nyfMnoLcx5koRGQosBg4yxuwMK6tlAxDz860168wz4dln7Viu6mo46CANBa8oSruwNwJktGY/7OTV\nweBKHQLBANVBxzIVqKaipoLd1bupCNjPmmBNSKAI9uHc7/MT74u3YsfXtv/BQROsI9oa2raREqIL\nOffed6/HxRWLGBr89B5jqG2P8E+3TDcNCFnpIu335muK0PO2j5vuFA6hOBcS9Tq8+4wxoTyumPWJ\nj42F63nzzofxF28h2CeLcddfwYB9BtWxRrr1D2071xRurYzULpHaoKG2DE/zCGh1dVLahLa2bK0H\nBnm2BzhpXo4FbgMwxqwSkXxgP+DT8MJuvvnm0Prxxx/P8ccf3/iaZGdDcTH87ne11q1du2DTJujb\nt/HlKIqiNJN33nmHd1rwBrWZtGo/DC3si5WYoyZYExJS1cFqKmsq2VW9i93V1tUvYAIhIWXE4MM+\naMf740mJT2lzMbUnfOIDAT9d48VqSPi1E+GCbmBODuc/cledfburd9vtMOEXfnx4HvfaxHgsoWFC\nNzzNLdub9ulHn/L5R59jMGQmZe7F1lG6Im1t2fID32IHZm8EPgHGG2O+9uSZDewwxuQ5Pq+fAqON\nMVvDymr529T//tdOnHj66bBgAQwapKHgFUVpN/aSZavV+mEnr1q2OhleIVUTrGF39W521+ymorqC\n3TW77cOq+yCLwS+1Y6dc64WixCKlFaUM6jaIPul91LKltBltatkyxgREZArwFrUhh78WkYvtbvMY\ncAfwlIisxL5zuCbSH3yr0L+/nejYtW7dfbf1EdZQ8IqidFI6XD/cBXHFDNR38QpPg8hjf0Jjd5y0\nOuN5PGmh44wJje8JEgwJpkjHCBJylTPG1AlEkZ6YrmIqBihcW8gDf36A4p3FZKdlc8UlVzBwUPvN\nS+alI9dNUfYGnXtS43CMgZUr7YSBp51mrVv77GPDto4apaHgFUXZq8TiOAG1bDWOoAmys2onm8o3\nsXX31lDgh2iuTt40Iybk/tTQWBOXPY1XaWweJTYpXFvIeTecR+GhhZAAVMHA5QN56van2l3UdPS6\n3TP3HsoqyvjwmQ9jri9WYoeuJbYAtmyBVatskIyCAmvd2rXLuhHuv7+GglcUZa+hYqtzYYxhV/Uu\nSnaVsGnXJgLBAAn+BFLiU1TUKC3GGMO2im0U7yymaGcRReVFFO0s4rXHXmPdyHVWzLhUQeqyVLLH\nZYcCT4QEtycYBVAbgZHaIBTeNPtOQOqlhcr0lBue9sXfv2DjQRvr1W3YN8M47cLTSIpLItGfSGJc\nYpPWWzoOsJ4IvJmY64uV2KGtA2R0PLp3t4JqwgT4+c9tlMLBg+1Yrm3bIFMHSiqKoiiNp6KmgtKK\nUjaWbaSipoI4fxyp8antHhgiVumKbmdBE2TLri0U7yymuNwRU85SvLOYonL7mRSXRHZaNn3S+tAn\ntQ/ZadnES3xdMQOQAEN7DOXOU+6sE3XRPZfXjXRPaUGCIUtreFrIddXrvupJWxW/KmLdKqorqKyp\nZEflDipq7HpFwH42Zj3OF0diXCKJfkeANXF90ZOLaoWWorQxXU9sxcXZuR02boRJk+DPf4a77rKT\n8q1ZY2dm11DwiqIoSgPUBGsorSileGcxZVVlCEJKQgqZCfrCriXUsTj0A6pgxQ0rOozbWXNEYE2w\nhs3lm0PWqJBlyhVT5cVsLt9MRmIGfdKsgMpOtYLqx4N+bMWVI6xS4lPqlb/m5TXkV+XXsx7ldM9h\naObQVmyBprO091J+qPqhXt0O6XsI046Z1qwyjTFUB6ubJdIqayoprSxly84tKrSUvUbXcyMEqKyE\nFSusqDrpJPjb3+zYre3bYeBADQWvKMpeQd0IY4ugCVJWWcbmXZtD47CS45NJiktq76rFJLuqd7Gp\nfBObyzezqXwTm8o38dzc51i9/+p6D+d9vujDYeMPI8GfQII/IWSlSPQnhrYT/AkhdzN3PSEuoV6+\n8GPifHt+7xxt7NFjtzxGfGZ8SDSFW6OKdhaxbfc2MpMz64imPml9QosrrhL8zXv67+jjojpi3abf\nMJ1Xe71ae5/drG6EStvRNcUW2HFbpaUwbx4UFlrrViBgQ8GPHg2Jia13LkVRlAio2Or46DisplNR\nU8Hm8s0UlxeHRNTmXbWCyl2qA9VkpWbRO7U3WalZZKVm8a+//IvCwwrrlTl85XAuufoSKmsqqQpW\n2c+A/awMOOuBSqpq7Gcorcazz5vfk0+QugItTJQl+BPIfzmfTaM31ROB8qHQ7xf96rn2ecVUr5Re\njRJ0LcG1um0q30RWalaHcr3siHXTMVvK3qTriq3ycvjyS+tWOHYs/P3v1rq1Y4cdtzVkSOudS1EU\nJQIqtjouFTUVbK/YTlFZUacch9Ucl7iqQFUdK1SdZVethWpX9a6QePIuvVN619nOSMyoJ1jrWRwA\nquAXW37BrNtntUFLWDc/r2jzijJXmN1xyx18e9C39Y498rsj+euDf22TeiltixuNcGfFTj545oOY\n64uV2KHrii2Ar76y1qwnnoB16+DOO214+K1bbSj4tLTWPZ+iKIoHFVsdi2jjsJrr3tVRieTa1e/T\nflz/x+uR7hIST+GCqryqnF4pvepYorJSs8hK8Qiq1N70SOrRbKtfzLidQZuLwL3NnuZ/c/NE2hcp\nX/g+N0KhG7HQJ75QhMPw7b2FTmqs7A26ttjavh2++abWuvXcc5CTY+fhiouDAw7QUPCKorQZKrba\nn848DisQDLB199Y6gqm4vJhXH32VtSPX1hMO3T7rxmG/PSyiiMpKzaJHco+9MsFxTLiddRARaIwJ\nuUkGgoE6c7e5E1VHmtst9Bt253mDiOInFAoeHz5fbVj30HqYUKpTjkdc+cRH0AQJBAMETICaYA01\nwRoCwQBBgqH1mmBNKBqiOycceK7Fs42hTvnec0c6fyRUbCl7g64ttoJBO8lxQgI8+mitdQusdWvf\nfTUUvKIobYaKrfYh1sdhGWMorSytFVA7iyNaokp2lZCemB4SS9mp2WSlZrHwsYWsOWRNvXKP+v4o\nnn7g6b1/QTFCe4vAoAmGXBxD1iIR0hPSyUjMIDUhlQR/QtQJsGNlYmtvCHrv4oaVD21jQgLNXYIm\nWEfMBYOOkDMBwLaBV7hVB6oZljlMxZbSpnS90O9efD7o39/OtfW731nrVkGBtW5pKHhFUZROxd4e\nh9WccVHlVeV1rFDhAspNS/Qnkp2WXccCNaT7EI7uf3QovVdKr4gukGv/uZY1VWvqWbayUrNatwE6\nGQMHDdxrLoOBYCA0hgysAInzxZGWkEbvlN6kxKeQFJdkxVUHE0stJXzS5dYimnBLjNOAaErb0rUt\nW/tXDG4AACAASURBVAA1NbB8OWRkwMMPw4YNcMcddt+2bTYUfL9+rX9eRVG6PGrZanuqA9XsqNxR\nZxxWakIq8f74Nj1vtHFR11x1DXSnvojaaUVUwARCFijv4k3rndo74nxLLalbR3CJ66q4ATqqA9Wh\ncU7x/viQxcp1a+1sYwc7ErHYFyuxg4otsKHfi4vtunfsVjBow8MffLCGglcUpdWJxT/4WBBb7jis\nTbs2sW33tnYZh3XFdVewKGtRPetRj+U9OOK3R9RapcKW9IT0vWKpaG+XuK6KG+2wOlAN2D4gwZdA\nemKtsEr0J7b5ywClLrHYFyuxg4otgIoKO8lxjx7w0EN1rVtlZdaVcNiwtjm3oihdllj8g+/IYquy\npjI0fqk9xmEV7yxmaf5SluYv5cOnPyR4fLBeHh0X1TUwxlAdrA4JK+e3TnJ8MhmJGWQkZoQmYG7r\nObiUPROLfbESO+gvHCApCXr2tMLq3HOtdWvtWhg0yI7d2rIF+vTRUPCKoigdmPzt+eyo3EF6Qvpe\nmQ/LGMPqbatZsnoJS/KXULC9gONyjuPXB/yatGFpLKqqb9nScVGdDzciYFWgippgjQ3CIIbUuFR6\nJfciPTE9NElyZ5mnTVGUxqOWLZedO+0kxz17woMPwsaNtdat3bttkIwDD9RQ8IqitBqx+Da1o1q2\nKmsq+Xzj52SmtG0E2aAJsqJoBUtWL2Hp6qVUBCo4cfCJnDjkRA7vd3jI/UvHRUXHGEPABOqEAnfX\nvaHJ3ah53hDm7ro3jLmTqd4+I6buvrDIfEDEqH0u4VH73HVXXAVNMHRMekI66YnppCWkhSxWeyNM\nvtI6xGJfrMQOKra8fPml/ayogJNOgueft9YtsKHghw+3YkxRFKUViMU/+I4qtjaWbaSwtJDuyd1b\nvezKmko+XvcxS1Yv4e01b5OZnMmYwWM4cciJHNj7wKhuil1lXFS4YHLDbxsMYmrnfXJFlE98xPvi\niffHk+BPIMGfENqO88Xh9/nxiz9kBfJOpOtue9ebss+dw8n76Q01vqd9rmhLS0jr1BEBuxqx2Bcr\nsYOKLS/btsF339mxW+HWrepqK8JGj7YTHiuKorSQWPyD74hiyxjDiqIV9qG9lQILlFaU8m7BuyxZ\nvYQPCj9gv177ceLgExkzZAyDug1qlXN0RMIFk3fbO0GuVzx5xVK8L56EuAQS/Yn1hJNPfMT54tTi\no3Q4YrEvVmIHFVtegkEbKCMpCcrL61u3tm2DAQPs3FyKoigtJBb/4Dui2CqrLOOrTV+12IVwY9nG\nUICLlUUrOWrAUZw4+EROGHwCmcmdY4L7SIEb7A4wYvDjJz4unkRfYl3Lkz8+JJq8nz7xqVVHiXli\nsS9WYgcVW+EUF9vJjHv0gAcesNu33273BYOwYwccdJAVZIqiKC0gFv/gO6LYWr11Ndsrt5OW0LQg\nRsYYviv5jqX5S1myegnry9Zzwj4nMGbwGI4ddGyL5rLqCASCgVDgBtcNDoHUuFTSE+0YI9cq5Yon\nFU5KVyQW+2IldlCxFU51NXz+uZ3keMcOOPlkeOEFO7kxaCh4RVFajVj8g+9oYqsmWMPyjcvpltit\nUUIhEAzwedHnNoLg6iUETZAxQ8Zw4uATOazfYTEbhjt8/iaAOF8caQlpZCRmkBKfQmJcIgn+BHXj\nU5QwYrEvVmIHFVuRKCiAzZut4Aq3bgGUlMDIkZCevnfqoyhKpyQW/+A7mtgq2VXCeyvf46l5T1G8\ns5jstOx6gSgqair4oPADlq5eyr/W/Ivs1GxOHHIiYwaPYb9e+8WUNSdoglQHqqkMVBIIBkLpyfHJ\nNiJeQjpJ8Uk6Ma6iNIFY7IuV2EHFViR274aVKyEzE7Zvr2/dqqiwIeBHjtRQ8IqiNJtY/IPvaGLr\njWVvcNGMi1h36Lo6Idbvn3E/PwR/YMnqJXy07iMO6H1ASGANyBjQ3tVuFNWB6pDFysUnvlCY8dSE\nVBL91lql8zcpSvOJxb5YiR1UbEXju+9skIzUVLj/fmvpuu222v0aCl5RlBYSi3/wHUls7arexa8u\n/RVvZr9Zb/LguI/jOGHyCZw45ER+mvNTeiT3aLd67onwSXFdkuKSQm6ASXFJJMYlEu+LjylLnKLE\nArHYFyuxQ2w6p+8N+vaFr76yYmvyZGvduuSSWutWeroNpNGtm4aCVxRFaQe27t7K5vLNdYUWQAIc\nnH0wD536ULvUqyFqgjUhYeWKVhE7b1NWUpadFDcukUR/olqrFEVROgGqEqKRlgbJyVBVBd27w/jx\n8Oc/11q34uOt5auoyIaDVxRFUfYaQROkaGcRfTP6QhX1LFt90/u2V9VCGGOoqKmgoqYilJbgTyAt\nIY2+aX1Jjk8OuQGqtUpRFKVzom6EDVFSAj/8YMPARxq7FQxCaamd6FhDwSuK0kRi0XWlo7gRllaU\n8vXmrynfUs55N5xH4aGFdcZsPXX7U3WCZOwNXHfAipqK0CTA3RK7kZmcGYoGGKvRDhWlMxOLfbES\nO6jYaohAwE5ynJxsXQXvu88KsFtvrc2zc6e1gu27796tm6IoMU8s/sF3FLH13Zbv2FWzi5T4FNYW\nrOXUq09lZO+RDOg2oF40wrakKlDF7urdoXmsMhIzyEzOJC0hjeT4ZA2zrigxQCz2xUrs0Oav2ETk\n5//P3p3Hx3VWh///nDubpNFuy5vshJA9AbJvJRCzJrSBkEBpKJAGuoQWaPrjm28T6BeSsFNa2hDo\nF8ISoAv5tnUgJNASCHVpUyuLlzjBdhYntiXZkmVbuzTbvef3x50ZzUgz0kjWSDPSeb9e89LMvXfu\nHF1bz8yZ53nOA/wt4ADfVtUvFjhmI/A3QAjoU9XXlTuukgQCsG4dHDjg927deCNcdRXcdNNE71Z9\nvV8sY3jYSsEbYypSVbfDBSTcBP2xfpprmgEYrRul/W3t3Pfe+8r+2kk3SSwVyxayqAvV0d7QTkOk\ngbpQnc2zMsYYk6esyZaIOMBXgTcAB4EnROQBVd2Tc0wT8DXgzaraLSIryxnTrK1Y4Sdbqn7Cdf31\n8I1v5PduRaOwaxesWgVtbf5jG39vjKkAS6IdnqR/vB8gO8+po6uDS9dfWpbXSnkpYqlYdrHgmlAN\nq+tX0xhppDZYa2tZGWOMmVa5e7YuBp5X1f0AInIfcA2wJ+eY3wU2qWo3gKoeKXNMsxMO+0nUsWN+\nz1Wmd+uDH5wojBGJ+AUz+vvh8GH/OWvW+MmZzeUyxiyu6m+Hc6gqh4YPEQ1Hs9u2dG3hujOvm5fz\nu56bTa4UJRwI01rbSnNNM3WhOsKByaUPjTHGmOLKPZi8HejMedyV3pbrNKBVRP5DRJ4QkfeVOabZ\nW70akv63mnm9W7kcxx9S2NLiJ1tdXf7CyL/+tT/PK5Wael5jjCm/pdEOp40mR4m5sWzSk3STbD20\nlYvbL57T+Tz1GEuO0R/rp3+8n7HkGE2RJk5dcSrnrDmH89aex8uaX0ZzTbMlWsYYY2atEsoiBYHz\ngdcDUWCLiGxR1RcmH3jHHXdk72/cuJGNGzcuTIR1dX7597Ex/37u3K1CZd9DIX/9LYB43K9oKAKt\nrX4vWX29n5wZY5aVzZs3s3nz5sUOo5CS22FYxLYY6Bvty0t6nj78NBsaN9Ba21rS81WVuBsnloyh\nKI44NNc0s75hPdFwlJpgjZVhN2aJq+C22CxBZa1GKCKXAneo6lXpx7cBmjs5W0RuBWpU9c70428B\n/6aqmyada3ErYA0Nwe7dfs8V+JUJjx2DT3+6tOer+utyJRJ+MrZ6tZ981dWVL2ZjTEVbiApY89kO\np/ctWluc8lJsPbiVppqmbJW/rz3xNYbjw9x2+W1FnxdPxRlPjQN+spUpxx4NR61ioDHGqhGasir3\nO8wTwCkicqKIhIHrgR9POuYB4HIRCYhIHXAJsLvMcc1eQ4M//yqR8B/feCM8/LA/XLAUIn6PVmur\nX0r+0CF4+mnYuRP6+ibOa4wx82vJtMODsUGAvOSoo6uDy9Zflndcwk0wFB+if7yfgdgAjjhsaNzA\nWW1nceG6Czmj7QxW1a8iGo5aomWMMaasyjqMUFVdEfkw8DATJYd3i8hN/m69R1X3iMjPgJ2AC9yj\nqrvKGdeciEB7O+zd68/JammB3/kduOce+NSnZneuYHBimGEiAS++6N9vafF7vOrr/bLzxhhznJZS\nO9wz0kNtqDb7eDw5zjOHn+GCdRcAMJoYJeEmqAnVsKZ+DY2RRupCdbaQsDHGmEVjixrPhuvCtm0T\nydCxY+x/85v57sUX4w0P46xezY0338yJG+awmKYqjI/7c7wcx0+6Vqzwhxna/AFjlqRqHLqyWG3x\neHKcnb07aaltyW77n87/4SuPfYX73umvrzUQG+CstrOoD9cveHzGmOpVjW2xqR72dd9sBAJ+71ZX\nFzQ3s390lLtFuPORR4gCo8DtO3bwkXvvnX3CJeInVnV1flLX1wcHD/pDF9eu9Qt0RCLl+K2MMabi\n9Y/3Txnyt6VzS976WqpKXcjmwRpjjKkcNlh9tlas8HuhVPnuXXdx59AQmdVeosCdnZ189667ju81\nAgF/jlhrqz/kcN8+2L7dL9DR329l5I0xy4qnHodG8tfWAujonpivlXAT1IXqbA6WMcaYilLyu5KI\nXC4i70/fbxORk8oXVgWLRGDlShgdxevtJTppdxTw/ud/4L77/JLvxzvcJjM/rLXVn9/13HOwdSu8\n9BIMDx//+Y0xVWO5tsMjiRGSXjJv7tVQfIgXjr3AuWvOBfxkqzHSuFghGmOMMQWVNIxQRG4HLgRO\nB+4FQsA/AK8uX2gVbM0a6OvDWb2aUchLuEYBp73dn9v1zW/CyAicfz5ceKF/O+ssv/T7XNTW+jfP\n83u4Dh/2k7HVq/2ErLZ25nMYY6rScm6He0d7iQTyh1E/cfAJzl1zLpGgvz3pJWmINCxGeMYYY0xR\npc7ZuhY4D9gGoKoHRWT5vqtFo9DYyI033cTtO3ZwZ2fnxJytDRv4yJe/DJk5Wz09fk/Uk0/Cj37k\nz/d61avgggv85Oucc/zzzYbj+EU6wB9S2N0NnZ3+edas8SsdzjWhM8ZUqmXZDifcBMfGjtFc05y3\nfUvnFi5tn5ivhUJNsGaBozPGGGOmV2qylVBVFREFEJFZZgdLUHs7Jw4N8ZF77+Wv7roL7/BhnFWr\n+MjkaoRr1sBv/ZZ/Axgc9OdfPfkkfOUrsGcPnHKKn3hdcIF/a20tPY7cMvLx+EQZ+dZWWLVqaiKX\nGXaYO/ywlG2zPb6Uc4j48QeD/jy1YNBPJI0xhSzLdngwNgjiVwvL9VjXY3z2DZ/N2za598sYY4xZ\nbCWVfheRW4BTgTcBnwc+APyTqt5d3vDyYlj80u+5VGHHDr8HKRye+3liMX9x4yef9G87dvhJUm7y\ntX797Mq/q8LYmJ98ZZ6X+ZlJcmZzrsnHZ7ZNt6/Yttx/w0LHBYP+9YxEJm7hcH5ClrlvTJWbTbnh\nSmiH03EsWFusquw8vJOABAgHJtrZI2NHuOofrqLjDzoIOkESbgJXXc5Zfc6CxGWMWVqs9Lspp5LX\n2RKRNwFvBgT4mar+vJyBFXj9ykq2wC/P/tJLfln2+ZJKwbPPTgw93LrVTyxyk6/TTlu6PUCe51+D\nzE/X9e8XSu4yiVg47JfID4f95Hdyb5mtU2Yq1Gzf4Be7HU7HsGBt8WhilKd7n6a1Lr+3/yfP/YSH\nnn+I//tb/xfwC2i01LRwUsuyqBdijJlnlmyZcppxGKGIBIBfqOrrgAV/Y69oLS1+suW689fTEgzC\n2Wf7txtu8BOM/fsnkq/vfc8vjnH++RPzvl7xiim9a/vTJei93t7jW2y5DKaNzXFK6ylU9a97KuX3\nDg4MTJTEn9yLlul9zCRnmcRsck+Z9ZaZCrVc2+EjY0cIBabOP93Slb++VtJN0lTTtJChGWOMMSWZ\nMdlSVVdEPBFpUtXBhQiqagSDsG4dHDo0MW9qvonAy17m397xDn/b4cN+tcMnn4RPf9pfh+vss7PJ\n1/5Vq7j7Qx/KL9wx18WW59n+zk7ufv/7jz+23PleMy327Lr+bWzML5ef6S3LnAf8xCyT6OUOYYxE\n8nvJrLfMLILl2A67nkvvaG/Bcu4dXR3ccM4NedtsvpYxxphKVOqcrQfwq2D9HP/zMQCq+qflC21K\nDJU3jBD8eVHbt/u9XIv1AXxkxE++tm6FrVu5c9s2bnHdKSXp/+qUU7j9iiv8RCOTcBT6Od2+43zO\nnYOD3JJIFI7t3e/2y9hnbitW+InNQlGdGLqYe8sdwpj5P5gZspjbW1ZoCKP1lplpzHLO1qK3w+k4\nFqQt7h/v57mjz9FS25K3vWuoi3f9y7t49AOPZotmDMQGuGDtBQQc+3szxsyeDSM05VTqJ9n70zcz\nWSTiJwXDwxPl2BdafT289rX+DfDe+16iTzyRd0gUSMXGiTdG/R6cQAACDuKkh885/uPMfQkEJo5z\nHCRdKVCyx6aPC6b3B4J5xzHp+Zmf3p/9GdFt26bE5sVi/iLQjz4Kvb1+793AgJ/EZpKvVavyk7HM\nbb6uu4ifMJVSNr9Yb9nkQiQiE/PKJs8tmzyMcanOwzPzZVm1wz0jPQVLuXd0dXDp+kuziVbSTRIJ\nRCzRMsYYU5FKSrZU9XsiEgZOS296VlWT5QuryqxbB88848+lysgMc8vMBQqFytbz5alHzI0T9xIM\nJ0cZaq0ruNjywJkn8dRvX46qIgiKP8s+E+/EdqVQpP52mbQt83wFXFDXf4j4uQaCiODgJxKDK+sL\nxjZ09sns+rP3ZLc5jgOpFKEjA4T6jhLsO0rw8FGCfQcJ7tlJqO8ogcNHCPYdARFSbStxV2VubXht\n6Z/pbd6KVpygPxfMkYmkJnNfBLq6DvLPX70H+vqQtlW8508/xEkbTiDoBAhKML/0dKlzvHLnlsXj\nE3PLilViDIX8hCzTYxaJTB3CGAjYMMZlaDm1w7FUjKH40JReLZg6XyvhJmiK2HwtY4wxlanUYYQb\nge8B+/A/n28Afk9Vf1XO4CbFUJnDCDNSKUgm/Z+pFCQSfuGGeHziZ2aeUK7Mh/bcD9PTcD2XmBcn\n7vqJ1WBqhPFULN0F7hGSIEcOHeWhm2/n812HsvOiPrZ+Ldd+9XO0t68ty68/WebfSsn/2d3Vw48/\n8hd8vrsnG9tt7Wt4692fZt261RPPz/7UnG3pc+Ut1+XhjI4R6juavh0jfNj/Geo7RujIMcJ9RwkM\nDJNqaSS5spVEm39LtrWSSD9+SV1+8pff4ouHDmfjurV9NW/620+wZl0biBCWECEnSMSJUBMIE3HC\nhAJBguInYwFxCDrBvGRuViZXYswMv4T85Ep1ouhH5pZJznL/L9naZRVvlsMIN7LI7XA6jrK3xYeG\nD9E11DWl6IWq8pp7X8MP3vEDNjT5czz7x/s5ueVkVkZXljUmY8zSZcMITTmVmmxtBX5XVZ9NPz4N\n+IGqXlDm+HJjqOxkqxSZHo7cWyzm3xIJPyGLx7OHp7wUcU0x7sYZJs6QjhPTJBIMoSKEnCBhJ0TY\nmTrsrbv7EA99/fs4fcfw2lq5+oM3LFiiNZNFiS3lEjx6LN1DdiSnp8y//4Vdz3Hr2PiUHrfPr27j\nf196Pm40iltfSzJaR6q+lmRdDYn6OlL1NXjRKKnGKG5tLRoMEHQCRBw/GQs7IWoCEcKBEAEJpBOz\nAAEJlDzsqWD1xnXrJoYuFkvMMn8vmcIfk5OzzFDGyQma9ZotmFkmW4veDqdft6xtsaqy/dB2akI1\nBJ38L59eOPYCf/TgH/HIDY/kzdc6q+0s6sOLNIzbGFP1LNky5VTqnK1Q5g0eQFWfE5ESJraYPJkP\nswWq5yXdJHE3znhijKGxfobH+onH44jnoSmPUDJAxK2nJen6iZnngbiAC8QmqumlX6N9zSpu+vSt\nM8ekE31IuT/y9k3+WWx/ic9rb2nipts+7H+oz1yT2S62PFvBAKnVbaRWtxXcPf7BPye6dWfetiiQ\nitYRO/sMnJFRnJFRart7CaTvO8P+z8Bo+vHoGBoO4zZEcaN1uPV1pOqjpKK1JKK1+dujdXgNUZzG\nZoKNTQQamwk1thBuaCIYDPu9ZBKku/sQf/eB3z++6o2ThzJmErRCi1OrTswpy+0xy11YOjc5s16z\nhbQs2uGRxAhJL0m9MzV5mjxfC/zkrNDcLmOMMaYSlJpsPSki3wL+If34PcCT5Qlp6Uu4CeKpOGPJ\nMYbiQwwnhkm6/tQLQQgFQkSijdQ1tBY/yeSKeZkP0omEf0sm/eINGcW+ic58aMkUc4CJD9CTP0hP\n3u5PygIk//mS8zjzmUicqefIDLeMx2F8fCLO3AQg9wN+GSv7eW0rCs4lS572cgavfUtpJ1FFxsb9\nZGx4FGd0dOL+yCihkVFqhkdxjvSkk7WRbBLnjKSPjcX9hCydlH3naD939g9l44oCd3Z28umP/il/\n9oc3oM1NeE2NaHMzUh9FxEEQHHGywxkdkexcOwn69yXsX0uRiVl4mfl1uC6SGkcSo8igB56HeB6S\nmd+m/vNQRQIBJBxBIjV+8ZTcf3vHKX4/9/9B3v+nAv8fi/3fms1zMq9f3ZZFO9w72ltwbS3w52td\nefKV2ccpL0UkEJnSA2aMMcZUilLfof4Y+BCQKTH8X8DflSWiJURV/cTKzUms4sOkPH/xXREhHAhT\nG6yd/RCYUpIP1anrSU3+WSlye1/cFKTcdPIYh3g6gRwdnVqG3XHyE7I59rRc/cEb+Ngze6bOc/vg\nDTM9dYIIGvV7rSjSgzYj18UZHcMZ9pOv5Ke+TLR/KO+QKOB0dlP39z8gODhMYHCY4NAwkkjhNtaT\naqon1dhAMv0z3lRPqqmBVGPmZ4P/s7kBtyGKZuYJCqBMFE4RST9OF0zJ3p/Y3rO/l1/ccx+BI/3o\nylbe+gfv5ZQNJ1DrRIg4IUIECDlBQhKcKK2imt/rmbnl/p+cXNWx1Ps59nd3891vfAOvrw+nrY0b\n/+iPOPHEE/N75XLnSmYe5xYhySSDufcnP164v6Ul3w4n3STHxo8VLHjhei5PdD/B7Vfcnt0WT8UL\nrsNljDHGVIpSk60gcJeqfhlARAKArSCZQ1WJu3HiqTijidFsj5WqoiiOOIQDYepCdQtXojgzTK8a\n5C5SXExmHazMWliZ3rzMbXy88LpYkz9MF/hw3N7uFxD5ZM5csmsXY55bIIDX2IDX2EAKSL38BEaf\n2zulxy1+yfn0TBomKokEztAwgYFhAoODBAaHCQwMERocomZwmMCBwwQGh/ztg0M4g8MEhofxamtx\nmxrxmhpwmxpxsz/9+15z45TtWltD98EeHvno5/lCToJ62+69XPWV22lbsxL1JqpaqkBEwtQGI9Q4\nEeqCtYQdv+BIyAlOrfZ4nPZ3dnL3zTfnD7/ctYuPfOc7/nw3z++xIxabuA8T9zNl/IsldJN7YCfP\ne5tcoCQnidt/4ADf/dzn8Hp7Z/trLfl2eDA2CJme00l29e1iZd1KVkVXZbcl3aQlW8YYYypaqQUy\nOoA3qupI+nE98LCq/kaZ48uNoWILZIwmRtlzZA+uuqgqASdAOBAmHAjPvTKdmZvMfKRMQpZM5idk\nmQIkmf9LmQ91kz8kV0jPX3f3IX744Y+Xr7Kk5/lDGNMJmJ+EDaUTttzEbCjvGFyPOx3hz+NTF6j+\n/KqV3HrWaeleH9LXUvAEPPF7xDwAx7/Gmk5qnECQoBMg4AT9qo5OEMdxEHH8LygyvUkwdXhiZlv6\n8Z2//CW3vPDC1MWzzzyT26+5ZmqP6HRJUu6xxZ6XG0tm7iRM6Qnbf+iQnwR2dxMl3ZlYeoGMRW+H\n069btrZ4Z+/O7BdTk31z2zfpGe7hE1d8Irutf7yfs1edbcUxjDHHxQpkmHIqtWerJvMGD6CqIyJS\nV6aYqoqnHnv79xJ0gjSEGhY7HJNbea+Y3KqQmYQstyLk+Pj0BTtyezUKmbxvpvlGheYZpX+X9jWr\nuPYrn+WT3/g+zpFjeG0r5rfHzXGyPWnJDetKfprE4oz/yW1En96dtz0KpBqiDL/l9X7iq/hzu0gP\nFfQyQwj98YqSPkbVw1MPz03heS4e/hBYUUA9BAhKkBABwhIgJEECCAEER/2f2WvueXixWF6ilYnN\n6++Hnp6p8x0zSfrkuZCF5kbmHjvL5303leJOmBJbiZZ0OzyWHGMsOUZrbeG5qh2dHVz/iuvztglC\nJLCkOveMMcYsMaUmW6Micr6qbgMQkQuB8fKFVT16hnsYT44XXHzTVKhpqkIC+fOIcm/F9mUmOuV8\n2J9ybGZoWt59z08+MttzH+fc2lvT1Rtz4xgenniNyUPdis41kolCJcdJayK47WsYfXr31KIip76c\nkddfPi+vk309VZKawlWXlOeSwvUTMQTFwxGH2kANtYEa6gI1JJ/dxWhX15TYnIsugo99bF5jmw3v\nfe8j+vjjc336km6Hj4weKVroIuEm2NazjS9f+eXstpSXIhQIFS2mYYwxxlSCUpOtPwP+RUQOph+v\nBX6nPCFVj7HkGAcGD9Bc27zYoZj5NLmHqZJkColkEjTXnUjSMtszi2tPXtctmZyYizT5nLm9ccWK\nQAScvGRtXoqKlEjSi0pDCApMQ/TUI6Uuw8lR+hODXPz+q7n1qR18sbs3b5Hqt9z4m+wceJagOgTF\n8dc+w/HXP3MCBAnggF/NEQcHCEgAUQikqzU6KvnFPibfL5ScpzktLVOqXs7Ckm2HXc+ld7S36HDA\np3qe4qTmk/IWOU64CRoiNprAGGNMZZt2zpaIXAR0qmpPej2Xm4DrgF3AJ1X12MKEWXlztjz12NW3\ni5SXoi60ZEbymKUu07Pmujm9bG5+j1oyOXWoZe59yCZs3Qd7eOje/4dztB9vRQtXf+B62teunvqa\nc60uOJf119LP6T7Uy0PfuS8b22/d+C7Wrl2Fpx4q4GbmjwmoI7jq4akijgMoZArZiCCOg6J+RmzF\ntQAAIABJREFUsikQcEJ+chYME8AhGIwQCAQIOSGCAf8WcAI4gSCOE/CTNydA54Eu7nnXu/nUvn0l\nz9mqpHY4Hc+8t8UDsQGePfJs0RECdz92NzE3xv/+jf+d95yTmk+iLTrHyp/GGJNmc7ZMOc3Us/UN\n4I3p+5cBHwc+ApwL3AO8s3yhVbbekV5G4iO01k2zFpapKp0HOrnr63fRO9LL6vrV3PzBm9lwQokL\nB1eL3IWk5yqnZ82rqeX5ExvoXTnO6mg93gknwIZ2mPKWVWTJgULl3qe7P4vntp99Nje98fVT5sXN\nR31OLzPHTD1SqiTS9xXF0xSeJlBNl8lPjyrFBdY6vPYfv8xtX/oG4b5j8OgTpbzckm+He0d6p12Y\neEvXFv74wj/O22aLGRtjjKkGM/VsPaWq56Tvfw3oU9U70o93qOq5CxIlldWzNZ4cZ2fvThojjQtX\nxt2UVeeBTt7/8ffTeX4nhIEEbNi2gXs/d+/SS7jmiV2zuVNVhuJDXLz+4lJ6tiqmHU6/5ry2xfFU\nnO2Hthf94mosOcarv/NqHv3Ao3mjCPrH+zl/7fk2Z8sYc9ysZ8uU00yz5QMikun9egPwy5x9Jc33\nEpGrRGSPiDwnIrdOc9xFIpIUketKOe9iUVVe7H+RcCBsiVYVcz2XgdgABwYPsLN3J3/x138xkTQA\nhKHz/E4+85XPMJIYmfZcy9VdX7+r4DW76+t3LWpcS9CSbocHYgPTLpHx5MEnOavtrLxEy/Vcgk7Q\nEi1jjDEVb6Y36h8A/ykiR/CrXv0XgIicAgzOdHIRcYCv4n9AOAg8ISIPqOqeAsd9AfjZrH+DBXZ4\n9DDDieGi5YkrRSUPiZvP2BJugoHYAEPxIQZiAwzGBxmMpW/xwbzHA3H/uMHYICOJEaLhKE2RJppq\nmjjQdwBOnXTyMGw5sIXLv3M5jjisiq5idf1q/2d00s/61aysW1lwfaBq46nHQGyAvtE+jowdoW/M\n/zn5/kvPvQSTq8WH4ed7f86NP7qRVdFV2VvmOq2KrqIt2rYkrtMCWrLtsKpycPgg0XDxkiEdXR1c\ntv6yvG0JN2GLGRtjjKkK0yZbqvpZEXkEv+rVwzljRxz8OQMzuRh4XlX3A4jIfcA1wJ5Jx30E+Ffg\nolnEvuDGk+PsH9hPU6Rp5oMXUd7wrnVAAnZ8fEdFDO8qFtvX7vwa0bZoNhkaiA8UTZpyH6e8FE01\nTdmkqSmSc7+miVNaTqGpponGSCPNNc3ZfQ3hhryeyVt23MKDiQcnemnwY3vzKW/mSzd9iZHECIdH\nD9M72uv/HOll/8B+Hu9+PLv96NhRGiONUxKMyQlaS23LrBa7no/kVFUZTY4WTKByb31jffSP9xMN\nR2mra2Nl3UpW1q2kra6Ntro2zmw7M7v97qfu5uHEw1Ou2SUbLuGG82/g8OhhDo8eZt/Avux1Ojx6\nmCNjR6gP1+clY5Nvq6OrWVG3omgp8IW6buXQeaCTv/3633Jw6ODMB7O02+GRxAgJNzFjsvXx13w8\nb1vcjbOmfk25wzPGGGOO24yfZFS1o8C250o8fzvQmfO4C/+NP0tE1gFvV9XXiUjevkqiquwb2Ecw\nEKz44YPFhnd9+q5Pc/OtN6fXKkqR8lK4nkvSS+J6Lq5O3M/dn/JSpDRFyk0VfW7mmNznZp+vE/f3\n/Osejp5/dEps1952LauvXp2XNDXXNNMYaaSltiVb9nly0lQbrEXmoUz7zR+8mR0f3zFl/tHNn7sZ\nEaEh0kBDpIGTW08ueg7Xczk2fiw/KRvt5anep+gdmXg8mhilLdqW19tTKCmrD9fPmDgn3ER+r9Po\n1EQq89gRJy+BytzOW3PeRFIVbaO1trWknqc//9Cfs/vju6dcs0987hPTJjWeevSP92eTr8x12XNk\nD7/a/6vstv5YPy01LQUTsdzHhZLXSv3CYUpcJVqq7XDfaN+0QwEHYgPsG9jHq1a/asq+2lBtOUMz\nxhhj5sXcvzaeP38L5M4hqMgJin1jfQzGBytm+KCnHn2jfXQPd9M91M3B4YN0D/s/n9j7RMHhXY93\nPc5f/PIvCDh+ieqAEyDoBAlKkKATnHice1+CfoIpE8/JPD8UClHv1Bd9fsgJ+esYBSZe4y9/+pcc\nDR+dEtuF6y7k+7/3/QW7fpNtOMEv7HDX1+/i8OhhVkVXcfPnZtcTEnACtEXbaIu2cTZnFz0unopz\neOxwtocsk2w8e/RZDo9MJB+OOLAZRi8anZKcvv22txN4XYCx5Bgr6lZke58ySdOprady2frLWBn1\nt6+oXTFt78FczPWaOeKwom4FK+pWcGbbmUWPS3kpjo4dzSaumdv2nu15j0cSI6ysW5mXiD35T08W\n/MLh9r+5nQ/9+YcA/wuUXJnHihZ+TGbtLKY/bprnfetvvpUfV+VY8HY45aU4Mn5k2pECj3c/znlr\nz5uS/FslQmOMMdWi3MlWN3BCzuP16W25LgTuE797YiXwFhFJquqPJ5/sjjvuyN7fuHEjGzdunO94\nC4qlYrzU/9KCDh9Mukl6RnqyCVQmmcokVj0jPTTVNNHe0M66hnWsa1jH6StO5/UnvR7nVw7/mfjP\nKcO73njyG/mr6/9qwX6HQk5dcSp7EnumxLYqumrRYsrYcMIG/upz5b8+kWCEDY0b2NBYPClRVUYS\nI3zgqQ+wM7wzf2cYXt78cu557z001TTNakjifCvnNQs6QVbXr2Z1/eppj0u4CfpG+/KSskdij0xN\naML+4rhfevRL2U2ZXtHMMsVTHmdL1jP9cSU+79fP/trvV1pY89oOw/y0xYOxQb88/jQ904Xma2WK\nY9i8P2PMXG3evJnNmzcvdhhmmZi29Ptxn1wkADyLPzH7EPA48G5V3V3k+HuBB1X1/gL7FqX0u6ry\n7NFnGUuOUR+un7J/rvNCYqmYn0gN5SRSOYnV0bGjtEXbsonUuoZ1rG9Yn/c4EowUPHcll+Su5Ngq\n0S0fv4UHV06dS/bWI29dkMSwWlXqdZsS1x0zL2p8vOazHU7vn5e2+JnDz6CqRdsxgLf841v40pu+\nxCtWvSK7bTw5Tm2oltNWnHbcMRhjDFjpd1NeZe3ZUlVXRD4MPIw/mfvbqrpbRG7yd+s9k59Sznjm\n4ujYUQbGBwquATPdvJDm1c3Z5GnyML+DwwcZTgyztn5tNnFqb2znNSe8Jvt4dXT1nMsaz8eQuHKp\n5Ngq0XRzyUxxlXrdpsS1ACqxHR5Pjs+4KHzviF905syV+UNNE25ixt5OY4wxplKUtWdrPi1Gz1Y8\nFeep3qeoD9cXrIpW7NvzYEeQ8BvCfhKVM8wvc7+9sZ2VdSsXdfiXqR6Z3tNsclohVfUqXaVet0w1\nwkNDh9h639aq+zZ1PtrirqEuDg0foqmm+NDsB559gJ/v/Tlf/c2v5m3vH+/nzLYzrfS7MWbeWM+W\nKSdLtopQVZ47+hyjydGCwwcB3ven7+Px0x6fsv38PefzT3f/07xUyTPGLD2qylB8iIvXX1x1b/DH\n2xZ76rHt0Daioei0lV0/9sjHeEXbK3jPq96Tt31gfIBz1pwz7fBDY4yZDUu2TDlZ10oRx8aP0R/r\nL5poAf5QlsSkjQlob2y3RMsYYwoYjg/jeu60iZaq0tHVwaXrL83b7qmHiFhxDGOMMVXDkq0CEm6C\nvf17ZxymcvMHb6b2v2onEq7MvJAP2nwas3y4nst4cpzx5DgJN0HKS00pq25MRu9I74y9Up1DnSTd\nJC9veXne9oSboDHSaF9mGWOMqRqVsM5WRcksXhyQQMF5WrkiKyI4lzq85fBbODZ+zIo9mCXPU494\nKk7cjWcTqlAgREO4AUVJpBIk3ARJL5nthUAByV/XKuAEcMQhIIG8+0vlQ7Sq4qmHpx6K4npu9r6n\nnt+zI5W9OHo5JNwE/bF+mmuapz1uS+cWLl1/6ZT/D/FUnLa6tnKGaIwxxswrS7Ym6R/v5+jYUVbU\nrZjx2AeefYCrLryKz73hcwsQmTELy1OPhJsgnor7iRNCwAnQEGlgTf0a6kJ1RIKRokO6MkmFq27e\nz5SXIukmSXrJbGKWdJOMuqN46mWfL4i/TpX6CwNnkrJMYuaIk9023793oVsmgXLVnbqeVpqi+GFL\n3sLh4VCYoAQJBULZhb+X41C4/vF+RGTGpLqju4PLN1w+ZbunHnWhunKFZ4wxxsw7S7ZylDp8EPxv\nru/ffT+fef1nFiAyY8pLVf3Eyo3jeq7/gRihIdxAW2Mb0XCUSMBPrErtfXLEwQk4hCh9CYNMgpZJ\nanKTtISbyN5SXoqEl2A8Po6Li2h+YpYXgzjZHqVCi+hOHvKYSYYCEiDshAkGgoSciSQp6ATzEr3J\nt6XUQzefVJVDw4dmTJY89ejo6uCWy24puL8mWFOO8IwxxpiysGQrx4HBAzjilLS+1Y6eHXjqcf6a\n8xcgMrMQkm7S73XxktlenMyH7ukm81cbVSXpJYmn/MQKQEVpCDewtnYt0XCUmmANkUBkwZOGTII2\nG6o6JTFz1U/YMj1omWHBASeQ7RWbkiSVoZfMTBhNjhJ349SFp0+2nj/6PPXhetob2/O2qyqOOMuy\nR9AYY0z1smQr7djYMfpG+0oaPghw/+77eceZ77BvsKuM67kkvWR2KFuWQE2ghrpQHdFQFEWJpWLE\n3TixVIyEl0AQv2cEyQ5ry/0QP9Mcv8WS6Q3KJJGqSjQUpa2ujYZIg59YBSNVm2iICEEJVuz1N74j\nY0dK+jfa0rWFS9svnbI94SaoD9dbm2uMMaaq2KcT/B6NF/tfpCHSUNLxY8kxfrb3Zzz47gfLHJmZ\nC089f5iZmyDpJrPJEfjFHKKhKC01LUTDUUJOiHAgTCgQmjbZyPQGpbxU9hZP+YlYLBUjnooz7A2D\nkv0wqCgOTjYRy/SSlfPDYiauhDuxJkFNqIbW2lYaI43UBGuoCdZUbWJlqlPKS3F49HBJQ7Q7ujp4\n2+lvm7I97sZZUVval2HGGGNMpbBkC3/4IFDy8JSH9z7MuWvO9dfZMosiN/lJuslsAQfFH2oUDUdp\nrW0lGooSCUaySdVchwNm1vaZ7v+IquYlY5mEbzw1nk3MRtwRmFwVXfLnCQWdYEkJmeu5xN04iVQi\nm0xGAhGaIk00RhqpDdVSE6xZUkMgTXUaig1lhwFOJ+WlePLgk3z29Z+dss9Tj2g4Wq4QjTHGmLJY\n9snWQGyAw6OHSx4+CLBp9ybe+8r3ljEqk5FJplJeipSm/J6jdJW6mmANDeGG7ByjcCBMyAmVNOeu\nHESEUGD618/ML8okY0nXr8Q3nhrPDlkci4/lFXnIFHUIOsG8NaxCgRCNkUaaGpqyiZUNpTOVqGek\nh9pQ7YzH/frwr1nbsLZge6yqM67PZYwxxlSaZf3JLOkm2Xtsb8nDBwE6Bzt5/ujzvO6k15UxsuUl\nt5BByk3lrckUCUSoC/vzqGpDtdnepZATqsq5G6XOL8qWSM/pvYulYoQDYepCddQEaxYtqTRmNmKp\nGMOJYVpqW2Y8dkuXv77WZJkvHCIBS7aMMcZUl2WdbHUOdeKpN6vqVvfvuZ+3nv5Wq4iVI3ctosmP\nVTW/7HZ6qF92XpMqQSdIXaiOxkgj0VCUcDCcTaqW69yigONXQIxgHy5NdTs2dqzkv+OOrg5uOOeG\nKdutOIYxxphqtWyTrcHYIL0jvbTWtpb8HNdz+eHuH/L1q79exsjKq1ASVChRKpQYZRRalyggARzH\nyS7Wmpl75IgzMR8pXVpbkGyp7XAgbEPfjFmiPPXoGekpaa5VPBXnqd6nuGjdRVP2JdwEq2ttjqwx\nxpjqsyw/5aa8VHb44Gy+Kd3StYXW2lbOWHlGGaOboDqRDCk65XFuopRZhLbQOXKr8c01Mcq9ieRv\nM8aYQkYSIyS8BPVO/YzHbu/ZzqmtpxYc1p3yUtSHZz6HMcYYU2mWZbLVNdjlv3kHZvfmnVlbq5jJ\nw+dyk6LcRCmjYHKUKYwg4ODkreGUSYAyCVFuYlQoKbLEyBizmHpHe0ueZ1Vsvhb4baXN1zLGGFON\nll2yNRQf4tDIoVkNHwR/2OGv9v+KT17xySn7Em6C4fhwdkhcQAKEnFDR5KhQEpSXIKUTJ5ufYIyp\nVkk3ybGxYzTXNJd0/GNdj3HzJTdP2a6qqFglQmOMMdVpWSVbcx0+CPDQ8w/xmhNfU/CDw1hijFNa\nT6Et2jZfoRpjTFUbiA2AUFJbO5IY4dmjz3Le2vOm7Et6SepD9dYzb4wxpiotq3ev7qFukl5yTpUE\nN+3axHVnXFdwn6K22KYxxuQ4OHKQaKi0dvHJg0/yylWvpCZYM2VfPBWnMdI43+EZY4wxC2LZJFvD\n8WEODh+kKdI06+fuObKHo+NH+Y0NvzFln6ceASdAbXDmBTuNMWY5GE2MEkvGSv5ia0tn8flaruda\ncQxjjDFVa1kkW67n8mL/i3Nep+X+3fdz7RnXEnACU/aNJ8dprmm2+VXGGJN2dOzorJZ06Oju4LL1\nlxXcp2jBHi9jjDGmGiyLZOvg8EFibmxOE6wTboIHn3uQ684sPIQw6SZnXWzDGGOWKtdz6RktbW0t\ngGPjx+ga6uIVq14xZZ+qgmDFMYwxxlStJZ9sjSRG6B7qpjlSWkWsyTbv28wpLadwQtMJBfcrWvK8\nBGOMWeqGE8OoaskFLR7rfowL115IKBCasi/pJYkGo1YcwxhjTNVa0u9grueyt38vdeG6OQ/z27Rr\nU9FerZSXIhKI2LeuxhiTdmj40KyG/U03XyvhJgoucmyMMcZUiyWdbB0aOUQ8GZ/zeP/ekV629Wzj\nylOuLLh/PDluQwiNMSYtnoozFB+iNlR6waDHuh7jsg2F52slvaRVIjTGGFPVlmyyNZoYpWuoi8aa\nub9RP/DsA1x58pXUheoK7k95KZpqZl/d0BhjlqJj48cQSh9FcGj4EIPxQU5bcVrhA9TmaxljjKlu\nSzLZ8tRjb/9eaoO1cx7rr6ps2l18CGGGra9ljDF+m9kzUnphDICOrg4uWX/JtO10JGDJljHGmOpV\n9mRLRK4SkT0i8pyI3Fpg/++KyFPp23+LyCuP9zV7hnsYT47PaijLZNt7tiMI5605r+D+hJsgGorO\nqryxMcYshoVoh0cSI8RT8YKFLorZ0jX9fK3aUG3BJTeMMcaYalHWZEtEHOCrwJXA2cC7ReSMSYe9\nCLxWVc8BPgN883hecyw5xoHBA8c9vC/Tq1WssMZ4cpwVdSuO6zWMMabcFqodPjx6mHCwtEWMwe8J\n6+gqvr5Wwk3YfC1jjDFVr9w9WxcDz6vqflVNAvcB1+QeoKodqjqYftgBtM/1xTz1eLH/RWpCNcdV\nKngsOcbDex/m7We8fdrXsipZxpgqUPZ2OOkmOTp+dFbLYLw08BIiwolNJxY+pxXHMMYYswSUO9lq\nBzpzHncx/Zv4HwD/NtcX6x3pZSQ+UrSgRal+9sLPuGDtBayKriq4X1URkeN+HWOMWQBlb4cHY4Og\nzGqJjUyvVrHniIrN1zLGGFP1KmbCkYi8Dng/cHmxY+64447s/Y0bN7Jx48bs48zwwebauS1enGvT\n7k3ccM4NRffHUjGaIk220KYxZlY2b97M5s2bFzuMokpph2FqW7zizBXUhWf35VNHVwevP+n1Rfcr\nOudlO4wxZjqV3habpUVUtXwnF7kUuENVr0o/vg1QVf3ipONeBWwCrlLVvUXOpcVi9dRjd99ukl7y\nuHub9g/s5/pN1/OfN/4n4UDh+Qf94/2c3HIyK6Mrj+u1jDHLm4igqnNbcb3015i3djh9XF5bPJYc\nY2fvzlmtOeipx2XfuowH3v0Aa+rXTNmfdJOkNMU5q88p+ZzGGDNXC9EWm+Wr3F0zTwCniMiJIhIG\nrgd+nHuAiJyA/wb/vune4KfTN9rHSOL4hw8C3L/nft562luLJloZVvLdGFMlytoOHxs/NuuqrHuO\n7KG5trlgogUQd+M0hm2+ljHGmOpX1mGEquqKyIeBh/ETu2+r6m4RucnfrfcAnwBagb8Tf/B+UlUv\nLvU1xpPj7BvYNy8TqV3P5Ud7fsQ9V98z7TFBJ2jDW4wxVaGc7bCnHoeGD1Efrp9VTNNVIQS/Z8uK\nYxhjjFkKyj5nS1X/HTh90rZv5Nz/Q+AP53huXup/iXAgPC9rsfxP5/+wonYFp688vegx46lxWmpa\nZjUR3BhjFlO52uHh+DCeerNuf7d0beEdZ75j2mPsCy1jjDFLQVVXeOgb62MoMTRvQ/o27d7EO86a\n/gNA0k3SUtsyL69njDHVrGekh0hwdhUDk26SrQe3ckn7JUWPEZFZn9cYY4ypRFWbbMVSMV7qf4mm\nyPEtXpwxEBvgvw/8N1efevWMx9p8LWPMchdPxRmIDcx6ruzOwzs5oemEol9aJd0kkUBk1vPAjDHG\nmEpUlclWZvhgKBCal+GDAA899xCvPfG1NNUUT96SbpKaYM2MxTOMMWapG4gNzOl5M83XSrgJGsK2\nYLwxxpiloSqTrb6xPgZjg7OelD2d+3ffP+Mcglgqxoq6FfP2msYYU41UdU6FMQA6Oju4dP2lRfcn\n3IQVxzDGGLNkVF2yFU/F/eqDNfP3ZrznyB6OjR+b9gMAQMpL2YcAY8yyN5ocJebGCAVCs3reeHKc\nZ/qe4YJ1F0x7XE3IimMYY4xZGqoq2VJV9g3sI+gE53U8/6bdm7j2zGtnHJIoIvOylpcxxlSzvtG+\nOQ2n3nZoG6evOH3GHjGrRGiMMWapqKpk6+jYUfpj/fM6fDDhJnjw2Qe57ozrpj0unooTDUVt0rYx\nZtnrG+ub0xdPHV0dXLah+HytlJey4hjGGGOWlKpKtuZr8eJcv3zpl5y64lQ2NG2Y9rhYKsbKupXz\n+trGGFONVBVHZv/2saVrC5e2Tz9fqz4yf1+mGWOMMYutqpItV915/8azlMIYAJ5689qjZowxy8lQ\nfIi9/Xs5b+15RY9JpBLztpyHMcYYUwmqKtmab70jvWzv2c6VJ1857XGeejjiUBuqXaDIjDFmaXm8\n+3HOXXPujHO9bL6WMcaYpWRZJ1sPPPsAV5181YxJVCwVo7mmeU7DZowxxsy8vhaAopZsGWOMWVKW\nbfagqmzatYl3nDXzEMK4G6e1tnUBojLGmKWpo2v69bVczyUUCM26nLwxxhhTyZZtsrX10FYcx+Gc\n1efMfLBCNBwtf1DGGLMEHRk7Qs9ID2e1nVX0mLgbpyHcsIBRGWOMMeW3bJOtTGEMEZn2uJSXIhQI\nEQlEFigyY4xZWjq6Orio/aJpCxwlXCuOYYwxZulZlsnWaGKUn7/4c645/ZoZj42lYrTWts6YlBlj\njCmspPlaqlaEyBhjzJKzLJOtn+39GResvYC2aNuMxybdJM01zQsQlTHGLE1burZMO18LQESIBG0E\ngTHGmKVlWSZbm3Zv4p1nvbPk4+tCdWWMxhhjlq7OoU7Gk+Oc2npq0WNczyUggRnLwhtjjDHVZtkl\nW/sG9vFS/0tcceIVMx6bcBPUhmrtA4AxxsxRpgrhdEOxE26CxkjjAkZljDHGLIxll2z9cPcPedvp\nbyupvHAsFWNF7YoFiMoYY5amUuZrxd24JVvGGGOWpGWVbLmeyw/3/JDrzryu5OPtA4AxxsyNqvJY\n12MzztcCrDiGMcaYJWlZJVuPdj7KqugqTltx2ozHqipg87WMMWau9vbvJRwIs6Fpw7THqSo1wZoF\nisoYY4xZOMsq2dq0e1PJvVqZYS0BJ1DmqIwxZmna0jlzFUJPPYJO0ObGGmOMWZKWTbLVP97Powce\n5erTri7p+Fgyxsq6lWWOyhhjlq6O7hLma6Xi1IfrFygiY4wxZmEtm2Troece4oqXXVHyHCxPPaLh\naJmjMsaYpcn1XB7vfpxL1l8y7XFWidAYY8xStmySrU27N/GOM99R0rGeegQDQWqDNmHbGGPmYlff\nLlZFV7Equmra41TVvtgyxhizZC2LZGtX3y4G44MlVcQCGE+O01zTPO26MMYYY4rb0rWFS9tnbnMV\nJRKILEBExhhjzMIre7IlIleJyB4ReU5Ebi1yzFdE5HkR2SEi5853DPfvvp9rz7gWR0r7dZNuktba\n1vkOwxhjFsVitMOPdT3GZRumn6/lqYcjjhXHMMYYs2SVNdkSEQf4KnAlcDbwbhE5Y9IxbwFOVtVT\ngZuAr89nDAk3wUPPPcS1Z15b8nMUJRqyYS3GmOq3GO1wwk2wrWcbF627aMbjGsINNorAGGPMklXu\nnq2LgedVdb+qJoH7gGsmHXMN8H0AVX0MaBKR1fMVwCMvPcLpK09nQ+P067xkpLwUkUCESNCGtRhj\nloQFb4ef6nmKl7e8nKaapmmPs+IYxhhjlrpyJ1vtQGfO4670tumO6S5wzJxt2lX62lrgz9eyIYTG\nmCVkwdvhLV0zr68FfsVCK45hjDFmKQsudgCz8c0vfzNbIfDiV1/MJZdPX1K4Z6SHnb07ufstd5f8\nGikvNeO3scYYMxebN29m8+bNix3GcZupLe7o6uBPLvqTGc8jIjaKwBiz4JZKW2yqQ7mTrW7ghJzH\n69PbJh+zYYZjAPjDj/4hLbUtJb/4j/b8iKtOuYra0OxKuNeF6mZ1vDHGlGLjxo1s3Lgx+/jOO+9c\niJed13YYpm+LRxOj7D6ym/PXnj9tUKoKYJUIjTELbpHaYrNMlXsY4RPAKSJyooiEgeuBH0865sfA\nDQAicikwoKq9x/vCqsr9u+8veW0t8OcPRENRQoHQ8b68McZUigVth7ce2srZbWfP+KWVFccwxhiz\nHJS1Z0tVXRH5MPAwfmL3bVXdLSI3+bv1HlX9qYj8poi8AIwC75+P1956aCuhQIhXrX5Vyc8ZT46z\nvnH9fLy8McZUhIVuh0udrxV34zY/1hhjzJJX9jlbqvrvwOmTtn1j0uMPz/frbtq1ievOuG5W35p6\n6tEQaZjvUIwxZlEtZDv8WNdjfPw1H5/xOE89K45hjDFmySv7osaLYSQxwi9e+gXXnDHVFt1EAAAg\nAElEQVS5unFxqoqIzHm+ViVPtKzk2MDiOx6VHBtUdnyVHFu1GogNsG9gX0kjClSVmmDNvL5+pf+b\nWnxzV8mxQWXHV8mxQeXHZ8zxWpLJ1r+/8O9cuO5CVtatLPk5sVSMpkgTjsztklRyY1HJsYHFdzwq\nOTao7PgqObZq9Xj345y/9nzCgfC0x2W+3Jrv4hiV/m9q8c1dJccGlR1fJccGlR+fMcdrSSZbsy2M\nAX6yZfMHjDFm7kqdr5X0ktSH6604hjHGmCVvySVbL/W/xL6BfVxx4hWzfm59uL4MERljzPLQ0dXB\nZesvm/G4eCpOY6RxASIyxhhjFpdk1jqpdCJSHYEaY8wsqGpVde9YW2yMWYqqrS021aNqki1jjDHG\nGGOMqSZLbhihMcYYY4wxxlQCS7aMMcYYY4wxpgws2TLGGGOMMcaYMqiKZEtErhKRPSLynIjcWgHx\n7BORp0Rku4g8nt7WIiIPi8izIvIzEWlawHi+LSK9IrIzZ1vReETkYyLyvIjsFpE3L1J8t4tIl4hs\nS9+uWoz4RGS9iPxSRH4tIk+LyJ+mty/69SsQ20fS2yvl2kVE5LH038GvReRz6e2VcO2KxVYR164a\nVVo7DNYWz0NsFfH3UMntcJH4KqYtruR2eIb4Fv3aGbNgVLWib/gJ4QvAiUAI2AGcscgxvQi0TNr2\nReDP0/dvBb6wgPFcDpwL7JwpHuAsYDsQBF6WvrayCPHdDny0wLFnLmR8wBrg3PT9euBZ4IxKuH7T\nxFYR1y79mnXpnwGgA3h1JVy7aWKrmGtXTbdKbIfTcVlbfHyxVcTfQyW3wzPEVynXr2Lb4Wniq4hr\nZze7LcStGnq2LgaeV9X9qpoE7gOuWeSYhKm9gtcA30vf/x7w9oUKRlX/G+gvMZ63AfepakpV9wHP\n41/jhY4P/Os42TUsYHyq2qOqO9L3R4DdwHoq4PoVia09vXvRr106rrH03Qj+30Q/FXDtpokNKuTa\nVZlKbIfB2uLjjQ0q4O+hktvhaeKrmLa4ktvhaeKDCrh2xiyEaki22oHOnMddTDRyi0WBn4vIEyLy\nB+ltq1W1F/yGGVi1aNH5VhWJZ/L17GbxrueHRWSHiHwrZ4jDosUnIi/D/+a3g+L/nosSX05sj6U3\nVcS1ExFHRLYDPcBmVd1FhVy7IrFBhVy7KlOJ7TBYWzwfKurvoZLb4UnxVUxbXMnt8DTxQQVcO2MW\nQjUkW5Xo1ap6PvCbwIdE5DX4b/q5Km0Bs0qL5++Al6vqufgN8F8vZjAiUg/8K3Bz+pvLivn3LBBb\nxVw7VfVU9Tz8b6FfIyIbqZBrNym214rIFVTQtTPzwtri41NRfw+V3A5D5bbFldwOg7XFxlRDstUN\nnJDzeH1626JR1UPpn33Aj/C7uHtFZDWAiKwBDi9ehDBNPN3AhpzjFuV6qmqfqmYa/28yMUxgweMT\nkSD+G+jfq+oD6c0Vcf0KxVZJ1y5DVYeAnwIXUiHXblJsPwEurMRrVyUqrh0Ga4uPVyX9PVRyO1ws\nvkq6ful4KrYdzonP2mKz7FRDsvUEcIqInCgiYeB64MeLFYyI1KW/3UJEosCbgafTMd2YPuz3gAcK\nnqCMoZE//rlYPD8GrheRsIicBJwCPL7Q8aUb/4zrgGcWMb7vALtU9a6cbZVy/abEVinXTkRWZoZ+\niEgt8Cb8ic2Lfu2KxLajUq5dFaqodhisLZ6P2Crs76GS2+GC8VXC9avkdnia+KwtNstLscoZlXQD\nrsKv/vM8cNsix3ISfiWu7fhv7Lelt7cCv0jH+TDQvIAx/RNwEIgDB4D3Ay3F4gE+hl/hZzfw5kWK\n7/vAzvS1/BH++PIFjw+/KpKb82+6Lf3/rei/50LFN01slXLtXpmOaTvwFHDLTH8LC3jtisVWEdeu\nGm+V1A6n47G2+Phjq4i/h0puh2eIb9GvXyW3wzPEt+jXzm52W6ibqFbS8HFjjDHGGGOMWRqqYRih\nMcYYY4wxxlQdS7aMMcYYY4wxpgws2TLGGGOMMcaYMrBkyxhjjDHGGGPKwJItY4wxxhhjjCkDS7aM\nMcYYY4wxpgws2TJTiIgnIl/Kefy/ROST83Tue0Xkuvk41wyv804R2SUij+Rse4WIbBeRbSJyVERe\nTD9+eJbn/rf0IqrTHfMZEblirvFPOleXiDyVvv1URFbOQ3zvF5FV8xGfMWb+WTs847mtHTbGVAVL\ntkwhceA6EWld7EByiUhgFof/PvAHqvqGzAZVfUZVz1PV84EH8BdXPE9V3zyb11HVt6jq6AzH/B9V\n/c9ZxDsdD7hcVc8hvXjr8cYHfABYO0/xGWPmn7XD07B22BhTLSzZMoWkgHuAj07eMfkbUREZTv+8\nQkQ2i8iPROQFEfmCiLxXRB5PfxN4Us5p3iQiT4jIHhH5rfTzHRH5SxF5TER2iMgf5pz3VyLyAPDr\nAvG8W0R2pm+fT2/7BHA58G0R+WKR31EmnecNIvIfIvIg/qr2iMiP03E+LSK/n3Nsp4g0isjJ6X3f\nEpFnROQnIhJOH/P3IvK2nONvT3+Tu0NETklvbxORX6TP8fX0N6eNRWLNxPsrIPP89+b87p8tNT4R\neRdwLnBfOqagiHwpfcyOzHU0xiwqa4exdtgYU/0s2TKFKPA14D0i0lDCsRmvAv4IOAt4H3CKql4M\nfBv4SM5xJ6rqRcDVwNfTb4y/Dwyo6iXAxcAficiJ6ePPAz6iqmfkvrCIrAW+AGzEf9O6WETepqqf\nBp4EfldVb53F730B8EFVPTv9+IZ0nBcDHxWRpgK/82nAl1X1FUAMeHuRcx9Kf5P7bSY+PH0K+DdV\nfSXwIDN8wykign/NnhaRduDTwBX41+fVIvKbpcSnqv8M7ADelY6pFXiLqr5CVc8F7E3emMVn7bDP\n2mFjTFWzZMsUpKojwPeAm2fxtCdU9bCqJoAXgJ+ltz8NvCznuH9Ov8YLwF7gDODNwA0ish14DP+N\n59T08Y+r6oECr3cR8B+qekxVPeAfgdfm7JcCz5nOFlXtznn8v0RkB7AFaAdOLnDeF1R1V/r+VvJ/\nz1w/LHDM5cB9AKr6E2B4mtj+C9gG1ABfBC4BHlHVflV1gX9i4ncvNb7McccAV0TuEZG3A2PTxGGM\nWSDWDgPWDhtjqlxwsQMwFe0u/DeWe3O2pUgn6elv+MI5++I5972cxx75/9dyv/GT9GPB/9b057kB\niD+5ebpx77N9I59O9nVE5A34b8IXq2pCRP4L/w12stzf2aX431S8hGOK/S6KP1cg+yHAv/Ql/e4z\nxqeqKRG5EHgT8NvAHwNXlnBuY0z5WTts7bAxpopZz5YpRABUtR//28/fz9m3D7gwff8aIDSH8/+2\n+E4GTgKexf/29U9EJAggIqeKSN0M53kceK2ItIo/mfrdwOY5xFNIE3As/QZ/Nv63t4Ucz4eM/wZ+\nByA99KR+mteY/DqPARtFpCV9za6n8O9eLL5hoDH92vVAk6r+FH9ozbmz+B2MMeVh7bC1w8aYJcB6\ntkwhud94/jXwoZxt3wQeSA8z+RnFv+3UItsBDuC/QTcAN6XfSL+FP7RiW/qb2sMUH3fvv4Bqj4jc\nxsSb20Oq+lAJr1/K/p/gz1d4Bv9DSEeR5xY7TynH3AH8o4jcCDyK/zsXup5Tnq+q3ekJ6JlKWz9W\n1X+fxWvfC3xLRMaAtwGbRCSC/6Hg/yvyHGPMwrF22NphY8wSIKoztXXGmHJIv6mmVNUVkVcDf5Oe\nyG6MMWYBWDtsjCk369kyZvG8DPhBeuhNDLhpccMxxphl52VYO2yMKSPr2TLGGGOMMcaYMrACGcYY\nY4wxxhhTBpZsGWOMMcYYY0wZWLJljDHGGGOMMWVgyZYxxhhjjDHGlIElW8YYY4wxxhhTBpZsGWOM\nMcYYY0wZWLJljDHGGGOMMWVgyZZZVkTkChHpLNO5TxQRT0Ts78oYY9Ks3TXGLGfWOJnlaF5W8haR\nl0Tk9eU4dwmv/UYR2SoiIyJyQETeuRCva4wxc1TV7a6I/LaIPCoioyLyywL7zxWRJ9P7nxCRc8od\nkzGmOliyZUyVEZGzgH8EPgY0AucAWxc1KGOMWdqOAn8DfH7yDhEJAT8Cvg80p38+ICLBBY3QGFOR\nLNkyZZX+FvIWEdkpIkMi8i0RWSUiPxWRQRF5WESaco7/ZxE5JCL9IrI5nVggIiER2S4iH04/dkTk\nv0Xk/8zw+jUi8l0ROSYizwAXTdq/VkT+VUQOi8heEflIzr7bReRfROS+dOxPisgr0/u+D5wAPJje\nd0vmacB7RWR/+pwfn4fLONlfAF9X1YdV1VPVflV9qQyvY4ypQtbuzn+7q6q/VNV/BQ4V2L0RCKjq\nV1Q1qap3p2Oa3ANnjFmGLNkyC+E6/Ded04G3Av8G3Aa0AQHgT3OO/SlwMrAK2Ibfg4OqJoH3AneK\nyBn4vToO8NkZXvsO4KT07Urg9zI7RESAB4HtwFrgDcDNIvKmnOe/Dfh/QAvwA/xvKwOqegNwALha\nVRtV9a9ynvNq4FTgjcAnReT0QoGJyK3pDzfH0j9z7x+b5ne6NB3+ThHpFpHvi0jLDNfBGLO8WLtb\nwHG0u9M5G9g5adtT6e3GmGXOki2zEO5W1SOqegj4L6BDVXeqagL4IXBe5kBV/a6qjqXf5D8FnCMi\nDel9vwY+gz9c46PAe1V1prH6vw3/P3t3Hh9HedgN/PfsrVs+5FOWsMH44AgBcwSDY0gIkIRw9E3T\nvCktadMmbxJC+pacTSI7KaR5Ic3hvDQlbwNvXtomTYgppNAECK4vDMbcYNmAjCRbhyVZx2qPmZ2Z\n5/1jdlaz96Fd7aHf9/OZz87Ozq4e+Xhmf/Nc+Fsp5aSU8gSAH9peuwjAYinlHVJKXUr5NoD/A+CP\nbOccklLulFLqAP4egA9m2LGIhJ8nAWyTUqpSypdhXnBT9t2XUn5HSrlASrkw+mjfX5jhd2qH+QXo\nRphfLuoB7Mj8x0BE8wzr3RRmUe9m0ghgMuHYFICmAj+PiGoIwxbNhWHbfijF80Yg1kXl74QQbwoh\nJgAcg3kRXWw7/2cAOgE8KqXsyeFnrwBw3Pa817bfAWBl9K7mKSHEOMw7t0ts58Rm0Ip+wTge/cxM\n7L9f0Pr9iigE4KdSyreklEEAdwK4tsg/g4iqG+vduTMNc/ysXQsA/xyWgYgqFMMWVZKPwezucqWU\nshXAaTDvYNrvYt4DswvK1UKIS3P4zAEAq2zPO237/QB6onc1rTubLVLK62znxN4b7f7SDuBE9NCs\nZsASQnxFCOGPjj2wb34hxFSGtyZ2VyEiKhTr3dzq3UxeA3BuwrFzo8eJaJ5j2KJK0ghAATAuhGiA\nOetT7MIqhLgZwPkAbgFwG4CfCSHqs3zmLwF8RQjRKoRoB/BZ22vPAvALIb4YHdDtFEKcJYTYZDvn\nAiHEDUIIJ4C/AhAG8Ez0tSEAaxJ+XmL3lrSklN+WUjZFxx7YtyYpZeJdUrv7AHxcCLE6+vt/CeYX\nISKifLHezaHejbYAegG4ATiFEF4xM9vgLgC6EOJWIYRHCPE5AAaApCniiWj+YdiiUku8C5npruTP\nYA5+PgHgVQD7rReEEKtg9t2/OTq24F8BHIQ5FW8m26OfeQzAf0Z/hlkQKQ0AHwRwXvT1kwB+gvju\nIP8O4CMAxmHeAb4xOo4AAP4OwNejXWH+ZwG/b0GklPdFf49nouUOwfwSREQEsN4txbpbN8Osa/83\ngMtgdlW8F4hNJHIDzIlAxgH8CYDrpZRaCcpBRFVGZB/nSjQ/CSG6AJwenQGLiIhKjPUuEdUatmwR\nERERERGVAMMWVT1hLtRpH/Bs7X+53GUjIqpFrHeJiHLDboREREREREQl4Mp+SmUQQjAVElHNkVLm\nPJNaJWBdTES1qNrqYqoeVdWNUEpZsVtXV1fZy1CNZWP5ardslV6+SihbtSr3n1sl/52yfPOvbJVe\nvkouW6WUj6iUqipsERERERERVQuGLSIiIiIiohJg2CqSrVu3lrsIaVVy2QCWbzYquWxAZZevkstG\nhan0v1OWr3CVXDagsstXyWUDKr98RLNV0tkIhRD/BHOl+GEp5blpzvkhgGsBBADcIqV8Mc15kv1q\niaiWCCEg52BQNutiIqL05qoupvmp1C1b9wG4Ot2LQohrYa4UvxbAJwH8ONOHdV1xBbb/8R+j99ix\n4paSiKi21XRd3HvsGLb/8R+zXHmo5LIREdWSkq+zJYToBPBIqrupQogfA3hKSvmL6PPDALZKKYdT\nnCslzFuuXaefjlsffxydq1eXtOxERKU0l3dTa7Uu7j12DDuuugrb33oLDSxX1ZcNMMt3/9e/DuPE\nCThWrsQt3/oWy0UlxZYtKqVyh61HAHxbSrk/+vwJAF+UUj6f4txYSQMA7j7nHHT9yZ8ATU1AYyPQ\n0GA+Ws/tm8cDiNL8H2LlS0SFqqCwVXhd3NGBrksuKWHJM9t+4ABu7+tDg+1YAMDdp52GrssuM+t+\nh2Nms54LEb+f7jUgv/Ojj9t/8Qvc/uKLyeXatAldn/iEea7TObM5HIDLlXzM2rdeS3Ve4pbqs23P\nt//FX+D2X/wiuWwf+xi6Hnig1H9lGVVqEKzUcln4XWR2GLaolKpmUWMA2GbbP3biBPDCC0AoBAQC\nQDBobuGw+RgKzWyGAdTVAfX15mbtW48NDfH71nkNDTNbXd3MfmMjUF+P3pMnseNjH8P26IU+AKBr\n3z7cunOnWcnZL/DWxc7aJ6J5Z9euXdi1a1e5izFr22z7xzQNuPDCchUFxqFDcaEBABoAGA4HsG5d\n9CTD3KRMfgQAXU/9GIkkv8f6vFSfZW2GAWNgIHW5jh0DfvObmTLp+sx+quepNuscKePP1/WZ8qT6\nnOgxIxxOXbZ/+Rfg3/89Ptxlesy0OZ2A2z3zmO386Hb/r34VCzRWuba/9Rbu/shH0PXnf54cdAsJ\n0Onem+q86P7927enLtdtt6Hrhz80b+q6XOajxzNznbc+w76f7nmBUgbBAwcYBDPYtWsXHtq5Ey8+\n9RTk1FRZy0K1r9xh6wSAVbbn7dFjKW2LPgYA3H311cB995kXD/sWiQCqam7WfjAI+P1mKAuFksNY\nODyzTU0Bw8Pxr1tBLmH/fsPAdinjK9+338bd11+PrquvBlpbZ7YFC8zH5ubUF6RUF55UIS1xI6Kq\nsXXr1riZt7Zv316+wsQrvC6+4grg9ttLV7IsHC++iIDtSzBglsvxrncBX/ta9g+wAleujzme6/jz\nP0cgReuR4z3vAe69N7fPsYe7xEd7uLOFvKTXUwRBx5e/jMCjj6Yu29/8jXnt1DTzmmo9WvvWc/s5\nqc5Ld8zaV5Tk67euwzhxInUQfPNN4MEHs/8ZpPqzyPf8FMeN48dTl+uxx4B3vCP5z8feAmm/3mc7\nZgVUa9/+ncD+3Np3u3H/73+fOgjedBO6br4543vThuJ0Pzvx0So7EB8io4+9x45hx7XXYntPz0wQ\nfPrpmSBYol5H2azu7ITrP/4D/xH9c2OTFpXSXIQtgfT/jh8G8BkAvxBCXAJgItUYAbtY0/0dd5h3\nj3Jl3QFMtVnhzApoVkgzjOSKQMrYnS7jk59Ew/PxvWwaABhCmBVQfz/w8svA+Dhw6pT5ODlptpq1\ntgILF8YHspaWmUBm7be2mi1p9nJYF2Ih4itmW4XdOziI+++6C8bwsHknqasLnWecMRPiiGi+KU1d\n/K1vFbeUebrlW99C14EDyd27ci1X4hfEYpXr299G13PPJZfr7/7OrN/L6JYf/QhdqbrE3XsvkKrF\nwR4CS7zv+Mu/RODBB5OD4NatwI4d5oFcg1S6c+3vsZch3bkAHF1dCPz2t6kD6vbtyddoTTPfr2nm\ndwprPzGUWa/bjyceSwyr9qAbicCYnEwdBPv7gSefTP/dx9qssiU+pgrK9s0eLFN1Z3W5cL/fj+22\nltQGANt7enD3+eeja82a9MEu3TH7a253fIti4jn2Y9Z+9PH+v/3buIBKVEolDVtCiH8BsBXAIiFE\nH4AuAB4AUkp5r5TyUSHE+4UQb8Kstz6e6fO6rrgCjhUrcGshTdBWAHLl8Stb3S5SVTCqCkd7OwLP\nP59c+a5fD/zpn8b/XHvf+enp+ABmbadOAb298cdPnTIrViucLVgw82i1mLW0zDw2N6N3eho7brsN\n26N34mLdG3/4Q3SuXGmWx+s1N5/P3FK1rhFRTaiourjIOlevxq2PP467v/51GAMDLFcpylaiQJrK\nLXfdha4XX0wOgt/9LrByZcl/fkpS4pZ77jEDqr2FZs0a3PrDHwKnnRY7L/aYy34ur1tdQK39FMHQ\ncfIkAg8/nLp19667Un9Gps+2SwyRqW5AW4HN+n5khTVNg/HVr6Lh1Vfj3tIAwFi6FPjEJ5KDp31L\nFUwVxeylZAXOAjdjcJBBi+ZMySfIKJZKXNslZT/pNWtw629+g8729pm7U+GwWUEoirmv68kVmHVn\nyN6dwDpHUeLDV6pH27Z9bAy327o3Ilq2uzs70XXNNeYkIk1NM+PPrMfmZrPVzepDbgUyK5R5vam7\nOhbw51Zp/beJyqEaB2VXYl1MtSV2jYgGwUq5RlRyuYo6eUcRWyy3f+ITuP3f/i35+8h/+2/o+vGP\n48cU2oNk4pZ4HEh93NYaCSDtDYLt3/gGbre1VAqg6upiqh4MW7NUUOVru+sT26wgZoUyVU2+wyRl\nch9vq6+0TdfNN2P7s88mHz/tNGy//nqzK+PUVOrHSMQMYs3N5mYFM2uWR+s163HBAmDxYnNbuNCc\nSCRDK1mlz+hENJcYtoioGOZNEMxFYvhLsfUeO4YdH/gAth87FhuzVW11MVUPhq1KlqpZ3ZrIwx7K\n7IRIumMDRO8kfeAD6Lr77syzH6lqfACbmgImJpKPTU7ObNYxTYsPY9bW3Bzr+rj9t79NPR3yTTeh\n6/77zfCYOBNUqq0E2OJGc41hi4hqXSUHQatc33zqqaqri6l6MGxVO2sgrm3rffNN7Pjwh7G9t3fm\nTlJ7O279h39A5/LlyU3tVnix//lmCjT2u0b2UBSJmLM+Tk2Zj9ZmC2ddv/sdtp86lfSRXUJgO2B2\nV0ycmt/atzbrWHQK/qTukA0N8eut2Wd2tM/waAtvvf392HHDDbG7XLEuoY8+is7TT+fsj1QSDFtE\nROVXjXUxVQ/OglDtrBkJ3e7Yoc4LL8StTz2VffBzqqlvM02Nm+q8bOvAJGyOqanUUw6/731AV5fZ\nametnWaflj9xPxgEhobM86zNPjW/fbp+rzdreLv/0KFY0AJsMybdfDO6Pve5mXXWmpvNx3RT5Nqn\n6U81ZX+Kbp/ZsMWNiIiIqDqxZYvmVNpJRR59FJ0dHfGzGhmG2a0xOvtjbJp+6zHV1PwWe6ubfXKS\nUMjcDwbjFsPuuv9+bD9+POljuhobsX3lyvhQp+szoS1xS7U4duLr9vFwLS3mcWv6WvvEI04nevv6\nsONDH0pucXv8cXSuWVPCv6ncMAjOTjXeTWVdTES1phrrYqoebNmiOVXU6ZATp5y1T9VvGDNrpllT\nxCYGNcAMY1LCcfAgAgmLVgYAOC67DLjzzplxZA7HzAyT9oWurSBm3w8EgNHR+OepNimTW96ige3+\no0exfWAgucXtQx9C1x/+ofkeq+ulvQum12t2ofT5Zj7PPsulfVxc4mO6YwlSBucDBypmspNKDYL2\nchEREVFtY8sWzU8JQa23pwc7rrsuvgWpsxO3/vM/o3PFiuSFH+3ridiDW+LPSDcezj4GTNfN0GYF\nN9tj1/e/j+09PUnF72prw/aLL05eVkBV4ydPsY5FImZ3R6/XbEXzeGb2sx2zntfVxT1u/9WvcHuK\ndebuvvJKdH3968kLSXq98ccSJzxJ3E91LMf93mPHsOPqq+PXxKmAWS8TA2o1zoDFupiIag1btqiU\n2LJF85O12HRU51ln4dYnnyysxc0+ji1x3Y9U+/bFsa0AZw9ztn3H2rUIRAODJQDAcf75wNe/nrlM\n9t/VmkhFVeO3SGQmmEUi8QHNvimKOdGJFerCYRgJ5QKii1Xu328u6q3ryQtPWr+3rs+0tOWy5XOu\ny4X7n346eQzeW2/h7muvRdf7359+PF26MXep9hPPz/RadP/+73wnFrSIiIio9jFsEUV1rl6Nrgce\nyP+NQhQ08UUubrnnHnRddVV8C82aNbj1e98DOjtzn9Ak25bqPHs4tJ7bfmfHN76BQIolBhzvfjfw\nzW+aB+ytexbrc63QlbjZQ5n9nMTnVpCz9m3vNSKR1EFwYgIYGYmfwCWxK2qqY0U635iYYNAiIiKa\nRxi2iCpY55o1uPWJJ4ozxq0YbCHulh070HXNNfFBcPVq3Pr3fx8fBBPeF7cBqUNeuvCX6rUUxx0v\nv5x6DN555wG33hr/+2SaZMX+mvXc/jvl2hUy+uj46lcReOwxBi4iIqJ5gmO2iKhglbxYZcpZLx97\nzCxfYuBLFwwzPbf2UwXENM97e3ux45ZbsL2/n2O2iIgqBMdsUSkxbBFRTarkIGiV65tPPVV1F3jW\nxURUaxi2qJQYtoiIyqQaL/Csi4mo1lRjXUzVw1HuAhAREREREdUihi0iIiIiIqISYNgiIiIiIiIq\nAYYtIiIiIiKiEmDYIiIiIiIiKgGGLSIiIiIiohJg2CIiIiIiIioBhi0iIiIiIqISYNgiIiIiIiIq\nAYYtIiIiIiKiEmDYIiIiIiIiKgGGLSIiIiIiohJg2CIiIiIiIiqBkoctIcQ1QohuIcRRIcSXUry+\nSAjxmBDiRSHEK0KIW0pdJiKi+YT1MBERUXkIKWXpPlwIB4CjAN4DYADAQQB/JKXstp3TBcAnpfyK\nEGIxgCMAlkoptYTPkqUsKxFlJqWEhIw9Jh4TQgAABETWfTIJISClLOkfSjHr4ei5rIuJqKbMRV1M\n85erxJ9/EYA3pJS9ACCE+DmA6wF0284ZAnBOdL8JwFiqCzzRfGFII7ZJKeOf29KnnZcAACAASURB\nVMJOYuhJPCfV+1I9l5AwDAMGzJ9nfa79/QAAAUDGLkoQELFjEtHntvMkZOxc+3EAcAgHHMIRvy/M\nQOaINrg7HA444IAQZkizwpqASHp/uuPWvj3wWQo9Zg+Micfyed8cBk/Ww0RERGVS6rC1EkC/7flx\nmBd+u58AeFIIMQCgEcBHSlwmoqJKDDbpNt3QoRkadGk+aoaW8pgl5ZdxiZkwI2QsvFjn27/YJ36h\nt4eVpNYmATjhNANPQrApRSiwB0bz14rfB8zQqUs9qRUtcd96nupzrPPsISgWGiFigdD6jMRj1o+w\nB8e4UJnj+1Idq3fXF/4HmB/Ww0RERGVS6rCVi68AeElKeYUQ4nQAjwshzpVSTieeuG3bttj+1q1b\nsXXr1jkrJNUeewiK7Us9KRzZt1g4gg7dMDcDRvyXeRt7dyshZlpe7K0wQgi4HW54Xd5509UuFgxr\n/1eN88zeZ/DsvmchIaFoSrmLY5dzPQywLiai6rZr1y7s2rWr3MWgeaLUY7YuAbBNSnlN9PmXAUgp\n5Xds5zwK4A4p5b7o8ycBfElK+VzCZ3GcAMXYW5MSA5K1r+pqLCRFjMjMvh6JtSAlfuFPbKVI1S0t\nVVgiyoeUElPKFC5qv2guxmwVrR6Ovsa6mIhqCsdsUSmVumXrIIAzhBCdAAYB/BGAjyaccxjAewHs\nE0IsBXAmgJ4Sl4vKTEoZC0mpWpZ0Q0dEjySFJF3qscfE7l9AtAtatJuYQzjgdDhjwcjpcMIpnHC7\n3QxJNJ+wHiYiIiqTkoYtKaUuhPgsgN/BnGb+n6SUh4UQnzRflvcC+DaA+4QQL8H8mvxFKeWpUpaL\n5paUEoquQNEUBNQA/KofU8pU3Ngae3AC4rvc2Teru53V2kREmbEeJiIiKp+SdiMsJnZdqQ6GNKBo\nCsJaGIFIAFPKFKbV6ViIcjqc8Dg98Dg9DEw1oL+vHz/48Q8wPD2MpY1LcdunbsOqjlXlLhaAyi7b\nXHYjLDbWxTSfpJsAyeVwweVwwelwlruIVATsRkilxLBFBdMNHWEtDEVX4FfM1qpgJAjAHAtlD1bs\nsld7+vv68fGvfhz95/cDHgAqsOr5VbjvzvvKHmoquWwAwxbRXEgMSvbxvakmQYoYEWi6lnKGWPs1\nLHFdQa/LC5/LB6/TfPQ4PXA5XHA73WYgE05eAyscwxaVEsMW5SSiR6DoCkKREPyKH37Vj7AWNieT\nEBJuhzsWrKpVJbeEVBpDGvj8Vz6P3y75rRlmLCpwYe+F+JPP/Yn5xcYwoEkNhmF+0dENPe7RkAY0\nQ4t9EUp63XpfwrFUn2n/rO5fdWPsnWNJZXtnzzvxhb/5AlY0rsCShiVluyvNsEWUmRWUEgOSfZyv\nPSRF9EhceIoYERjSSA5JthmRrC7sVhhK1XU9Ww8MKWVSOIubhTY6CZPX6TU3K5i5vLHWMZfDBbfD\nzUBWRgxbVEoMW5RE1VWEtTBCkVCsG6Cqq7HXrVDldrrLWMriquSWkFKGQCklApEAxsPjmAxPYiI8\nEXucUCbMR9sx69Gv+iGfkjC2Gkmf2fp0KzZ9bBOcwgmnw2lOThLddwrzucvhinuMe93hgEu44h7t\nr9s/N9X7nQ4n7rrjLnSf051UtoUHFqLj+g6c8J/ARHgCSxqWYEXTipTb8sblqHPXFeXPOdWfO8MW\n1ap04ci+WQEpcXkNa7MvqZEqJAGImxHWqgcSQ1MlsCaEsq+rqBt6/EkC8Dg88Lq8sRYyn8sXF8jY\nbbF0GLaolBi25jH7xBXBSBBTyhT8qh+6MTPTn8fpgdfprekK3pAGPvPFz+D3y3+f1BKy/sh63PCp\nG+BxeWJ/FnGPLm8sfKY7PpsLfq4hUEqJkBZKCkqJIWk8PI5JZebYpDIJj9ODVl8rWn2taPG2zOz7\nWrDAtyB2rMU381qztxlf/tqX8cjiR5L+zK4bvQ5333l3wb9zMdz+1duzlk3VVQxND+GE/wQG/YMY\n8A/E7Q9OD6LR02iGr8ZoCGu27TetQKuvNe+70f19/fj+j7+PgakBPP/z56vuAs+6uLZlCkj2wBBb\nRkPGr0MYMSJpw5EQ5rIa1myxiZvVyjRfZ4u1Wuntazpai6lbHMKBOlddrIXM5/LFuitaW6kXpa9F\nDFtUSgxb80S6iSsA84u6QzhiAaFS7gYWW0AN4O2Jt9Ez3oOeiR4cGz+GnvEe9E72Qv+9jsiWSNJ7\nlh9cjvd94n1QdRWKrkDVVaiaGvc87rihQtFmjkf0CFwO10wYc8WHtWzH9/+//Xhrw1tJoWHZy8uw\n6kOrMBmejAUoAREfirytccHJ2reHqhZfS8FdPyu9NXC2ZTOkgbHgWFIIO+E/EQtjmqFheePytK1j\nSxqWwOWYmfQ1qVzbUHUXeNbF1UlKGWtNihiR2E22sBaGaqixsUoA4tYaTPyMVIuz25fYmK9Baa5Y\n3SftwQy2/47W35uU8cugWL0AhBBwwAGHwwEHHLFeAvbN3nvAeo/192sPcdaj9W8h8bVq+rfAsEWl\nxLBVQ6y+49YFVdXVWItVUAvGKmT7l/9qqQhzJaXEcGAYPeMzYapnogc94z2YCE+gs6UTqxesxpoF\na7CmdQ3WLFiD01pPQ9e2rpK00lhfcFQ9PoTFnhspwlv0uKIpeOAHD6D/gv6kz1370lp8retrcQHK\n5/IVXM5CWV0cTwZOYknDkooa5zYXZZtWp3Fi6gQGpwdnQpgtlI2HxrGkYQmWN5mB7PVfvo431785\n8+9sG8MWFY/V2mRdA4KRIEJaCKFICGE9DCFFXBc8e9e0Sup2R8VljX+TkJBSxv4NGNKIPc903M4a\ngwYJQNi6eCYci56cshXTPH0m9EUj2sy+LaxZ/ybtAT8u8CcEPABJrXrpXrf2PU4PnA5n1dXFVD0Y\ntqqM/WKqGRpCkVDsghrWwkkVo9tpTlxRa4NvFU0xW6miQcoKV8cmjqHB3YDVratnQtWCNVi9YDVW\nNK5I2x2yUltpcukOR5VL1VUMTw/HWsZ2fGcHTmw6MXPCNoYtyp0hjbgwpegKgmowdg0wZPwYytjk\nC9FuZkTlkBjo7MHOeh1A0mupzrMHQPv59sBn34+10KYIh1JK6IaO0xeejmVNy6quLqbqwbBVYaw+\n79bA4bAWNi+kkVDcxdTqJpA4eLYaAlWuEz5IKTEWGouFqZ7xHhybMFurTgZOYlXzqpkw1bo6Fqqa\nvc2zKlcltdJUagikwiSF520MWxTPfkNN1VSEtFDsGqAYCoS0fakUIi5M1UrLFGeGpbkyGZ5ER0sH\nwxaVFMPWHLPuTFrd/ax+81ZXj7g+80LCKZxxYaraL6apwkP78+345he/iWBDMBamrM0pnFizMD5Q\nrVmwBu3N7fPmTm0lhkAqDMdsUWLrVOINNftYGwmZNPlBravkG0wMgbWHYYvmAsNWkVljdKy7k9a4\nqVDE7OaX6c6kNSi1VhnSwKe/8Gk8teKppG5xDQcbcNHHLorv+te6GgvrFpatvFT9rDqjklp8rdkI\nB6cGcejnh6ruAl8tdfFcSzVxgW7osfGY4UgYIS0EVVdj3ZoSb6jVWnfvQlRq1+lKDoFUOIYtmgsM\nW0WgGRrenngbgUgAiqaYB6P9gwEkdfWbD3RDx7GJY3ht5DW8dvI1vD7yOg6PHob6hAp1i5p0/sVv\nXIyf/eBnZSgpVQJrALd9EHeq59Z+4mxp9qmmY7NxRfvxC4hY91trDGO5F9/mOluVz742UuJ03GEt\nDFVXY+OmVF2N6+JttUoBiE0+4Xa4uU4SzGvDWGgMI4ERjARHMBIYwcngydjzp3/2NAKXBZLf+BTg\nvHJmWvjEGREzHY97DQnn5fiet3a+lXKh9LPfPBt/8T//AovrF2NR3SIsql+EJk/TvA/N1YJhi+bC\n/PjmX2LjoXGMBkfR5GmCz+ubd5VsRI/grfG3YqHqtZHXcGTsCNrq27CxbSM2tm3Epy/8NDYs3oA7\n3r4Dj6jJdy2XNCwpW/mpcNYX0YgegYQtINm6QtlDEIC4gGSxZkZzOpxwwPxial+k2HrNep72S1GK\nL1/WenJhLYyp8BTGlXGMh8Zjg6R9Lh+8Tu+8+387H1nrR9nDky712Eyh1mygESMys16UPTxFZ1Gz\nL6Ltdrrhc1VfvV/sLnGKpsTCU6oQNRIYwWhwFBPhCbT4WtBW34bF9YvR1tCGJfVLcMbCM/Cu9nch\ntDyEfeq+pGvEB9d9EN/5H9+J1S/2mzH2tcDSvWY/biDhvBw+787f3okxz1j8L+0BTk6fxG+O/gaj\nwVGcCp3CaHAUESOCRXWLsLBuoRnC6hdhUd2iuEBmPW/1tRYlgLOLI1HlYtgqgoHpATR6GuF2ustd\nlJJTdRVHx47i9ZHX8erJV/H6yOt489SbWN60HGe1nYWz2s7C+05/Hza2bUSTtynp/bd96ja8+NUX\nk7pi3HbnbXP/yySw7lhrhhYLAtaXfJfDVfPdPFOx7uRHjAh0Q5+Z+ck2QUuduw4t3pbY2JJUa7Rk\nuwtdSkKI2OKfrb5WdKAjNpNnIBLARMhcBNpqjfY4PPC5fPPu77oWqLqKgBqAZmhxyy1YSyzoUo8L\nT9a/Y2utKOvfrs/lQ4Ojody/TsnEdYlbAUAFXvzqiykXSw9EAjgZOJk1RAUjQbQ1RANUfRvaGtrQ\nVt+G85adF/d8Uf2ijD08Nv7VxpTd9T5/5+fL2jNk7aK16Fa7k0Lgxe0X4+73x3dvDGthjAXHMBYa\nw2hwFGOhMYwFx3B86jheHn457phf9aPF2xILYIvqF2FxXXxAs4e2VK3yuf59ElF5sBvhLAUjQbwy\n/AoW1C0od1GKLqyFcWT0CF4dMUPV6yOvo2e8Bx0tHbFgtXHJRqxftB4Nnty/mFTKhA+J4crr9GJB\n3QK0+FogIGKvh7UwFF2JrX9lzURrdWWzvqTZg1m1sO7uW+MME+/ke5yeWFCpd9fD6/LGxpa4ne6q\nn7DFYkgj9ndtha+Ibi5y7XK4YotOFwu7EZbG0dGjOBU6BYfDXJjVvpirdQOA0o+LWv36apz5B2fG\nhSghRFxYsh6XNCyJe97qay1a616lXCMSy1SKMVuaoeFU6FSsVczeQmYFNiu0jYfGUeeumwlf0XD2\n3L88h6Prjib9fb5/5P343re/N+vfvZaxGyHNBYatWeqb6MPJ4MmCpxuvFAE1gMOjh2Oh6rWTr6Fv\nqg9rFqwxQ1XbRpzVdhbWLV5XlsVzi8EKT9aXaHu4qnfX5/Rl2hoEb98UTTGnZY4GMsVQYl3nADO0\nOGB+2bN3j5uLbkeJZQVmxjdJIeFxeFDnqkOduw51rjp4XJ7Y2JJaClOFUHUVoUgIftWP8dA4gpFg\nLIh6XV54Xd6C/3wYtopP0RS8MPgCFtZzUp1EET2CnvEeHB49jMMjh/HgPQ/Cv9mfdF7H8x34q6/8\nVVyIyudGWq0rdwiUUmJSmYxvNQuO4aff+ykGNg0kv+EpoP599VjgM69zrb5WtHijj74W87jteauv\nFa2+VjR7m4t607CSuzgybNFcqJ5b8BXIkAaGA8No9DSWuyhJMlVufsUfG1v12og5zmrQP4i1i9Zi\nY9tGnL/8fNx87s1Yu2ht2ScSmA1r8Lo9XC2qW5RXuErkEI6sEyxIKZMDmR4NZJoCRVcwrU/HWsis\nsSBWILO64uWyblqqMGUfX+Jzmq1SLV7zd3Y73bFWqVpYSqCUrL/nFl8L2pvboRs6QloIATWASWUS\nk+HJuIk3fC5fVbVq1prx8Dj/PcO8cXZk7AgOjxyO3UB7a/wtLG9cjg1tG7Bh8QZsXLoRz6jPJLWE\nvGPZO/D+te8vW9kr3aqOVWWdEVEIEQtEp+P02PGXVryEAXUg5Ti37R/fjvHwOCbDk5gIT8QeJ5QJ\nnPCfwOsjr5vPba/5VT/q3fXxIczbGvc88XirrxVN3qak/4Ps4kjElq1ZmQxPonu0u+K6EKbq7tDy\ndAvO+9B5OIZjGA2OYt2idTh7ydmxCSxOX3B61Y85SxWu8m25mivWTGfWEgHWGBOry2JIC0HVbDOc\n2Wfai07sICHhc/pQ566LPXqcnliQ4jTSpSWljHU9nFQmMRGagKKbs5E6HU54nWbXw1R/B2zZKi4p\nJV4cejH273++GAuOxWZ6tYLV0PQQzlh4BjYs3oANbRuwcfFGnLnozLgWKk5jXluK/fdpSANTylRc\nMLOHsXTHg5EgmrxNccHsrV+/hePnHE8Kgpve3oTPfOEzqHfXo85Vh3p3vbkf7WUxF9eu/r5+3HXP\nXfCH/dj/wP6qq4upejBszcLR0aMIakHUu+vLXZQ4n/niZ/DEsieSKrfzes7Dnd+8E6e1nlYTg/+r\nKVwVKrHlSkDEWqdyafmiuWUF5mllGuPhcUyr07GxfV6XFz6XDw7hYNgqMqu1vtJufBWLIQ0cnzpu\nBitbi5WiK2aosoJV20asbl2dU+Asd5c4Kq5K+PvUDA1TylRcS9pdd9yFnvN6ks5tfboV6z+8PrYO\naTASNPc1sweIFbqsANbgbog7lhjOrNetY/Wu+pTvtf5v1MIC81Q9GLYKpOoqXhh8oaiDgmcjGAni\n8Z7HsfPwTjz7wLPQt+pJ51T7Wlb2cCWEgMfhwcK6hWj2NddMuKLaohs6wloYwUgQE+EJTClT0KUO\nwzDgdDgZtoqk51QPJpSJiuzSnS9VV/HWqbfiWqy6R7vR5GmKtVRZ3QFXNK2oiOsPUTqFLFJtddm2\nQlhIs4Wx6Cyy9tdj56jmYyASQCgSih0LajOBziEcqHfXQ3lSQfii8Ey5tjFsUelwgEGBJsIT5por\nZbzQGdLAcwPPYWf3TjzR8wTeueyd+MjZH8GCtQvwqPpo1a9llSpcLa5bjBZfS6zLHFElczqcaPA0\noMHTgLaGtrg1v6wWWZodzdAwGhpFi7el3EVJkm1igGl1Gt2j3TPBauQwjk0cQ3tzuzm2qm0j3rP6\nPVi/eH3NttpZY1ytGVF1qUNIs6u0/Ryr+7Q1JtU+w6Q186R1jCpHIcu9OB1ONHoai37zREqJiBFB\nQA3gUy9+Ci96Xizq5xOlw5atAr00/BKcwlmWL/z9k/14qPsh7OzeiQZ3A27ccCOuO/M6tDW0ma9X\naX/8VN0CF9YtZLiimhVd56mq7qZWWl08GhhFz3gPWutay12UOKnq4bZn2/DBP/4gBpwDODx6GKPB\nUaxduDauxerMRWdW7Yyv6VizuFrjU2NjUaM3K30uX6wrmM/tM8feRbtKG9KALnXohh63r+oqIrq5\n+HREj0A11NjnW7OGQtgWT7ctSC2EiFsPcK5mh52vKqGLY6KkFrdtbNmi0mHYKkBADeDVk6/O6Z3G\naXUaj735GB7qfgg94z34wNoP4Mb1N2Jj28aUF4lKrNwSJYYrn8sXm6KW4YrmA4at2Xtl+BUA5nT8\nleSvv/rX+M3i3yT1MDj98On49Bc+jQ2LN9TM+FkgfnxpRI/ExioCgFM4Y+NprPX6rFlRiz2Rj5Qy\nLpTZg5o1EZGqq7F96zEuACYEtcRWNCusWYuzU/XhmC2aSwxbBZirtbV0Q8eB4wfw6+5f47/e/i9c\n3H4xblx/I7Z0bqm6IGKtRxXRI7ELMMMVzXcMW7NTiYvKnwycxMNHHsaO7+xA+PJw0uvVOnbWvqRF\nxIjEdfeT0lwA3ZpZrs5dFxeoqmFJBEMaSa1n1mOs9SzamqYaaqx1DYj9P56ZKdYW0uzdG2P7bEmr\nCNZshNPhaex7YF/V1cVUPSq/BqwwuqGXfG2tt8bfwkOHH8LDRx/GorpFuHH9jfiby/8GC+uqY7HO\n2N1DTY1NVe5xetDsbUazt9mcqpxrEhHRLJ0KnaqIliFVV/HksSex8/BOvDD0Aq5acxXOX3E+9qv7\nq2rsbC7d/eyzwLkd7th0+9W+xplDOOBw5v872AOaFdisfXs3x9ijHkFAD8CAASHN1j+rNc1aH1FA\nxAWzxNBGxbGqYxW+te1b5qLGDywrd3GohvHbbp6m1WkY0ih6hTcRnsCjbzyKh7ofwoB/ANetuw4/\nue4nOHPRmUX9OcWWKli5nW40eZvQ0mS2WHmd3nm19g0RlZ4hDQz6B8s2A6GUEq+efBU7u3fiP974\nD6xfvB43rr8R37/m+6h316N/beqxs5kmBphLid24gZnufi3eFjR4Gkra3a9WOB1OOOGEG/ld46y1\nFhNb0+yBN2KYrWm6oUM1zGUlYmPSgFh3R2vfgAGncMLlcMHlcMHpcPKmJlEFYDfCPBVzbS3N0LCn\ndw92du/E/v79uLzzctyw/gZsXrW5IivIjMHKy2BFlC92IyzcRHgCR0aPzHkXwpHACB4+8jB2du9E\nWAvjxg034vp116O9uT3p3EoaOxvRI7Ev68BMN+5mX3Os3q7E6w7Fs49JS9X10VrrL6yFoWgKFEMx\nx89FuzlKyFgIczlcsYlC5qvJ8KTZstW0rOrqYqoeJQ9bQohrAHwfgAPAP0kpv5PinK0AvgfADWBE\nSnlFinPKfoEv1tpa3aPdeKj7ITxy9BGsal6FG9bfgGvPuBYtvsqZupjBiqj05ipsFasejp5X9roY\nAI6MHkFIC83JovKqruL3x36PnYd34vmh5/HeNe/FH2z4A1yw/IKKbe1RdRWKpsyEK7cPC7wcIzvf\nWNOd2ycwCUfCCGmhWCjTDC0WxKzxZ4mtY9XeTTQdhi2aCyUNW0IIB4CjAN4DYADAQQB/JKXstp3T\nAmA/gPdJKU8IIRZLKUdTfFbZL/AnAyfx9sTbaPXlP8XwWHAMjxx9BA91P4SJ8ASuX389blh3A1Yv\nWF2CkuYnMVgBgMfpiQUrn8sHn8vHYEVUZHMRtopZD0fPLXtdrGgKXhx6saStWondBNctWoebNtyE\nq9ZchQZPQ8l+bqGsFg3d0CEg4HV7sahuEZo8Tah317P+prQSx+qpugpFVxCKhKBo5rqABszxe9b/\nfSFEXOuYy+Gq2BsPmTBs0VwodZ+BiwC8IaXsBQAhxM8BXA+g23bOfwfwoJTyBACku8CXm5QSg9OD\ned1FVXUVu97ehZ3dO3HwxEFcufpKfGnzl3Bx+8Vlu0ukGzoUXYGiKbE7WbFg1cRgRVSDaqYetkyE\nJ8yZ30pgJDCCR44+gp2HdyKoBXHj+hvx4B8+mLKbYDlZ4cqQBqSUqHPXYVnjMnMSIlcd63DKmUM4\n4HF6MrZ26oYet/h0RI8gFAkhrJutZEElCEMasf+XUkg4YE7o4Xa4zbFtnIWR5qlSh62VAPptz4/D\nvPDbnQnALYR4CkAjgB9KKf9ficuVt2AkiJAawsL6+BkBrT75w9PDWNq4FJ/75Ocw4ZvAQ90P4dE3\nHsXahWtxw/obcNdVd835QG4pJUJaKC5YuZ1uNHubsbJpJYMV0fxQM/UwYNZrA/6BorYuqbqKp449\nhZ3dO3Fo8BDeu+a9+Ma7v4ELVlxQMd2n7C1XAFDvrsfyxuVo8jYxXFHJOR3m2C4v0q9nZ19nzWoh\nC2khhCNhKLoCv+YHwKnyaf6phNGwLgDnA7gSQAOAp4UQT0sp3yxvseKNBcfgcsb/ccUtircCgAo8\ndttjWPzuxfjw5g/jl3/4S6xqLs9g6LAWRjASxELfQgYrIsqmKuphwJwRVtXVWYctKSVeG3kNOw+b\n3QTXLlqLm9bfhO++77sV0U1Q1VWEIiGztUAI1LvqsaJxBRq9jah313MyC6o4VrdCn8uX9pzE6fHz\nnSrfPvuifar8xMWm7YGNqNxKXVufANBhe94ePWZ3HMColDIMICyE2A3gHQCSLvLbtm2L7W/duhVb\nt24tcnFTS7e21g9+/IOZaX0BwANoWzRsGtmEz1702TkpWyLd0DGlTMHn9uGstrPQ5G0qSzmIKNmu\nXbuwa9euuf6xRa2HgfLVxYDZzW82N41SdRMs540xwAx+9m6BANDoacTKppVmy5W7juGKaoK1nlmx\np8pXdTXuMWJEEFZtU+Vbw0wFAAkcevoQDj19CLqhY1H9oqL/nkR2pZ4gwwngCMyB2YMAngXwUSnl\nYds56wHsAHANAC+AZwB8REr5esJnlW1Qdrophm/+3M149sxnk86/+I2L8bMf/GyuihczrU4jokfQ\n0dKBpY1LeUeHqMLN0QQZRauHo+eWrS7WDA3PDz6PFm9LXt2KrPGzvz78a7Ob4Or34sYNN2LTik1l\nqSetcBXSQrEuVI2eRiysW4hGTyPDFVGRpJoq3x7UVF1Fi89cV44TZFCplLQ2l1LqQojPAvgdZqYc\nPiyE+KT5srxXStkthPgtgJcB6ADuTXWBL6fh6WF4Xcn9lJc2LgVUzLRsAYAKLGlYMmdlA8wvEn7F\nj0X1i9DR0pGxCZ+I5pdaqYcBc+YwSCQFrcSxs7d96ja0r2rH6yOvY2f3Tvzm6G/K2k3QHq6s503e\nJnS0dJjhylU3r9c6IioVq2uhE/z/ReXDRY2zsNbWSjXFcH9fP27665sw9a4pM3CpwKrnV+G+O++b\nk4UrDWlgSpmCS7iwZuGagqakJ6Ly4aLG+Xll+BUAiLv5FTd2NloPtx5oReuWVkSaIrhx/Y24YcMN\nZR0/G1ADaPW1YmHdQjR4GhiuiCpMNdbFVD3YTyGL8dB42u4qqzpWYeWVK7HxyEZIKbGkYQluu/O2\nOQlawUgQYS2MlU0rsbxpObucEFFNC0aCCEaCSTe+Uo2dnbhkAhve3ICffu+nZetObUgDU+EpeN1e\nnLP0nDmfjZaIiCoDv6FnIKXEUGAo7dpak+FJ9Dn6cOC7BzKuT1FMmqFhKjyFZm8zzlx6Zl7rfhER\nVatToVMpg9Pw9LA5G6ydxww75QpaoUgIIS2E9uZ2LG9czlYsIqJ5LOewJYS4DMBaKeV9Qog2AI1S\nymOlK1r5pVtby7L/+H5sWrFpToKWlBJ+xQ8JiTMWnoFF9Yu47gTRPDMf62HADE5D00MpW4cqZews\nkNCateSciphCnoiIyiun235CiC4AXwLwleghN4AHSlWoSjEWHMs4xfC+cVDnyQAAIABJREFUvn3Y\n3LG55OUIa2GMh8exsH4hzlt2HhY3LGbQIppn5ms9DAB+xQ/d0FO2EN32qduw6vlVZuACYmNnb/vU\nbXNaxlAkhInwBFY2r2TQIiKimFz7WNwI4EMAAgAgpRwAUNMLOFlra6W7YEopsbdvLy7ruKykZRgP\njUNC4qy2s7BmwRouSkw0f827etgyND2UckZYwBw72/WFLtQ9W4eLj16M60avm7NJigCzNcsa23vO\nknOwsnkll90gIqKYXLsRqlJKKYSQACCEqPlbdn7Vn7HPf89ED4QQWNO6piQ/n2tmEVGCeVcPA4Ci\nKZgIT6ScEdbyhvEGPvTJD+GbV3xzDks2Mzaro7kDy5qWsZ4mIqIkuV4Z/k0I8Y8AWoUQfwHgCQA/\nKV2xyi/d2lqWvX17sXnV5qJ351N1FWPBMTR6GnHesvOwvGk5L+BEBMzDehgwF5XPZnfvbmzp3DIH\npTEltmataF7BepqIiFLKqWVLSnm3EOIqAFMA1gH4hpTy8ZKWrIxyuZO6t28v/mDDHxTtZ9rXzNrQ\ntoFrZhFRnPlWDwNmd+1B/2DGadMDagAvDb+EH7X/aE7KFIwEEY6E0dHC1iwiIsoua9gSQjgBPCGl\nvAJATV/YLdnupKq6ikMDh3D3VXcX5ecF1ABUXcWKphVcM4uIkszHehgwu1MruoJ6T/olLg6cOIBz\nlpR+HStDGpgMT6LB04Bzl53LZTeIiCgnWb/VSyl1IYQhhGiRUk7ORaHKSUqJoemhjDNJHRo4hLUL\n16LF1zKrn2VfM2vd4nW8eBNRSvOtHraMBEayTgq0p3dPybsQWq1Zna2dHENLRER5ybUJZRrAK0KI\nxxGdCQsApJSfK0mpyigYCSIUSb+2FgDs7Z/dLIRcM4uICjBv6mHAvBk1GhpFizf9TS0pJXb37saP\nP/jjkpRBN3RMKVNszSIiooLlGrZ+Hd1q3mhwNOud1L19e9H17q6CPj+shRGMBLGkYQlWNa/iVO5E\nlKt5Uw8DwGR4ElLKjDeieiZ6oEsdaxeuLfrPD0aCUDSFM8ISEdGs5DpBxv8VQngAnBk9dERKGSld\nscrDWlur2duc9pyRwAgG/YM4d+m5eX/2lDIFn9uHs9rOQpN3XiyPQ0RFMl/qYcuAfyBrS9Ke3j3Y\n0rGlqD0DrLq60dOIM5eeydYsIiKalZzClhBiK4D/C+BtAALAKiHEn0opd5euaHMv29paALCvfx8u\nab8kr0ksrDWzTms9DW0NbbxDSkR5my/1MGC2KgUjwYwzwgJm2PrI2R8p2s+1JitiaxYRERVLronh\nuwDeJ6U8AgBCiDMB/CuAC0pVsHIYnh5Gnasu4znW+lq5UHUVfsWPRfWL0NnSmXHdLiKiLOZFPQwA\np0KnsgadUCSE54eexw+u/cGsf55u6JhUJtHkacL6xetR5858HSAiIspVrmHLbV3gAUBKeVQIUVOD\njXJZW8uQBvb378fnL/l8xs/imllEVAI1Xw8DZv05ND2UdSr3Z048g7Pbzp71lO9Wa9bq1tVY0rCE\nkxUREVFR5Rq2nhNC/B8AD0SffwzAc6UpUnlkW1sLALpHu9HkbUJ7c3vacwJqAIqmoL2lHcsal3HN\nLCIqlpqvhwHAr/ihGzqcDmfG83b37sblnZcX/HOs1qxmTzNbs4iIqGRyTQL/A8BnAFhTDO8BcE9J\nSlQGUkoM+gczrq0FmF0IL+9IfXGP6BH4FT/XzCKiUqnpetgyND2UU5frPX17sOPaHQX9jGl1Gpqu\nsTWLiIhKLtew5QLwAynl3wOAEMIJoGYGIAUjQSi6gnpP5oC0t28v/uydf5Z0XNVVBCNBrplFRKVU\n0/UwkFt3bgB4e+JthLUw1i1al9fnW61ZLd4WrG5bDZ/LN5viEhERZZXrVEtPArD3sagD8ETxi1Me\no8HRrN39AmoAr5x8BReuuDDptbAWxsqmlVjcsJhBi4hKpabrYSC37txAtAthx+V51bfT6jSmlCms\nWbAG6xevZ9AiIqI5kWvY8kkpp60n0f2a6Cdnra2VrQvhwYGDOGfJOSnP0w191oO0iYiyqNl6GJjp\nzp1LXbq7dze2dG7J6XN1Q8ep4CnUuerwjmXvYLdBIiKaU7mGrYAQ4nzriRBiE4BQaYo0t/yqH1LK\nrNMM7+3bi8s6Lkv5moDgXVIiKrWarYcBs+VJ0RW4nZknWAxrYRwaPIRLV12a02f6VT/WLGRrFhER\nlUeuY7Y+D+CXQoiB6PPlAIq3kmQZDU0P5XQB3tO3B9+7+ntJx61Zs7iGFhGVWM3WwwAwEhjJGrQA\n4NkTz2LD4g1o9janPUczNEyFp9Dia8HqBRybRURE5ZOxOUcIcaEQYpmU8iCA9QB+ASAC4D8BHJuD\n8pWUoimYCE1knfL3+NRx+BU/1i9en/wZupLxok9ENBu1Xg8DZjgaDY2iwZ25OzeQvQvhtDqNaXWa\nrVlERFQRsnUj/EcAanT/XQC+CuB/AxgHcG8JyzUnJsITOfXd39e3D5euujRlV0NVU7loMRGVUk3X\nwwAwGZ6ElDKn+nhP7560YWsyPIkGdwPOXXoux2YREVFFyNaN0CmlPBXd/wiAe6WUDwJ4UAjxYmmL\nVlq5rq0FAPv69+HK1Vem/hxIrqlFRKVUs/WwZcA/kFM92jfZh+nIdMpeBoBZH3e2drI1i4iIKka2\nli2nEMIKZO8B8Hvba7mO96pIgUgAiq7A4/RkPE8zNBw4fgCbV21Oew4v7ERUQjVbDwPmOofBSDC3\nhYx79+DyjstT9jIwpAGHcMDr5PhZIiKqHNnC1r8C+C8hxL/DnPVqDwAIIc4AMJnLDxBCXCOE6BZC\nHBVCfCnDeRcKISJCiJtyLPus5LK2FgC8PPwyljctR1tDW9Jrqq6izl0Hp8NZiiISEQE1XA8DwKnQ\nqayzwVoyjddSNAUt3hZ2HSQiooqS8QonpbwDwF8DuB/AZVJKaXvfrdk+XAjhAPAjAFcDOAvAR4UQ\nSf0/ouf9HYDf5lP4QumGjpOBk7l1Iezbl3bKd1VX0erleC0iKp1arYcBszVqaHoop7W1FE3BwYGD\naad8VzSF42eJiKjiZG3akVIeSHHsaI6ffxGAN6SUvQAghPg5gOsBdCecdyuAXwG4MMfPnZUpZSqn\ntbUAc32tz1/y+ZSvRfQImn2ciZCISqsW62EA8Cv+2PIZ2RwcOIgzF52ZNlBx/CwREVWiXBc1LtRK\nAP2258ejx2KEECsA3CCl/AcAc9L/YzgwnNM4q8nwJN449QYuWHFB2nM4XouIKlxF1sOAuc5hrmsU\n7undg8s7L894DutjIiKqNJUwuPr7AOxjCNJe6Ldt2xbb37p1K7Zu3Zr3D7PW1lpYvzDruU8ffxoX\nrLgg5SQaHIxNRPnatWsXdu3aVe5ipJJzPQwUsS4OT2BB3YKczt/dtxv/673/K+Vrqq6iwd3A8bNE\nlJMKroupBomZ7v8l+HAhLgGwTUp5TfT5lwFIKeV3bOf0WLsAFgMIAPhLKeXDCZ8li1HW4elhvD3x\ndk4X+K/9/mtYu2gt/vQdf5r0WlgLw+v0Yt3idbMuExHNT0IISClL2pJUzHo4eu6c18XHp47jw7/8\nMPb92b6U3b/9ih9LG5eivbl91uUiovlnLupimr9K3bJ1EMAZQohOAIMA/gjAR+0nSCnXWPtCiPsA\nPJLqAl8M1tpauQzGllJiX/8+fPydH0/5elgLY2nD0mIXkYio2CqqHo7+vJzrYsCchfCyjsvSjrPV\nDA1NnqZiFpGIiKgoSjpmS0qpA/gsgN8BeA3Az6WUh4UQnxRC/GWqt5SyPIFIAGE9DLfTnfXcnoke\nSCmxpnVNytel5GBsIqp8lVYPAzPrHOZSFwPAnr492NKResp3ABAQHK9FREQVqeRjtqSU/wlgXcKx\nf0xz7p+VsiyjwVG4Hbld3K0p39Ot2cKLOxFVi0qqhwHg5PTJnIOWqqt49sSzuOPKO1K+bs1mmOtE\nG0RERHOp1LMRVox81tYCzCnfN3dsTvmaZmjwOD05f1kgIiKTZmgYDY2iwZ1bXXxo4BBOX3A6Ftal\nntRI0RW0+FqKWUQiIqKimTdhK5+1tVRdxXMDz+HS9tSLZ4a1MC/uREQFmAxPQkqZttdAot29u3F5\nR/op3xVN4eLyRERUseZN2BqaHsq529+hwUNYu3Bt2kAVMSIMW0REBRicHsxrvOuevj3Y0pl+vBYA\n1Hs4fpaIiCrTvAhbiqZgSplCnbsup/MzdSEEOF6LiKgQoUgIATWQ8/iqQf8gRoOjOHvJ2Slft1rI\nWB8TEVGlmhdhazw8DpF5jc441uQYqUgpISF5cSciytNYaCynrtyW3b27sbljc9rFilVdRaOnMa/P\nJCIimks1f4WSUmLIP5TzxBijwVGc8J/AuUvPTfm6qqto8jTx4k5ElAdDGhiaHsp5bS0A2N2XZbyW\nzvFaRERU2Wo+MeSzthZgdiG8ZOUlcDlSz4rPizsRUf78ih+arqVtpUqk6iqeOf5MxrClGzoavbmH\nNyIiorlW82FrNDgKj9OT8/n7+tN3IQR4cSciKsTw9DB87ty7X78w+AI6WzuxqH5RxvPYpZuIiCpZ\nTYcta22tXGe+MqSBfX37Mk6OAfDiTkSUD1VXMR4ez2sWwt19uzPOQqgZGrxOb14304iIiOZaTYet\nfNbWAoAjo0fQ5G1Ce3N7ytd1Q4fL4eLFnYgoD+Oh8bzfs7t3N7Z0pA9bYS2MZm/zbIpFRERUcjUd\ntvJZWwsw13O5bFX6LoSKrnB9LSKiPEgpMegfzGtijOHpYZycPpl2oiLAXO+wtY7jZ4mIqLLVbNjK\nd20twJwcI9N4LUXj5BhERPnId5IiwOxCeGnHpZkn05BAnSv3+p2IiKgcajZs5bu2VjASxCsnX8FF\nKy/KeF4+4Y2IaL4bCYzk3fV6T++ejF0IuZgxERFVi5oMW1a3lVzX1gKAZ088i7OXnJ31Pby4ExHl\nRjM0jARH0ODOvS6O6BE8ffzpzL0MdAXNnmYIkfsNNSIionKoybAViASg6Epe3Vb29u3NuJ6Lqquo\nd9fnvEYMEdF8NxmejLVC5eql4ZfQ3tyOtoa2tOcomsLxWkREVBVqMmwV0m1lb99ebF6Vfsp3RVPQ\n6uPFnYgoV4PTg3lN9w5kn4UQMJfpyKe1jIiIqFxqLmxphpbX2loAcGLqBKaUKWxo25Dxc5u8TcUo\nIhFRzQtFQphWpuF1efN63+7e3bi8M30vAwvHzxIRUTWoubDlV/wAkPPaWgCwr38fLl11acb3cDA2\nEVHuxkJjeXe7Phk4iRP+Ezhv2Xlpz4noEfjcPrgcrtkWkYiIqORqLmwNTQ/lfccz25TvhjTgEA54\nnfndoSUimo8MaWBoeiivtbUAsy5+V/u7MgYpRecSHEREVD1qKmyFtTCmlKm8WqA0Q8OB4wdw6apL\n056jaAqavZz5iogoF37FD03X8m7Z2t27G1s6M4/X0nQNzd7m2RSPiIhoztRU2BoP5be2FgC8MvwK\nljUuw5KGJWnPUXQFLd6W2RaPiGheGJ4ehs+dX7drzdCwv39/xllhAUBCcrwWERFVjZoJW1JKDE0P\n5bW2FpC9C6H54ch7Ri0iovlI1VWMh8dR58ovEL00/BKWNy3H0salac8xpAGnw8ku3UREVDVqJmxN\nq9NQdTWvtbUAc3IM3kklIiqO8dA4AOTd7XpP756sdTG7dBMRUbWpmbA1GhzNO2hNhidxdOwozl9+\nftpzInoEPhdnviIiykZKiUH/YN4TYwC5jddSNHbpJiKi6lITYauQtbUA4MDxA7hgxQUZ14FRdAUt\nPl7ciYiyCUQCCOvhvG98jQZH0TfZh3cue2fG8yRk3l3FiYiIyqkmwlYha2sB5nitzas2ZzwnYkR4\nJ5WIKAcjgRF4nJ6832dN+Z5LSMt3LBgREVE5lTxsCSGuEUJ0CyGOCiG+lOL1/y6EeCm67RVCnJPv\nzxj0D+Y9pkpKib39e7OOEYAEFzMmoqo2F/WwZmgYCY4UNJnQnt49uLwzc12s6irq3fV5TydPRERU\nTiUNW0IIB4AfAbgawFkAPiqEWJ9wWg+ALVLKdwD4WwA/yednhLUw/Ko/70B0bOIYpJRYs2BN2nOk\nlIBAxm6GRESVbC7qYcAcAyulzLuHgW7o2Nu/N6fxWq0+LmZMRETVpdQtWxcBeENK2SuljAD4OYDr\n7SdIKQ9IKSejTw8AWJnPDyhkbS0g2oWwY3PGWa1UXUWzpznvLw9ERBWk5PUwAAxODxbUqvXKyVew\npH4JljUuy3ieLnU0eZvy/nwiIqJyKnWKWAmg3/b8ODJfxD8B4LFcP7zQtbUAYF/fvqzra4W1MO+k\nElG1K2k9DAChSAjTynRBvQB29+7O2oUQMOt7jtciIqJqUzFNNkKIKwB8HEDSeIJ0Cl1bS9VVHBw4\niHe1vyvjeYY0OPMVEc0bhdTDADAWGit4LNWevuzjtXRDh8vhKmjyDSIionIq9eJRJwB02J63R4/F\nEUKcC+BeANdIKcfTfdi2bdti+1u3bkXHuR15By0AODR4CGcsPCNrq5UQgpNjEFHR7Nq1C7t27Zrr\nH1vUehiIr4u3vHsLmtc1F7S21qnQKfSM9+CC5RdkPM9agoOLGRNRMZSpLqZ5SkgpS/fhQjgBHAHw\nHgCDAJ4F8FEp5WHbOR0AngRws5TyQIbPkvayaoaGQwOH0OJryXtM1d3774bH6cHnLv5c2nM0Q4Oi\nKXjn8szrvhARFUoIASllSRNEMevh6LlxdfFkeBLdo91YULcg77I9fORh/Oeb/4l7PnBPxvPGQ+M4\nfcHpWNywOO+fQUSUzVzUxTR/lbQboZRSB/BZAL8D8BqAn0spDwshPimE+MvoaV8HsBDAPUKIF4QQ\nz+by2VPhKQghCpq8wpocIxNFU9Dsbc77s4mIKkkp62EAGJ4eLnjG1t29u7POQggAAiLv5T2IiIgq\nQUlbtoop8W7q6ydfhya1vLv5jQZHce0/X4un//xpuBzpe1HyTioRlVo13k2118WqruKFwRfQ6mvN\nu4ufIQ1s/ulm/OrDv8LK5vTzdUgpMRGewKYVm7jGFhGVRDXWxVQ9KmaCjHyEtTCm1KmCxlPt69+H\ni1denDFoAbyTSkSUzXjIHNpVyFiqV0++igW+BRmDFgBEjAgaPY0MWkREVJWqMmyNh8bhFIVdePf2\n7c065TsASEhOjkFElIaUEoP+wYJnbM21CyGX4CAiompWdWFrNmtrGdLA/v79WcdrqbqKBncD76QS\nEaURiAQQ1sMFT8e+p3dPTmFLN/SCZjokIiKqBFUXtqbVaSiakrUbYCpHRo+g0d2IVc2rMp6naApa\n63gnlYgonZHASMFBazw0jjdOvYFNKzbldD67dBMRUbWqurA1EhiBx1XYBX5vf25dCHXJO6lEROlo\nhoaR4Ajq3fUFvX9//35ctPKirGFNMzR4nB4uZkxERFWrqsKWZmgYDY2iwV3YGIFcpnwHzK6KdS7e\nSSUiSmUyPAkpZUFLbwDmeK3LOy/Pep6iKWjxthT0M4iIiCpBVYUt6wJfyMxXwUgQLw+/jItXXpzx\nPEMacDqcvJNKRJTG0PRQwa1ahjSwpy+38VqqobJLNxERVbWqCltD00MF990/eOIgzl5ydtaJNaw7\nqYUEOiKi+cCv+AteyPjwyGE0e5uzjp0FzCU4OCssERFVs6oKW9PqdMEX3j19e3DZquzjtRSd3VaI\niDKZzc2o3X25dSGUUnIJDiIiqnpVFbZmY1//vtzW15IS9Z7CuscQEVFmu3t3Y0tHDl0IdRXNnuaC\nx4URERFVgnlxFRvwD2AiPIENbRtyOp93UomIim8yPIkjo0dw0cqLsp7LxYyJiKgWzIuwtbdvLy5d\ndWnWO6QRPQKf21fQGl5ERJTZ/uP7sWnFppzGexnS4BIcRERU9eZN2Lq8I4dphnUFrV7eSSUiKoXd\nvbtzqosBTo5BRES1oebDlmZoOHD8AC5ddWn2c3UNzd7mOSgVEdH8IqXEnt7cpnyP6BF4XV64ne45\nKBkREVHp1HzYevXkq1jWuAxLGpbkdD7vpBIRFV/3aDfq3fXobO3Meq6iK2jxcVZYIiKqfjUftvb2\n7cXmjs1Zz5NSAoJhi4ioFHJdyBgwexlwCQ4iIqoF8yJs5Tpeq9nTzMWMiYhKIJ/xWlxfi4iIakVN\nh60pZQpHx47iguUXZD1X0dhthYioFPyKH6+NvJbTlO+GNCAEJ8cgIqLaUNNh6+n+p3H+8vNzmmZY\nQqLB0zAHpSIiml/29+/H+cvPR527Luu5iqagxdvCXgZERFQTajps7evfh8s6LsvpXCkl6lzZvwgQ\nEVF+8hmvpegKFzMmIqKaUbNhS0qJvX17cwpbmqHB4/RwmmEioiKTUuY3XkuylwEREdWOmg1bxyaO\nQZc6Tl9wetZzrW4rRERUXEfHjsLtdGN16+qczud4LSIiqiU1G7b29ZldCHPp96/qKhczJiIqgd19\nu7Glc0vOdbHP5YPL4ZqDkhEREZVezYatvX17sXlV9vW1LPWe+hKWhohoftrTuwdbOnIbr6XqKlq9\nHK9F9P/bu/sYuar7jOPfx16vwazt2gmGyDYYbLcuGGpSsq6wA5YQDiQVRqhJoU1pUgK0CW5UUhUi\ntaU0fYFGSZWKViRAEImSWlGrYieQQJLGxSbxS+sXzLtNAL8AJglGAYy93tlf/7hn7fEyszvr3Zk5\nMzwfaeSZu2fufeas53f33Dlzr5m1j7YcbPWUetj44kbOm3nekG0jAvDFjM3MRtsbPW+w7ZVtLJyx\nsKb2h0qHmHScZxmYmVn7aMvB1qaXNjF76uyazmh1qO8QXZ1djFFbdoWZWdOs272OBScvYMK42mcO\n+KywZmbWTtpyhFHrWQjBFzM2M6uXh194uOYphH3RR8eYDjrHdtY5lZmZWePUfbAl6WJJT0l6RtKN\nVdr8i6TtkrZIWjDSbQ7n+lq9fb1M7Jw40k2amWWrGXU4IoZ1fa0DvQeYNH6SL2ZsZmZtpa6DLUlj\ngNuBDwBnAldKmjegzSXA7IiYC1wH3DGSbf58/8/Z/cvdnD3t7Noy4tMMm1n7akYdBnh237MAnD7l\n9Jra9/T2+GLGZmbWdur9yVY3sD0iXoiIQ8AKYNmANsuArwFExHpgsqSTjnWDP971YxZOX1jTBYpL\nfSXGjhnL+I7xx7o5M7PcNbwOA4cvZFzrJ1VBDOu7XWZmZq2g3oOt6cCusse707LB2uyp0KZma3eu\nZdEptZ3y/WDpoK+vZWbtruF1GNL3tWqcQtjPswzMzKzdtNSVI+/84p2Hz1TVvaibhYuPPp1wX/Tx\nyK5HWL5weU3r6+ntYfrEEf09YWZWs9WrV7N69epmxxixoWrxmz1vsnXvVm6fcXtN6+sp9XDCuBMY\nO2bsqGc1MxuoXWqxtYZ6D7b2AKeUPZ6Rlg1sM3OINgBcc8M1TDl+StWNPfOLZ+ga18XMSTOrtjmK\n4PhxPs2wmTXGkiVLWLJkyeHHt9xySyM2O6p1GIauxev3rOesaWfR1dlVU8CDvQc5qWtEsxbNzGrW\npFps71D1nka4EZgj6VRJncAVwKoBbVYBVwFI+i3gtYjYeywbW7NzTc1TCPt52oqZtbmG1mEY/hRC\nnxXWzMzaVV0HWxFRAq4HHgIeB1ZExJOSrpN0bWrzAPCcpB3Al4FPHuv2HtlZ+ynfe0o9HNdxHB1j\nWmompZnZsDS6DkfEMX1fy7MMzMysHdV9pBER3wN+bcCyLw94fP1It7P/0H627t1K9/Tumtr3lHp4\n1/HvGulmzcyy16g6DPDca89RihJzp86tqX2pr8S4seN8MWMzM2tLdb+ocaNs3LOR+SfOr/k7Ar2l\n3lE9E2HOX7TMORs430jknA3yzpdztlY23FO+H+g9wOTxk0dl27n/Tp3v2OWcDfLOl3M2yD+f2Ui1\nzWBr7a61NU8hhOKaLqM5bSXnYpFzNnC+kcg5G+SdL+dsrWzNC2uGNYWwp9TjwVYmcs6XczbIO1/O\n2SD/fGYj1T6DrWFcXysikMT4sb6YsZnZaHnr0FtsenkT5808b1jPm9DpixmbmVl7aovB1ouvv8i+\nt/Zxxoln1NT+YOkgk8dPrnmai5mZDW3Dng3Dms7df+DLZ4U1M7N2pYhodoaaSGqNoGZmwxARLXXU\nx7XYzNpRq9Viax0tM9gyMzMzMzNrJW0xjdDMzMzMzCw3HmyZmZmZmZnVgQdbZmZmZmZmddASgy1J\nF0t6StIzkm7MIM/zkrZK2ixpQ1o2RdJDkp6W9KCk0blwTG157pa0V9KjZcuq5pH0WUnbJT0paWmT\n8t0sabekTel2cTPySZoh6b8lPS5pm6Q/Tcub3n8Vsi1Py3Ppu/GS1qf3weOS/iEtz6HvqmXLou9a\nUW51GFyLRyFbFu+HnOtwlXzZ1OKc6/AQ+Zred2YNExFZ3ygGhDuAU4FxwBZgXpMz/RSYMmDZbcBf\npPs3Arc2MM9iYAHw6FB5gDOAzUAHMCv1rZqQ72bghgptf72R+YCTgQXpfhfwNDAvh/4bJFsWfZe2\nOSH9OxZYByzKoe8GyZZN37XSLcc6nHK5Fo8sWxbvh5zr8BD5cum/bOvwIPmy6DvffGvErRU+2eoG\ntkfECxFxCFgBLGtyJvH2TwWXAfem+/cClzUqTESsBfbVmOdSYEVE9EbE88B2ij5udD4o+nGgZTQw\nX0S8HBFb0v03gCeBGWTQf1WyTU8/bnrfpVz7093xFO+JfWTQd4Nkg0z6rsXkWIfBtXik2SCD90PO\ndXiQfNnU4pzr8CD5IIO+M2uEVhhsTQd2lT3ezZEi1ywBfF/SRkmfSMtOioi9UBRmYFrT0hWmVckz\nsD/30Lz+vF7SFkl3lU1xaFo+SbMojvyuo/rvsyn5yrKtT4uy6DtJYyRtBl4GVkfEE2TSd1WyQSZ9\n12JyrMPgWjwasno/5FyHB+TLphbnXIcHyQcZ9J1ZI7TCYCtHiyJVJrfbAAAHWElEQVTivcAHgU9J\nej/FTr9cbhcwyy3PvwGnR8QCigL8hWaGkdQF/Afw6XTkMpvfZ4Vs2fRdRPRFxDkUR6HfL2kJmfTd\ngGznS7qAjPrORoVr8chk9X7IuQ5DvrU45zoMrsVmrTDY2gOcUvZ4RlrWNBHxUvr3Z8B9FB9x75V0\nEoCkk4FXmpcQBsmzB5hZ1q4p/RkRP4uI/uJ/J0emCTQ8n6QOih3o1yNiZVqcRf9VypZT3/WLiF8C\nDwDnkknfDch2P3Bujn3XIrKrw+BaPFI5vR9yrsPV8uXUfylPtnW4LJ9rsb3jtMJgayMwR9KpkjqB\nK4BVzQojaUI6uoWkE4ClwLaU6WOp2R8CKyuuoI7ROHr+c7U8q4ArJHVKOg2YA2xodL5U/PtdDjzW\nxHxfBZ6IiC+VLcul/96WLZe+k/Tu/qkfko4HLqL4YnPT+65Kti259F0LyqoOg2vxaGTL7P2Qcx2u\nmC+H/su5Dg+Sz7XY3lmqnTkjpxtwMcXZf7YDNzU5y2kUZ+LaTLFjvyktnwr8IOV8CPiVBmb6JvAi\ncBDYCXwcmFItD/BZijP8PAksbVK+rwGPpr68j2J+ecPzUZwVqVT2O92U/r9V/X02Kt8g2XLpu7NS\nps3AVuDPh3ovNLDvqmXLou9a8ZZTHU55XItHni2L90POdXiIfE3vv5zr8BD5mt53vvnWqJsicpo+\nbmZmZmZm1h5aYRqhmZmZmZlZy/Fgy8zMzMzMrA482DIzMzMzM6sDD7bMzMzMzMzqwIMtMzMzMzOz\nOvBgy8zMzMzMrA482LK3kdQn6fNljz8j6a9Had33SLp8NNY1xHZ+R9ITkn5Ytmy+pM2SNkn6haSf\npscPDXPd300XUR2szd9JuuBY8w9Y125JW9PtAUnvHoV8H5c0bTTymdnocx0ect2uw2bWEjzYskoO\nApdLmtrsIOUkjR1G86uBT0TEhf0LIuKxiDgnIt4LrKS4uOI5EbF0ONuJiEsi4s0h2vxlRPzPMPIO\npg9YHBG/Qbp460jzAX8EvGeU8pnZ6HMdHoTrsJm1Cg+2rJJe4CvADQN/MPCIqKTX078XSFot6T5J\nOyTdKumjkjakI4Gnla3mIkkbJT0l6UPp+WMk/ZOk9ZK2SLqmbL0PS1oJPF4hz5WSHk23f0zL/gpY\nDNwt6bYqr1ED1nOhpB9J+jbFVe2RtCrl3Cbp6rK2uyRNkjQ7/ewuSY9Jul9SZ2rzdUmXlrW/OR3J\n3SJpTlp+oqQfpHXckY6cTqqStT/vw0D/8z9a9tr/vtZ8kj4CLABWpEwdkj6f2mzp70czayrXYVyH\nzaz1ebBllQTwr8DvS5pYQ9t+ZwPXAmcAfwDMiYhu4G5geVm7UyPifcBvA3ekHePVwGsRsRDoBq6V\ndGpqfw6wPCLmlW9Y0nuAW4ElFDutbkmXRsTngP8Ffi8ibhzG6/5N4I8j4sz0+KqUsxu4QdLkCq/5\nV4EvRsR84ABwWZV1v5SO5N7NkT+e/hb4bkScBXybIY5wShJFn22TNB34HHABRf8skvTBWvJFxLeA\nLcBHUqapwCURMT8iFgDeyZs1n+twwXXYzFqaB1tWUUS8AdwLfHoYT9sYEa9ERA+wA3gwLd8GzCpr\n9620jR3As8A8YClwlaTNwHqKHc/c1H5DROyssL33AT+KiFcjog/4BnB+2c9V4TmD+UlE7Cl7/BlJ\nW4CfANOB2RXWuyMinkj3/4+jX2e5/6rQZjGwAiAi7gdeHyTbGmATcBxwG7AQ+GFE7IuIEvBNjrz2\nWvP1t3sVKEn6iqTLgP2D5DCzBnEdBlyHzazFdTQ7gGXtSxQ7lnvKlvWSBunpCF9n2c8Olt3vK3vc\nx9H/18qP+Ck9FsVR0++XB1Dx5ebB5r0Pd0c+mMPbkXQhxU64OyJ6JK2h2MEOVP6aS1R/Tx2soU21\n1xIU3xU4/EdA0fU1vfYh80VEr6RzgYuADwN/AnyghnWbWf25DrsOm1kL8ydbVokAImIfxdHPq8t+\n9jxwbrq/DBh3DOv/sAqzgdOApymOvn5SUgeApLmSJgyxng3A+ZKmqvgy9ZXA6mPIU8lk4NW0gz+T\n4uhtJSP5I2Mt8LsAaepJ1yDbGLid9cASSVNSn11B5ddeLd/rwKS07S5gckQ8QDG1ZsEwXoOZ1Yfr\nsOuwmbUBf7JllZQf8fwC8KmyZXcCK9M0kwepfrQzqiwH2Emxg54IXJd2pHdRTK3YlI7UvkL1effF\nBiJelnQTR3Zu34mI79Sw/Vp+fj/F9xUeo/gjZF2V51ZbTy1t/gb4hqSPAY9QvOZK/fm250fEnvQF\n9P4zba2KiO8NY9v3AHdJ2g9cCvynpPEUfxT8WZXnmFnjuA67DptZG1DEULXOzOoh7VR7I6IkaRHw\nz+mL7GZm1gCuw2ZWb/5ky6x5ZgH/nqbeHACua24cM7N3nFm4DptZHfmTLTMzMzMzszrwCTLMzMzM\nzMzqwIMtMzMzMzOzOvBgy8zMzMzMrA482DIzMzMzM6sDD7bMzMzMzMzq4P8B/LHXSZhjKe8AAAAA\nSUVORK5CYII=\n",
      "text/plain": [
       "<matplotlib.figure.Figure at 0x107ae35d0>"
      ]
     },
     "metadata": {},
     "output_type": "display_data"
    }
   ],
   "source": [
    "# Produce learning curves for varying training set sizes and maximum depths\n",
    "vs.ModelLearning(features, prices)"
   ]
  },
  {
   "cell_type": "markdown",
   "metadata": {},
   "source": [
    "### Question 4 - Learning the Data\n",
    "*Choose one of the graphs above and state the maximum depth for the model. What happens to the score of the training curve as more training points are added? What about the testing curve? Would having more training points benefit the model?*  \n",
    "**Hint:** Are the learning curves converging to particular scores?"
   ]
  },
  {
   "cell_type": "markdown",
   "metadata": {},
   "source": [
    "**Answer: ** For max_depth=3, the score of the training curve decreases as more training points are added, the score of the testing curve increases as more training points are added. More training points should benefits the model at first, but the marginal benefit of adding new data becomes closer to zero when the number of training points is larger than 300."
   ]
  },
  {
   "cell_type": "markdown",
   "metadata": {},
   "source": [
    "### Complexity Curves\n",
    "The following code cell produces a graph for a decision tree model that has been trained and validated on the training data using different maximum depths. The graph produces two complexity curves — one for training and one for validation. Similar to the **learning curves**, the shaded regions of both the complexity curves denote the uncertainty in those curves, and the model is scored on both the training and validation sets using the `performance_metric` function.  \n",
    "\n",
    "Run the code cell below and use this graph to answer the following two questions."
   ]
  },
  {
   "cell_type": "code",
   "execution_count": 8,
   "metadata": {
    "collapsed": false
   },
   "outputs": [
    {
     "data": {
      "image/png": "iVBORw0KGgoAAAANSUhEUgAAAb4AAAFRCAYAAAALn8i+AAAABHNCSVQICAgIfAhkiAAAAAlwSFlz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\nTkSuQmCC\n",
      "text/plain": [
       "<matplotlib.figure.Figure at 0x10c6da490>"
      ]
     },
     "metadata": {},
     "output_type": "display_data"
    }
   ],
   "source": [
    "vs.ModelComplexity(X_train, y_train)"
   ]
  },
  {
   "cell_type": "markdown",
   "metadata": {},
   "source": [
    "### Question 5 - Bias-Variance Tradeoff\n",
    "*When the model is trained with a maximum depth of 1, does the model suffer from high bias or from high variance? How about when the model is trained with a maximum depth of 10? What visual cues in the graph justify your conclusions?*  \n",
    "**Hint:** How do you know when a model is suffering from high bias or high variance?"
   ]
  },
  {
   "cell_type": "markdown",
   "metadata": {},
   "source": [
    "**Answer: ** When the maximum depth is 1, the model suffer from high bias. When the maximum depth is 10, the model suffers from high variance. The visual cues are when the maximum depth is 1, the training score and testing score coverages at 0.4 which is very low, and when the maximum depth is 10, the training score and testing score has a large gap and the traing score is almost 1, this 2 facts together implies overfitting."
   ]
  },
  {
   "cell_type": "markdown",
   "metadata": {},
   "source": [
    "### Question 6 - Best-Guess Optimal Model\n",
    "*Which maximum depth do you think results in a model that best generalizes to unseen data? What intuition lead you to this answer?*"
   ]
  },
  {
   "cell_type": "markdown",
   "metadata": {},
   "source": [
    "**Answer: ** max_depth =4; Because the best model that generalizes the dataset is the max_depth where the maximum validation R^2 is met which equals to 4 depending on the complexity curve we have above."
   ]
  },
  {
   "cell_type": "markdown",
   "metadata": {},
   "source": [
    "-----\n",
    "\n",
    "## Evaluating Model Performance\n",
    "In this final section of the project, you will construct a model and make a prediction on the client's feature set using an optimized model from `fit_model`."
   ]
  },
  {
   "cell_type": "markdown",
   "metadata": {},
   "source": [
    "### Question 7 - Grid Search\n",
    "*What is the grid search technique and how it can be applied to optimize a learning algorithm?*"
   ]
  },
  {
   "cell_type": "markdown",
   "metadata": {},
   "source": [
    "**Answer: ** Grid search is a way of systematically working through multiple combinations of parameter tunes, cross-validating as it goes to determine which tune gives the best performance. Firstly, it generates a grid of parameter combinations to try. Secondly, the fit function now tries all the parameter combinations, and returns a fitted classifier that's automatically tuned to the optimal parameter combination. There are other techniques that could be used for hyperparameter optimization in order to save time like RandomizedSearchCV, in this case instead of exploring the whole parameter space just a fixed number of parameter settings is sampled from the specified distributions. We need this technique to save time but it is not necessary in cases where the data set is relatively small."
   ]
  },
  {
   "cell_type": "markdown",
   "metadata": {},
   "source": [
    "### Question 8 - Cross-Validation\n",
    "*What is the k-fold cross-validation training technique? What benefit does this technique provide for grid search when optimizing a model?*  \n",
    "**Hint:** Much like the reasoning behind having a testing set, what could go wrong with using grid search without a cross-validated set?"
   ]
  },
  {
   "cell_type": "markdown",
   "metadata": {},
   "source": [
    "**Answer: ** Split the data set into k bins of equal size, take one of these bins as testing bins and others as training bins, then run k sperate learning experiments, and average the performances of test results from those k experiments. The benefits are grid search will run more efficiently and improves its accuracy becasuse of using cross-validated set. More specifically, the advantage of this method is that all observations are used for both training and validation, and each observation is used for validation exactly once. If we use grid search without a cross-validated set, we can't make sure if our model is adequate even if the model fits training sets pretty well."
   ]
  },
  {
   "cell_type": "markdown",
   "metadata": {},
   "source": [
    "### Implementation: Fitting a Model\n",
    "Your final implementation requires that you bring everything together and train a model using the **decision tree algorithm**. To ensure that you are producing an optimized model, you will train the model using the grid search technique to optimize the `'max_depth'` parameter for the decision tree. The `'max_depth'` parameter can be thought of as how many questions the decision tree algorithm is allowed to ask about the data before making a prediction. Decision trees are part of a class of algorithms called *supervised learning algorithms*.\n",
    "\n",
    "For the `fit_model` function in the code cell below, you will need to implement the following:\n",
    "- Use [`DecisionTreeRegressor`](http://scikit-learn.org/stable/modules/generated/sklearn.tree.DecisionTreeRegressor.html) from `sklearn.tree` to create a decision tree regressor object.\n",
    "  - Assign this object to the `'regressor'` variable.\n",
    "- Create a dictionary for `'max_depth'` with the values from 1 to 10, and assign this to the `'params'` variable.\n",
    "- Use [`make_scorer`](http://scikit-learn.org/stable/modules/generated/sklearn.metrics.make_scorer.html) from `sklearn.metrics` to create a scoring function object.\n",
    "  - Pass the `performance_metric` function as a parameter to the object.\n",
    "  - Assign this scoring function to the `'scoring_fnc'` variable.\n",
    "- Use [`GridSearchCV`](http://scikit-learn.org/0.17/modules/generated/sklearn.grid_search.GridSearchCV.html) from `sklearn.grid_search` to create a grid search object.\n",
    "  - Pass the variables `'regressor'`, `'params'`, `'scoring_fnc'`, and `'cv_sets'` as parameters to the object. \n",
    "  - Assign the `GridSearchCV` object to the `'grid'` variable."
   ]
  },
  {
   "cell_type": "code",
   "execution_count": 9,
   "metadata": {
    "collapsed": false
   },
   "outputs": [],
   "source": [
    "# TODO: Import 'make_scorer', 'DecisionTreeRegressor', and 'GridSearchCV'\n",
    "from sklearn.tree import DecisionTreeRegressor\n",
    "from sklearn.metrics import make_scorer\n",
    "from sklearn.grid_search import GridSearchCV\n",
    "\n",
    "def fit_model(X, y):\n",
    "    \"\"\" Performs grid search over the 'max_depth' parameter for a \n",
    "        decision tree regressor trained on the input data [X, y]. \"\"\"\n",
    "    \n",
    "    # Create cross-validation sets from the training data\n",
    "    cv_sets = ShuffleSplit(X.shape[0], n_iter = 10, test_size = 0.20, random_state = 0)\n",
    "    # TODO: Create a decision tree regressor object\n",
    "    regressor = DecisionTreeRegressor(random_state=0)\n",
    "\n",
    "    # TODO: Create a dictionary for the parameter 'max_depth' with a range from 1 to 10\n",
    "    ran = [1,2, 3, 4, 5, 6, 7, 8, 9, 10];\n",
    "    params = {'max_depth': ran};\n",
    "    # TODO: Transform 'performance_metric' into a scoring function using 'make_scorer' \n",
    "    scoring_fnc = make_scorer(performance_metric, greater_is_better=True)\n",
    "\n",
    "    # TODO: Create the grid search object\n",
    "    grid = GridSearchCV(regressor, params, scoring=scoring_fnc, fit_params=None, \n",
    "                         n_jobs=1, iid=True, refit=True, cv=cv_sets, verbose=0, \n",
    "                         pre_dispatch='2*n_jobs', error_score='raise');\n",
    "    # Fit the grid search object to the data to compute the optimal model\n",
    "    grid = grid.fit(X, y)\n",
    "\n",
    "    # Return the optimal model after fitting the data\n",
    "    return grid.best_estimator_"
   ]
  },
  {
   "cell_type": "code",
   "execution_count": null,
   "metadata": {
    "collapsed": true
   },
   "outputs": [],
   "source": []
  },
  {
   "cell_type": "code",
   "execution_count": null,
   "metadata": {
    "collapsed": true
   },
   "outputs": [],
   "source": []
  },
  {
   "cell_type": "code",
   "execution_count": null,
   "metadata": {
    "collapsed": true
   },
   "outputs": [],
   "source": []
  },
  {
   "cell_type": "code",
   "execution_count": null,
   "metadata": {
    "collapsed": true
   },
   "outputs": [],
   "source": []
  },
  {
   "cell_type": "markdown",
   "metadata": {},
   "source": [
    "### Making Predictions\n",
    "Once a model has been trained on a given set of data, it can now be used to make predictions on new sets of input data. In the case of a *decision tree regressor*, the model has learned *what the best questions to ask about the input data are*, and can respond with a prediction for the **target variable**. You can use these predictions to gain information about data where the value of the target variable is unknown — such as data the model was not trained on."
   ]
  },
  {
   "cell_type": "markdown",
   "metadata": {},
   "source": [
    "### Question 9 - Optimal Model\n",
    "_What maximum depth does the optimal model have? How does this result compare to your guess in **Question 6**?_  \n",
    "\n",
    "Run the code block below to fit the decision tree regressor to the training data and produce an optimal model."
   ]
  },
  {
   "cell_type": "code",
   "execution_count": 10,
   "metadata": {
    "collapsed": false,
    "scrolled": true
   },
   "outputs": [
    {
     "name": "stdout",
     "output_type": "stream",
     "text": [
      "Parameter 'max_depth' is 4 for the optimal model.\n"
     ]
    }
   ],
   "source": [
    "# Fit the training data to the model using grid search\n",
    "reg = fit_model(X_train, y_train)\n",
    "\n",
    "# Produce the value for 'max_depth'\n",
    "print \"Parameter 'max_depth' is {} for the optimal model.\".format(reg.get_params()['max_depth'])"
   ]
  },
  {
   "cell_type": "code",
   "execution_count": null,
   "metadata": {
    "collapsed": true
   },
   "outputs": [],
   "source": []
  },
  {
   "cell_type": "markdown",
   "metadata": {},
   "source": [
    "**Answer: ** Maximum depth is 4, it is the same from my guess that maximum depth is 4."
   ]
  },
  {
   "cell_type": "markdown",
   "metadata": {},
   "source": [
    "### Question 10 - Predicting Selling Prices\n",
    "Imagine that you were a real estate agent in the Boston area looking to use this model to help price homes owned by your clients that they wish to sell. You have collected the following information from three of your clients:\n",
    "\n",
    "| Feature | Client 1 | Client 2 | Client 3 |\n",
    "| :---: | :---: | :---: | :---: |\n",
    "| Total number of rooms in home | 5 rooms | 4 rooms | 8 rooms |\n",
    "| Neighborhood poverty level (as %) | 17% | 32% | 3% |\n",
    "| Student-teacher ratio of nearby schools | 15-to-1 | 22-to-1 | 12-to-1 |\n",
    "*What price would you recommend each client sell his/her home at? Do these prices seem reasonable given the values for the respective features?*  \n",
    "**Hint:** Use the statistics you calculated in the **Data Exploration** section to help justify your response.  \n",
    "\n",
    "Run the code block below to have your optimized model make predictions for each client's home."
   ]
  },
  {
   "cell_type": "code",
   "execution_count": 12,
   "metadata": {
    "collapsed": false
   },
   "outputs": [
    {
     "name": "stdout",
     "output_type": "stream",
     "text": [
      "Predicted selling price for Client 1's home: $391,183.33\n",
      "Predicted selling price for Client 2's home: $189,123.53\n",
      "Predicted selling price for Client 3's home: $942,666.67\n"
     ]
    }
   ],
   "source": [
    "#from sklearn.neighbors import NearestNeighbors\n",
    "#num_neighbors=5\n",
    "\n",
    "\n",
    "# Produce a matrix for client data\n",
    "client_data = [[5, 17, 15], # Client 1\n",
    "               [4, 32, 22], # Client 2\n",
    "               [8, 3, 12]]  # Client 3\n",
    "\n",
    "# Show predictions\n",
    "for i, price in enumerate(reg.predict(client_data)):\n",
    "    print \"Predicted selling price for Client {}'s home: ${:,.2f}\".format(i+1, price)\n",
    "\n",
    "    \n",
    "    \n",
    "    \n",
    "#def nearest_neighbor_price(x):\n",
    "#    def find_nearest_neighbor_indexes(x, X):  # x is your vector and X is the data set.\n",
    "#        neigh = NearestNeighbors( num_neighbors )\n",
    "#        neigh.fit(X)\n",
    "#        distance, indexes = neigh.kneighbors( x )\n",
    "#        return indexes\n",
    "#    indexes = find_nearest_neighbor_indexes(x, features)\n",
    "#    sum_prices = []\n",
    "#    for i in indexes:\n",
    "#        sum_prices.append(prices[i])\n",
    "#    neighbor_avg = np.mean(sum_prices)\n",
    "#    return neighbor_avg\n",
    "#print nearest_neighbor_price( [4, 55, 22])\n",
    "#index = 0  \n",
    "#for i in client_data:\n",
    "#    val=nearest_neighbor_price(i)\n",
    "#    index += 1\n",
    "#    print \"The predicted {} nearest neighbors price for home {} is: ${:,.2f}\".format(num_neighbors,index, val)"
   ]
  },
  {
   "cell_type": "markdown",
   "metadata": {},
   "source": [
    "**Answer: ** Predicted selling price for Client 1's home: $324,240.00, Client 2's home: $189,123.53, Client 3's home: $942,666.67; Yes, because from what we have for 5 nearest neighbors prices, the predicted selling prices for 3 clients are very close to their 5 nearest neighbors."
   ]
  },
  {
   "cell_type": "markdown",
   "metadata": {},
   "source": [
    "### Sensitivity\n",
    "An optimal model is not necessarily a robust model. Sometimes, a model is either too complex or too simple to sufficiently generalize to new data. Sometimes, a model could use a learning algorithm that is not appropriate for the structure of the data given. Other times, the data itself could be too noisy or contain too few samples to allow a model to adequately capture the target variable — i.e., the model is underfitted. Run the code cell below to run the `fit_model` function ten times with different training and testing sets to see how the prediction for a specific client changes with the data it's trained on."
   ]
  },
  {
   "cell_type": "code",
   "execution_count": 13,
   "metadata": {
    "collapsed": false
   },
   "outputs": [
    {
     "name": "stdout",
     "output_type": "stream",
     "text": [
      "Trial 1: $391,183.33\n",
      "Trial 2: $424,935.00\n",
      "Trial 3: $415,800.00\n",
      "Trial 4: $420,622.22\n",
      "Trial 5: $418,377.27\n",
      "Trial 6: $411,931.58\n",
      "Trial 7: $399,663.16\n",
      "Trial 8: $407,232.00\n",
      "Trial 9: $351,577.61\n",
      "Trial 10: $413,700.00\n",
      "\n",
      "Range in prices: $73,357.39\n"
     ]
    }
   ],
   "source": [
    "vs.PredictTrials(features, prices, fit_model, client_data)"
   ]
  },
  {
   "cell_type": "markdown",
   "metadata": {},
   "source": [
    "### Question 11 - Applicability\n",
    "*In a few sentences, discuss whether the constructed model should or should not be used in a real-world setting.*  \n",
    "**Hint:** Some questions to answering:\n",
    "- *How relevant today is data that was collected from 1978?*\n",
    "- *Are the features present in the data sufficient to describe a home?*\n",
    "- *Is the model robust enough to make consistent predictions?*\n",
    "- *Would data collected in an urban city like Boston be applicable in a rural city?*"
   ]
  },
  {
   "cell_type": "markdown",
   "metadata": {},
   "source": [
    "**Answer: ** I don't think this constructed model should be used in a real-world setting, because firstly the data was collected long time ago, the data may change a lot today, Secondly, the features present in the data is far not enough for describe a home. Thirdly, the model is not robust enough to make consistent predictions, the range in the predicted prices for a specific client is 118222.22. Lastly, data collected in Boston is not applicable for another city, different cities have different conditions."
   ]
  },
  {
   "cell_type": "markdown",
   "metadata": {},
   "source": [
    "> **Note**: Once you have completed all of the code implementations and successfully answered each question above, you may finalize your work by exporting the iPython Notebook as an HTML document. You can do this by using the menu above and navigating to  \n",
    "**File -> Download as -> HTML (.html)**. Include the finished document along with this notebook as your submission."
   ]
  }
 ],
 "metadata": {
  "kernelspec": {
   "display_name": "Python 2",
   "language": "python",
   "name": "python2"
  },
  "language_info": {
   "codemirror_mode": {
    "name": "ipython",
    "version": 2
   },
   "file_extension": ".py",
   "mimetype": "text/x-python",
   "name": "python",
   "nbconvert_exporter": "python",
   "pygments_lexer": "ipython2",
   "version": "2.7.11"
  }
 },
 "nbformat": 4,
 "nbformat_minor": 0
}
